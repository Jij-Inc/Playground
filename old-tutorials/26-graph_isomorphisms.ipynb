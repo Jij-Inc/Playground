{
 "cells": [
  {
   "cell_type": "markdown",
   "metadata": {},
   "source": [
    "--- \n",
    "description: Here we show how to solve graph isomorphisms problem using JijZept and JijModeling.\n",
    "---"
   ]
  },
  {
   "attachments": {},
   "cell_type": "markdown",
   "metadata": {},
   "source": [
    "# Graph Isomorphisms problem\n",
    "\n",
    "Here we show how to solve graph isomorphisms problem using JijZept and [JijModeling](https://www.ref.documentation.jijzept.com/jijmodeling/). \n",
    "This problem is also mentioned in 9. Graph Isomorphisms on [Lucas, 2014, \"Ising formulations of many NP problems\"](https://www.frontiersin.org/articles/10.3389/fphy.2014.00005/full)."
   ]
  },
  {
   "attachments": {},
   "cell_type": "markdown",
   "metadata": {},
   "source": [
    "## What is Graph Isomorphisms Problem?\n",
    "\n",
    "Graph isomorphism is a concept that describes when two graphs $G_1$ and $G_2$ have the same structure, meaning that they have the same $N$ number of vertices and edges and that their vertices and edges are arranged in the same way.\n",
    "More carefully: identical graphs are any graph $G = (V, E)$ with vertices labeled as $1,\\cdots,N$ and with an $N \\times N$ adjacency matrix $A$ with\n",
    "$$\n",
    "A_{ij} \\equiv \\begin{cases}\n",
    "    1 & \\text{if } (ij) \\in E \\\\\n",
    "    0 & \\text{if } (ij) \\notin E\n",
    "\\end{cases}\n",
    "$$\n",
    "which contains all information about the edge set $E$.\n",
    "\n",
    "## Mathematical Model\n",
    "\n",
    "First, we introduce binary variables $x_{v, i}$ which are 1 if vertex $v$ in $G_2$ gets mapped to vertex $i$ in $G_1$ and 0 otherwise.\n",
    "\n",
    "### Constraint 1: the map is bijective\n",
    "\n",
    "A bijective map between two graphs is a one-to-one correspondence between the vertices of the two graphs, such that each vertex in one graph is paired with a unique vertex in the other graph.\n",
    "\n",
    "$$\n",
    "\\quad \\sum_{i}x_{v,i} = 1 \\quad  (\\forall v) \\tag{1} $$\n",
    "$$\\quad \\sum_{v}x_{v,i} = 1 \\quad  (\\forall i) \\tag{2}\n",
    "$$\n",
    "\n",
    "### Constraint 2: no bad mapping exists\n",
    "\n",
    "An edge that is not in $G_1$ but is in $G_2$, or an edge that is in $G_1$ but is not in $G_2$ should not exist.\n",
    "$$\n",
    "\\quad \\sum_{ij \\notin E_1}\\sum_{uv \\in E_2} x_{u,i}x_{v,j}+\\sum_{ij \\in E_1}\\sum_{uv \\notin E_2} x_{u,i}x_{v,j} = 0\\tag{3}\n",
    "$$\n"
   ]
  },
  {
   "cell_type": "markdown",
   "metadata": {},
   "source": [
    "## Modeling by JijModeling\n",
    "\n",
    "Next, we show an implementation using JijModeling. We first define variables for the mathematical model described above."
   ]
  },
  {
   "cell_type": "code",
   "execution_count": 1,
   "metadata": {},
   "outputs": [],
   "source": [
    "import jijmodeling as jm\n",
    "\n",
    "#define variables\n",
    "V = jm.Placeholder('V')  # number of vertices\n",
    "E1 = jm.Placeholder('E1', ndim=2)  # set of edges\n",
    "E2 = jm.Placeholder('E2', ndim=2)  # set of edges\n",
    "E1_bar = jm.Placeholder('E1_bar', ndim=2)\n",
    "E2_bar = jm.Placeholder('E2_bar', ndim=2)\n",
    "\n",
    "x = jm.BinaryVar('x',shape=(V,V))\n",
    "i = jm.Element('i', belong_to=(0, V))\n",
    "j = jm.Element('j', belong_to=(0, V))\n",
    "u = jm.Element('u', belong_to=(0, V))\n",
    "v = jm.Element('v', belong_to=(0, V))\n",
    "e1 = jm.Element('e1', belong_to=E1)\n",
    "e2 = jm.Element('e2', belong_to=E2)\n",
    "f1 = jm.Element('f1', belong_to=E1_bar)\n",
    "f2 = jm.Element('f2', belong_to=E2_bar)"
   ]
  },
  {
   "attachments": {},
   "cell_type": "markdown",
   "metadata": {},
   "source": [
    "We use the same variables in the graph ordering problem.\n",
    "\n",
    "### Constraint\n",
    "\n",
    "We implement the constraint equations."
   ]
  },
  {
   "cell_type": "code",
   "execution_count": 2,
   "metadata": {},
   "outputs": [],
   "source": [
    "# set problem\n",
    "problem = jm.Problem('Graph Isomorphisms')\n",
    "# set constraint\n",
    "problem += jm.Constraint('const1-1', x[v, :].sum()==1, forall=v)\n",
    "problem += jm.Constraint('const1-2', x[:, i].sum()==1, forall=i)\n",
    "const1 = jm.sum([f1, e2], x[e2[0],f1[0]]*x[e2[1],f1[1]])\n",
    "const2 = jm.sum([e1, f2], x[f2[0],e1[0]]*x[f2[1],e1[1]])\n",
    "problem += jm.Constraint('const2', const1 + const2==0)"
   ]
  },
  {
   "cell_type": "markdown",
   "metadata": {},
   "source": [
    "Let's display the implemented mathematical model in Jupyter Notebook."
   ]
  },
  {
   "cell_type": "code",
   "execution_count": 3,
   "metadata": {},
   "outputs": [
    {
     "data": {
      "text/latex": [
       "$$\\begin{array}{cccc}\\text{Problem:} & \\text{Graph Isomorphisms} & & \\\\& & \\min \\quad \\displaystyle 0 & \\\\\\text{{s.t.}} & & & \\\\ & \\text{const1-1} & \\displaystyle \\sum_{\\ast_{1} = 0}^{V - 1} x_{v, \\ast_{1}} = 1 & \\forall v \\in \\left\\{0,\\ldots,V - 1\\right\\} \\\\ & \\text{const1-2} & \\displaystyle \\sum_{\\ast_{0} = 0}^{V - 1} x_{\\ast_{0}, i} = 1 & \\forall i \\in \\left\\{0,\\ldots,V - 1\\right\\} \\\\ & \\text{const2} & \\displaystyle \\sum_{f1 \\in E1_bar} \\sum_{e2 \\in E2} x_{e2_{0}, f1_{0}} \\cdot x_{e2_{1}, f1_{1}} + \\sum_{e1 \\in E1} \\sum_{f2 \\in E2_bar} x_{f2_{0}, e1_{0}} \\cdot x_{f2_{1}, e1_{1}} = 0 &  \\\\\\text{{where}} & & & \\\\& x & 2\\text{-dim binary variable}\\\\\\end{array}$$"
      ],
      "text/plain": [
       "<jijmodeling.Problem at 0x123136e90>"
      ]
     },
     "execution_count": 3,
     "metadata": {},
     "output_type": "execute_result"
    }
   ],
   "source": [
    "problem"
   ]
  },
  {
   "attachments": {},
   "cell_type": "markdown",
   "metadata": {},
   "source": [
    "## Prepare an instance\n",
    "\n",
    "We prepare a graph using [Networkx](https://networkx.org/)."
   ]
  },
  {
   "cell_type": "code",
   "execution_count": 4,
   "metadata": {},
   "outputs": [],
   "source": [
    "import networkx as nx\n",
    "import numpy as np\n",
    "import matplotlib.pyplot as plt\n",
    "\n",
    "# First graph\n",
    "graph1 = [[0, 1, 0, 1],\n",
    "          [1, 0, 1, 0],\n",
    "          [0, 1, 0, 1],\n",
    "          [1, 0, 1, 0]]\n",
    "\n",
    "# Second graph\n",
    "graph2 = [[0, 0, 1, 1],\n",
    "          [0, 0, 1, 1],\n",
    "          [1, 1, 0, 0],\n",
    "          [1, 1, 0, 0]]\n",
    "\n",
    "# Create networkx graphs from adjacency matrices\n",
    "G1 = nx.from_numpy_array(np.array(graph1))\n",
    "G2 = nx.from_numpy_array(np.array(graph2))\n",
    "\n",
    "num_V = G1.number_of_nodes()\n",
    "\n",
    "edges1 = G1.edges()\n",
    "inst_E1 = [list(edge) for edge in edges1]\n",
    "\n",
    "edges2 = G2.edges()\n",
    "inst_E2 = [list(edge) for edge in edges2]\n",
    "\n",
    "non_edges1 = list(nx.non_edges(G1))\n",
    "inst_E1_bar = [list(non_edge) for non_edge in non_edges1]\n",
    "\n",
    "non_edges2 = list(nx.non_edges(G2))\n",
    "inst_E2_bar = [list(non_edge) for non_edge in non_edges2]\n",
    "\n",
    "instance_data = {'V': num_V, 'E1': inst_E1, 'E2': inst_E2, 'E1_bar': inst_E1_bar, 'E2_bar': inst_E2_bar}\n"
   ]
  },
  {
   "attachments": {},
   "cell_type": "markdown",
   "metadata": {},
   "source": [
    "The input graphs are shown below."
   ]
  },
  {
   "cell_type": "code",
   "execution_count": 5,
   "metadata": {},
   "outputs": [
    {
     "data": {
      "image/png": "[encoded data removed]",
      "text/plain": [
       "<Figure size 800x400 with 2 Axes>"
      ]
     },
     "metadata": {},
     "output_type": "display_data"
    }
   ],
   "source": [
    "# Create figure and subplots\n",
    "fig, axs = plt.subplots(1, 2, figsize=(8, 4))\n",
    "\n",
    "# Draw graphs\n",
    "nx.draw(G1, ax=axs[0], with_labels=True)\n",
    "axs[0].set_title(\"Graph 1\")\n",
    "nx.draw(G2, ax=axs[1], with_labels=True)\n",
    "axs[1].set_title(\"Graph 2\")\n",
    "\n",
    "# Show the plot\n",
    "plt.show()\n"
   ]
  },
  {
   "cell_type": "markdown",
   "metadata": {},
   "source": [
    "## Solve by JijZept's SA\n",
    "\n",
    "We solve this problem using JijZept `JijSASampler`. We also use the parameter search function by setting `search=True`."
   ]
  },
  {
   "cell_type": "code",
   "execution_count": 6,
   "metadata": {},
   "outputs": [],
   "source": [
    "import jijzept as jz\n",
    "\n",
    "# set sampler\n",
    "sampler = jz.JijSASampler(config=\"./config.toml\")\n",
    "# solve problem\n",
    "multipliers = {'const1-1': 0.3, 'const1-2': 0.3, 'const2': 0.3}\n",
    "results = sampler.sample_model(problem, instance_data, multipliers, num_reads=100, search=True)"
   ]
  },
  {
   "attachments": {},
   "cell_type": "markdown",
   "metadata": {},
   "source": [
    "## Check solution\n",
    "\n",
    "In the end, we extract the lowest energy solution from the feasible solutions and check it."
   ]
  },
  {
   "cell_type": "code",
   "execution_count": 7,
   "metadata": {},
   "outputs": [
    {
     "name": "stdout",
     "output_type": "stream",
     "text": [
      "Objective: 0.0\n",
      "vertex: [0, 2, 3, 1]\n",
      "orders: [0, 3, 1, 2]\n"
     ]
    }
   ],
   "source": [
    "# extract feasible solution\n",
    "feasible = results.feasible()\n",
    "if feasible.evaluation.objective.size == 0:\n",
    "    print('No feasible solution found ...')\n",
    "else:\n",
    "    print(\"Objective: \"+str(feasible.evaluation.objective[0]))\n",
    "    # get indices of x = 1\n",
    "    indices, _, _ = feasible.record.solution['x'][0]\n",
    "    # get vertex number and order\n",
    "    vertices, orders = indices\n",
    "    print(f'vertex: {vertices}')\n",
    "    print(f'orders: {orders}')"
   ]
  },
  {
   "attachments": {},
   "cell_type": "markdown",
   "metadata": {},
   "source": [
    "As we expected, JijZept successfully shows that it is isomorphic."
   ]
  }
 ],
 "metadata": {
  "kernelspec": {
   "display_name": ".venv",
   "language": "python",
   "name": "python3"
  },
  "language_info": {
   "codemirror_mode": {
    "name": "ipython",
    "version": 3
   },
   "file_extension": ".py",
   "mimetype": "text/x-python",
   "name": "python",
   "nbconvert_exporter": "python",
   "pygments_lexer": "ipython3",
   "version": "3.9.16"
  },
  "vscode": {
   "interpreter": {
    "hash": "d8bb8d8f316256c93cd9d893faf7cf943ba8f6c0b9f3d1c8a75ecb1cf0541374"
   }
  }
 },
 "nbformat": 4,
 "nbformat_minor": 4
}
