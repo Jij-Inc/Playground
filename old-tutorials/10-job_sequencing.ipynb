{
 "cells": [
  {
   "cell_type": "markdown",
   "metadata": {},
   "source": [
    "--- \n",
    "description: Here we show how to solve job sequencing problems with integer lengths using JijZept and JijModeling.\n",
    "---"
   ]
  },
  {
   "cell_type": "markdown",
   "metadata": {},
   "source": [
    "# Job Sequencing Problem with Integer Lengths\n",
    "\n",
    "Here we show how to solve job sequencing problems with integer lengths using JijZept and JijModeling. \n",
    "This problem is also described in 6.3. Job Sequencing with Integer Lengths on [Lucas, 2014, \"Ising formulations of many NP problems\"](https://www.frontiersin.org/articles/10.3389/fphy.2014.00005/full)."
   ]
  },
  {
   "cell_type": "markdown",
   "metadata": {},
   "source": [
    "## What is Job Sequencing Problem with Integer Lengths?\n",
    "\n",
    "We consider several tasks with integer lengths (i.e., task 1 takes one hour to execute on a computer, task 2 takes three hours, and so on).\n",
    "We ask: when distributing these tasks to multiple computers, what combinations can be the optimal solution to distribute these computers' execution time without creating bias?\n",
    "\n",
    "### Example\n",
    "\n",
    "Let's take a look at the following situation.\n",
    "\n",
    "> Here are 10 tasks and 3 computers. \n",
    "> The length of each of the 10 tasks is 1, 2, ..., 10.\n",
    "> Our goal is to assign these tasks to the computers and minimize the maximum amount of time the tasks take.\n",
    "> In this case, the optimal solution is $\\{1, 2, 7, 8\\}, \\{3, 4, 5, 6\\}$ and $\\{9, 10\\}$, whose maximum of execution time of computers is 19.\n",
    "\n",
    "![](./assets/integer_jobs_01.png)\n",
    "\n",
    "### Generalization\n",
    "\n",
    "Next, we introcude $N$ tasks $\\{0, 1, ..., N-1\\}$ and list of the execution time $\\bm{L} = \\{L_0, L_1, ..., L_{N-1}\\}$. \n",
    "Given $M$ computers, the total execution time of $j$-th computer to perform its assigned tasks is $A_j = \\sum_{i \\in V_j} L_i$ where $V_j$ is a set of assigned tasks to $j$-th computer.\n",
    "Finally, let us denote $x_{i, j}$ to be a binary variable which is 1 if $i$-th task is assigned to $j$-th computer, and 0 otherwise.\n",
    "\n",
    "**Constraint: each task must be assigned to one computer**\n",
    "\n",
    "For instance, it is forbidden to assign the 5th task to the 1st and 2nd computers simultaneously.\n",
    "We express this constraint as follows:\n",
    "\n",
    "$$\n",
    "\\sum_{j=0}^{M-1} x_{i, j} = 1 \\quad (\\forall i \\in \\{0, 1, ..., N-1\\}) \\tag{1}\n",
    "$$\n",
    "\n",
    "**Objective function: minimize the difference between the execution time of the 0th computer and others**\n",
    "\n",
    "We consider the execution time of the 0th computer as the reference and minimize the difference between it and others.\n",
    "This reduces the execution time variability and tasks are distributed equally.\n",
    "\n",
    "$$\n",
    "\\min \\quad \\sum_{j=1}^{M-1} (A_0 - A_j)^2 \\tag{2}\n",
    "$$"
   ]
  },
  {
   "cell_type": "markdown",
   "metadata": {},
   "source": [
    "## Modeling by JijModeling\n",
    "\n",
    "Next, we show an implementation using JijModeling. We first define variables for the mathematical model described above."
   ]
  },
  {
   "cell_type": "code",
   "execution_count": 1,
   "metadata": {},
   "outputs": [],
   "source": [
    "import jijmodeling as jm\n",
    "\n",
    "\n",
    "# defin variables\n",
    "L = jm.Placeholder('L', ndim=1)\n",
    "N = L.len_at(0, latex=\"N\")\n",
    "M = jm.Placeholder('M')\n",
    "x = jm.BinaryVar('x', shape=(N, M))\n",
    "i = jm.Element('i', belong_to=(0, N))\n",
    "j = jm.Element('j', belong_to=(0, M))"
   ]
  },
  {
   "cell_type": "markdown",
   "metadata": {},
   "source": [
    "`L` is a one-dimensional array representing the execution time of each task.\n",
    "`N` denotes the number of tasks.\n",
    "`M` is the number of computers.\n",
    "Then, we define a two-dimensional list of binary variables `x`. \n",
    "Finally, we set the subscripts `i` and `j` used in the mathematical model."
   ]
  },
  {
   "cell_type": "markdown",
   "metadata": {},
   "source": [
    "### Constraint\n",
    "\n",
    "We implement a constraint Equation (1)."
   ]
  },
  {
   "cell_type": "code",
   "execution_count": 2,
   "metadata": {},
   "outputs": [],
   "source": [
    "# set problem\n",
    "problem = jm.Problem('Integer Jobs')\n",
    "# set constraint: job must be executed using a certain node\n",
    "problem += jm.Constraint('onehot', x[i, :].sum()==1, forall=i)"
   ]
  },
  {
   "attachments": {},
   "cell_type": "markdown",
   "metadata": {},
   "source": [
    "`x[i, :].sum()` is syntactic sugar of `sum(j, x[i, j])`."
   ]
  },
  {
   "cell_type": "markdown",
   "metadata": {},
   "source": [
    "### Objective function\n",
    "\n",
    "Next, we implement an objective function Equation (2)."
   ]
  },
  {
   "cell_type": "code",
   "execution_count": 3,
   "metadata": {},
   "outputs": [],
   "source": [
    "# set objective function: minimize difference between node 0 and others\n",
    "A_0 = jm.sum(i, L[i]*x[i, 0])\n",
    "A_j = jm.sum(i, L[i]*x[i, j])\n",
    "problem += jm.sum((j, j!=0), (A_0 - A_j) ** 2)"
   ]
  },
  {
   "attachments": {},
   "cell_type": "markdown",
   "metadata": {},
   "source": [
    "`sum((j, j!=0), ...)` denotes taking the sum of all cases where j is not 0."
   ]
  },
  {
   "cell_type": "markdown",
   "metadata": {},
   "source": [
    "Let's display the implemented mathematical model in Jupyter Notebook."
   ]
  },
  {
   "cell_type": "code",
   "execution_count": 4,
   "metadata": {},
   "outputs": [
    {
     "data": {
      "text/latex": [
       "$$\\begin{array}{cccc}\\text{Problem:} & \\text{Integer Jobs} & & \\\\& & \\min \\quad \\displaystyle \\sum_{\\substack{j = 0\\\\j \\neq 0}}^{M - 1} \\left(\\left(\\sum_{i = 0}^{N - 1} L_{i} \\cdot x_{i, 0} - \\sum_{i = 0}^{N - 1} L_{i} \\cdot x_{i, j}\\right)^{2}\\right) & \\\\\\text{{s.t.}} & & & \\\\ & \\text{onehot} & \\displaystyle \\sum_{\\ast_{1} = 0}^{M - 1} x_{i, \\ast_{1}} = 1 & \\forall i \\in \\left\\{0,\\ldots,N - 1\\right\\} \\\\\\text{{where}} & & & \\\\& x & 2\\text{-dim binary variable}\\\\\\end{array}$$"
      ],
      "text/plain": [
       "<jijmodeling.Problem at 0x139133ee0>"
      ]
     },
     "execution_count": 4,
     "metadata": {},
     "output_type": "execute_result"
    }
   ],
   "source": [
    "problem"
   ]
  },
  {
   "cell_type": "markdown",
   "metadata": {},
   "source": [
    "## Prepare an instance\n",
    "\n",
    "We set the execution time of each job and the number of computers.\n",
    "At this time, we use the same values from an example as we describe before."
   ]
  },
  {
   "cell_type": "code",
   "execution_count": 5,
   "metadata": {},
   "outputs": [],
   "source": [
    "# set a list of jobs\n",
    "inst_L = [1, 2, 3, 4, 5, 6, 7, 8, 9, 10]\n",
    "# set the number of Nodes\n",
    "inst_M = 3\n",
    "instance_data = {'L': inst_L, 'M': inst_M}"
   ]
  },
  {
   "cell_type": "markdown",
   "metadata": {},
   "source": [
    "## Solve by JijZept's SA\n",
    "\n",
    "We solve this problem using JijZept `JijSASampler`. We also use the parameter search function by setting `search=True`."
   ]
  },
  {
   "cell_type": "code",
   "execution_count": 6,
   "metadata": {},
   "outputs": [],
   "source": [
    "import jijzept as jz\n",
    "\n",
    "# set sampler\n",
    "config_path = \"./config.toml\"\n",
    "sampler = jz.JijSASampler(config=config_path)\n",
    "# solve problem\n",
    "multipliers = {\"onehot\": 0.5}\n",
    "results = sampler.sample_model(problem, instance_data, multipliers, num_reads=100, search=True)"
   ]
  },
  {
   "cell_type": "markdown",
   "metadata": {},
   "source": [
    "## Visualize the solution\n",
    "\n",
    "In the end, we extract the lowest energy solution from the feasible solutions and visualize it."
   ]
  },
  {
   "cell_type": "code",
   "execution_count": 7,
   "metadata": {},
   "outputs": [
    {
     "data": {
      "image/png": "[encoded data removed]",
      "text/plain": [
       "<Figure size 640x480 with 1 Axes>"
      ]
     },
     "metadata": {},
     "output_type": "display_data"
    }
   ],
   "source": [
    "import matplotlib.pyplot as plt\n",
    "import numpy as np\n",
    "\n",
    "# extract feasible solution\n",
    "feasibles = results.feasible()\n",
    "# get the index of the lowest objective function\n",
    "objectives = np.array(feasibles.evaluation.objective)\n",
    "lowest_index = np.argmin(objectives)\n",
    "# get indices of x = 1\n",
    "indices, _, _ = feasibles.record.solution['x'][lowest_index]\n",
    "# get task number and execution node\n",
    "tasks, nodes = indices\n",
    "# get instance information\n",
    "L = instance_data['L']\n",
    "M = instance_data['M']\n",
    "# initialize execution time\n",
    "exec_time = np.zeros(M, dtype=np.int64)\n",
    "# compute summation of execution time each nodes\n",
    "for i, j in zip(tasks, nodes):\n",
    "    plt.barh(j, L[i], left=exec_time[j],ec=\"k\", linewidth=1,alpha=0.8)\n",
    "    plt.text(exec_time[j] + L[i] / 2.0 - 0.25 ,j-0.05, str(i+1),fontsize=12)\n",
    "    exec_time[j] += L[i]\n",
    "plt.yticks(range(M))\n",
    "plt.ylabel('Computer numbers')\n",
    "plt.xlabel('Execution time')\n",
    "plt.show()"
   ]
  },
  {
   "cell_type": "markdown",
   "metadata": {},
   "source": [
    "With the above visualization, we obtain a graph where the execution times of three computers are approximately equal.\n",
    "The maximum execution time is still 19, so this is optimal solution."
   ]
  }
 ],
 "metadata": {
  "kernelspec": {
   "display_name": "Python 3 (ipykernel)",
   "language": "python",
   "name": "python3"
  },
  "language_info": {
   "codemirror_mode": {
    "name": "ipython",
    "version": 3
   },
   "file_extension": ".py",
   "mimetype": "text/x-python",
   "name": "python",
   "nbconvert_exporter": "python",
   "pygments_lexer": "ipython3",
   "version": "3.9.16"
  },
  "vscode": {
   "interpreter": {
    "hash": "36cf16204b8548560b1c020c4e8fb5b57f0e4c58016f52f2d4be01e192833930"
   }
  }
 },
 "nbformat": 4,
 "nbformat_minor": 4
}
