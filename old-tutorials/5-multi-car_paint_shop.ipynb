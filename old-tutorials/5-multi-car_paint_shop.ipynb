{
 "cells": [
  {
   "cell_type": "markdown",
   "metadata": {},
   "source": [
    "--- \n",
    "description: In this tutorial, we will solve the Multi-Car Paint Shop (MCPS) problem using JijZept, based on the work of Sheir Yarkoni,...\n",
    "---"
   ]
  },
  {
   "attachments": {},
   "cell_type": "markdown",
   "id": "73aa2d41",
   "metadata": {},
   "source": [
    "# Multi-Car Paint Shop Problem\n",
    "In this tutorial, we will solve the Multi-Car Paint Shop (MCPS) problem using JijZept, based on the work of Sheir Yarkoni, et al. [[1](https://arxiv.org/abs/2109.07876)].\n",
    "The Multi-Car Paint Shop (MCPS) problem is to minimize the number of color switchings when painting multiple car models at a factory.\n",
    "\n",
    "\n",
    "## Problem Setting\n",
    "The Multi-Car Paint Shop (MCPS) problem is to optimize color switching when painting multiple car models at a factory, as described above.\n",
    "In the painting process, there is a base coat, whose color is determined by the customer's request, and a coating called filler, which is applied underneath the base coat.\n",
    "The color of the filler is determined by the color of the base coat, which must be painted black for darker colors and white for lighter colors.\n",
    "The Multi-Car Paint Shop (MCPS) problem is an optimization problem for this filler coloring. \n",
    "It is necessary to paint as many cars in the queue as possible with the same filler color while satisfying the constraint that the correct filler color is applied to the car. \n",
    "The problem is to paint the car with the correct color and to reduce the number of times the paint color is switched.\n",
    "\n",
    "Let us consider an example.\n",
    "For simplicity, we consider only two car models $C_1, C_2$.\n",
    "Suppose that six cars come into the queue waiting to be painted in the order $C_1, C_1, C_2, C_2, C_1, C_2$.\n",
    "Let $k(C_l)\\ (l = 1,2)$ denote the number of cars to paint car model $C_l$ in black.\n",
    "Suppose that $k(C_1) = 2,k(C_2) = 1$, i.e., two of car model 1 must be painted black and one of car model 2 must be painted black.\n",
    "When we write $B$ for black and $W$ for white, the least number of repaints will be $B,B,B,W,W,W$ for the incoming cars.\n",
    "\n",
    "## Mathematical model\n",
    "We consider $N$ cars come into the queue and there are $n$ car models.\n",
    "\n",
    "### Decision variable\n",
    "Binary variables $q_i$ are defined as:\n",
    "\n",
    "$$\n",
    "q_{i} = \\begin{cases}\n",
    "1~\\text{$i$th car is painted black}\\\\\n",
    "0~\\text{otherwise}\\\\\n",
    "\\end{cases}\n",
    "$$\n",
    "\n",
    "for all $i \\in \\{0, ..., N-1\\}$.\n",
    "\n",
    "### Constraints\n",
    "We have to consider one constraint;\n",
    "\n",
    "1. The filler must be painted in the correct number corresponding to the order for each car model.\n",
    "\n",
    "The number of vehicles of car model $C_l$ that are painted black must equal $k(C_l)$.\n",
    "We can formulate this constraint as an independent $K$-hot constraint on car models $C_l$.\n",
    "Since we are now using the binary variable $q_i$, which is 1 if car $i$ is black, we know that when we sum over all the binary variables for cars belonging to car type $C_l$, the sum should be $k(C_l)$.\n",
    "Therefore, the constraint is\n",
    "\n",
    "$$\n",
    "\\sum_{i\\in C_l} q_i = k(C_l) \\ \\forall\\ l\n",
    "$$\n",
    "\n",
    "\n",
    "### Objective function\n",
    "The objective of this problem is to reduce the number of color switching as much as possible, in other words, the objective is to make the color of successive cars the same.\n",
    "The property of being the same color as its neighbors can be formulated using the ferromagnetic formulation in the Ising model\n",
    "The ferromagnetic formulation is\n",
    "\n",
    "$$\n",
    "H_A = -\\sum_{i=0}^{N-2}s_is_{i+1}.\n",
    "$$\n",
    "\n",
    "where $s_i\\in\\{-1,1\\}$ is spin variable and there is a relationship $s_i = 2q_i - 1$ between $s_i$ and $q_i$.\n",
    "Therefore, we can rewrite the objective function of this problem using $q_i$ as\n",
    "\n",
    "$$\n",
    "H_A = -\\sum_{i=0}^{N-2}s_is_{i+1} = -\\sum_{i=0}^{N-2}(2q_i - 1)(2q_{i+1} - 1)\n",
    "$$\n",
    "\n",
    "In conclusion, the Multi-Car Paint Shop (MCPS) problem can be formulated as\n",
    "\n",
    "$$\n",
    "\\begin{aligned}\n",
    "&\\text{Minimize}\\quad H_A = -\\sum_{i=0}^{N-2}(2q_i - 1)(2q_{i+1} - 1) \\\\\n",
    "&\\text{subject to } \\sum_{i\\in C_l} q_i = k(C_l)　\\forall\\  l\n",
    "\\end{aligned}\n",
    "$$"
   ]
  },
  {
   "cell_type": "markdown",
   "id": "0e5977b4",
   "metadata": {},
   "source": [
    "## Modeling by JijModeling\n",
    "Next, we show an implementation using JijModeling. We first define variables for the mathematical model described above."
   ]
  },
  {
   "cell_type": "code",
   "execution_count": 1,
   "id": "fc28391e",
   "metadata": {},
   "outputs": [],
   "source": [
    "import jijmodeling as jm\n",
    "\n",
    "N = jm.Placeholder('N') # Number of cars\n",
    "n = jm.Placeholder('n') # Number of car models\n",
    "C = jm.Placeholder('C',ndim=2) # indices of each car models\n",
    "K = jm.Placeholder('K',ndim=1) # Number of black cars for each car models\n",
    "\n",
    "q = jm.BinaryVar('q', shape=(N,))\n",
    "\n",
    "j = jm.Element('j', belong_to=(0,N-1))\n",
    "c = jm.Element('c', belong_to=(0,n))\n",
    "l = jm.Element('l', belong_to=C[c]) "
   ]
  },
  {
   "cell_type": "markdown",
   "id": "6116fd58-6255-4226-bd78-c64cec16d3f4",
   "metadata": {},
   "source": [
    "The data of the number of cars for each car model becomes like\n",
    "```python\n",
    "{1 : [0, 3, 8, 10], 2 :[1, 4, 6, 9, 12],3: [2, 5, 7, 11, 13]}\n",
    "```\n",
    "This data structure expresses that the key of the dictionary corresponds to car models and the value of the dictionary is the indices of each car model.\n",
    "JijZept currently does not support dictionary data structure, so we have to convert this data into a list \n",
    "```python\n",
    "[[0, 3, 8, 10], [1, 4, 6, 9, 12], [2, 5, 7, 11, 13]] \n",
    "```\n",
    "\n",
    "`Placeholder` can also be used with such a  data structure.\n",
    "\n",
    "Next, let us formulate our models using JijModeling."
   ]
  },
  {
   "cell_type": "code",
   "execution_count": 2,
   "id": "63ec27ca",
   "metadata": {},
   "outputs": [
    {
     "data": {
      "text/latex": [
       "$$\\begin{array}{cccc}\\text{Problem:} & \\text{multi car paint} & & \\\\& & \\min \\quad \\displaystyle - \\sum_{j = 0}^{N - 2} \\left(2 \\cdot q_{j} - 1\\right) \\cdot \\left(2 \\cdot q_{j + 1} - 1\\right) & \\\\\\text{{s.t.}} & & & \\\\ & \\text{N-hot constraint} & \\displaystyle \\sum_{l \\in C_{c}} q_{l} = K_{c} & \\forall c \\in \\left\\{0,\\ldots,n - 1\\right\\} \\\\\\text{{where}} & & & \\\\& q & 1\\text{-dim binary variable}\\\\\\end{array}$$"
      ],
      "text/plain": [
       "<jijmodeling.Problem at 0x13c7d9f50>"
      ]
     },
     "execution_count": 2,
     "metadata": {},
     "output_type": "execute_result"
    }
   ],
   "source": [
    "problem = jm.Problem(\"multi car paint\")\n",
    "\n",
    "# Constraints\n",
    "problem += jm.Constraint(\"N-hot constraint\",jm.sum(l,q[l]) == K[c],forall=c)\n",
    "# Objective function\n",
    "problem += -jm.sum(j,(2*q[j] - 1)*(2*q[j+1] - 1))\n",
    "problem"
   ]
  },
  {
   "cell_type": "markdown",
   "id": "092af94f",
   "metadata": {},
   "source": [
    "## Prepare an instance\n",
    "The [1] uses real data, however, we create the random instance for this problem.\n",
    "\n",
    "We consider the number of cars $N=30$ and the number of car models is $n=4$ as an example."
   ]
  },
  {
   "cell_type": "code",
   "execution_count": 3,
   "id": "5f085eae-a6db-41f8-a099-c1078e289990",
   "metadata": {},
   "outputs": [],
   "source": [
    "import numpy as np\n",
    "num_carmodels = 4\n",
    "num_cars = 30\n",
    "sequence = np.random.choice(range(num_carmodels),num_cars)\n",
    "carmodels_list = [[] for i in range(num_carmodels)]\n",
    "for index,car_index in enumerate(sequence):\n",
    "    carmodels_list[car_index].append(index)"
   ]
  },
  {
   "cell_type": "code",
   "execution_count": 4,
   "id": "b8627285-01a7-4670-9182-bc0f11406eb4",
   "metadata": {},
   "outputs": [],
   "source": [
    "num_blackcar = [int(np.ceil(len(cars)/2)) for cars in carmodels_list]\n",
    "instance_data = {'N':num_cars, 'n':num_carmodels, 'K':num_blackcar, 'C':carmodels_list}"
   ]
  },
  {
   "cell_type": "code",
   "execution_count": 5,
   "id": "cf13e78f-171c-477e-8924-e076b5b66a58",
   "metadata": {},
   "outputs": [
    {
     "data": {
      "text/plain": [
       "{'N': 30,\n",
       " 'n': 4,\n",
       " 'K': [5, 2, 3, 6],\n",
       " 'C': [[5, 11, 12, 15, 17, 19, 21, 26, 28],\n",
       "  [6, 9, 22, 24],\n",
       "  [0, 3, 8, 10, 13, 16],\n",
       "  [1, 2, 4, 7, 14, 18, 20, 23, 25, 27, 29]]}"
      ]
     },
     "execution_count": 5,
     "metadata": {},
     "output_type": "execute_result"
    }
   ],
   "source": [
    "instance_data"
   ]
  },
  {
   "cell_type": "markdown",
   "id": "e372a48f",
   "metadata": {},
   "source": [
    "## Solve by JijZept's SA\n",
    "We solve this problem using JijZept `JijSASampler`. We also use the parameter search function by setting `search=True`."
   ]
  },
  {
   "cell_type": "code",
   "execution_count": 6,
   "id": "af98fc34",
   "metadata": {},
   "outputs": [],
   "source": [
    "import jijzept as jz"
   ]
  },
  {
   "cell_type": "code",
   "execution_count": 7,
   "id": "c5af6e18-5cba-496b-ab86-0d022488d840",
   "metadata": {},
   "outputs": [],
   "source": [
    "# Please enter your `config.toml` path here.\n",
    "config_path = './config.toml'"
   ]
  },
  {
   "cell_type": "code",
   "execution_count": 8,
   "id": "ed40cdc7",
   "metadata": {},
   "outputs": [],
   "source": [
    "# set sampler\n",
    "sampler = jz.JijSASampler(config=config_path)\n",
    "# solve problem\n",
    "results = sampler.sample_model(problem, instance_data, search = True)"
   ]
  },
  {
   "cell_type": "markdown",
   "id": "8d60add6-ef7f-4d4c-99e5-8574e62151bb",
   "metadata": {},
   "source": [
    "## Check the results\n",
    "Let us check the last 5 results in the parameter search.\n",
    "`to_pandas` returns obtained results as a pandas dataframe."
   ]
  },
  {
   "cell_type": "code",
   "execution_count": 10,
   "id": "afed17b0",
   "metadata": {},
   "outputs": [
    {
     "data": {
      "text/html": [
       "<div>\n",
       "<style scoped>\n",
       "    .dataframe tbody tr th:only-of-type {\n",
       "        vertical-align: middle;\n",
       "    }\n",
       "\n",
       "    .dataframe tbody tr th {\n",
       "        vertical-align: top;\n",
       "    }\n",
       "\n",
       "    .dataframe thead th {\n",
       "        text-align: right;\n",
       "    }\n",
       "</style>\n",
       "<table border=\"1\" class=\"dataframe\">\n",
       "  <thead>\n",
       "    <tr style=\"text-align: right;\">\n",
       "      <th></th>\n",
       "      <th>solution[q]</th>\n",
       "      <th>num_occurrences</th>\n",
       "      <th>energy</th>\n",
       "      <th>objective</th>\n",
       "      <th>constraint_forall</th>\n",
       "      <th>constraint_values</th>\n",
       "      <th>constraint_violation[N-hot constraint]</th>\n",
       "    </tr>\n",
       "  </thead>\n",
       "  <tbody>\n",
       "    <tr>\n",
       "      <th>10</th>\n",
       "      <td>(([1, 2, 3, 4, 7, 8, 9, 10, 11, 12, 17, 18, 19...</td>\n",
       "      <td>1</td>\n",
       "      <td>-33.369553</td>\n",
       "      <td>-17.0</td>\n",
       "      <td>{'N-hot constraint': [[1], [2], [0], [3]]}</td>\n",
       "      <td>{'N-hot constraint': [0.0, 0.0, 0.0, 0.0]}</td>\n",
       "      <td>0.0</td>\n",
       "    </tr>\n",
       "    <tr>\n",
       "      <th>11</th>\n",
       "      <td>(([1, 4, 8, 9, 10, 11, 12, 13, 14, 15, 20, 21,...</td>\n",
       "      <td>1</td>\n",
       "      <td>-33.162659</td>\n",
       "      <td>-11.0</td>\n",
       "      <td>{'N-hot constraint': [[1], [2], [0], [3]]}</td>\n",
       "      <td>{'N-hot constraint': [0.0, 0.0, 0.0, 0.0]}</td>\n",
       "      <td>0.0</td>\n",
       "    </tr>\n",
       "    <tr>\n",
       "      <th>12</th>\n",
       "      <td>(([0, 4, 5, 6, 13, 14, 15, 16, 19, 20, 21, 23,...</td>\n",
       "      <td>1</td>\n",
       "      <td>-33.093693</td>\n",
       "      <td>-9.0</td>\n",
       "      <td>{'N-hot constraint': [[1], [2], [0], [3]]}</td>\n",
       "      <td>{'N-hot constraint': [0.0, 0.0, 0.0, 0.0]}</td>\n",
       "      <td>0.0</td>\n",
       "    </tr>\n",
       "    <tr>\n",
       "      <th>13</th>\n",
       "      <td>(([0, 1, 8, 10, 11, 12, 15, 18, 19, 20, 21, 22...</td>\n",
       "      <td>1</td>\n",
       "      <td>-33.093693</td>\n",
       "      <td>-9.0</td>\n",
       "      <td>{'N-hot constraint': [[1], [2], [0], [3]]}</td>\n",
       "      <td>{'N-hot constraint': [0.0, 0.0, 0.0, 0.0]}</td>\n",
       "      <td>0.0</td>\n",
       "    </tr>\n",
       "    <tr>\n",
       "      <th>14</th>\n",
       "      <td>(([2, 3, 4, 5, 6, 7, 8, 15, 16, 17, 18, 21, 22...</td>\n",
       "      <td>1</td>\n",
       "      <td>-33.231625</td>\n",
       "      <td>-13.0</td>\n",
       "      <td>{'N-hot constraint': [[1], [2], [0], [3]]}</td>\n",
       "      <td>{'N-hot constraint': [0.0, 0.0, 0.0, 0.0]}</td>\n",
       "      <td>0.0</td>\n",
       "    </tr>\n",
       "  </tbody>\n",
       "</table>\n",
       "</div>"
      ],
      "text/plain": [
       "                                          solution[q]  num_occurrences  \\\n",
       "10  (([1, 2, 3, 4, 7, 8, 9, 10, 11, 12, 17, 18, 19...                1   \n",
       "11  (([1, 4, 8, 9, 10, 11, 12, 13, 14, 15, 20, 21,...                1   \n",
       "12  (([0, 4, 5, 6, 13, 14, 15, 16, 19, 20, 21, 23,...                1   \n",
       "13  (([0, 1, 8, 10, 11, 12, 15, 18, 19, 20, 21, 22...                1   \n",
       "14  (([2, 3, 4, 5, 6, 7, 8, 15, 16, 17, 18, 21, 22...                1   \n",
       "\n",
       "       energy  objective                           constraint_forall  \\\n",
       "10 -33.369553      -17.0  {'N-hot constraint': [[1], [2], [0], [3]]}   \n",
       "11 -33.162659      -11.0  {'N-hot constraint': [[1], [2], [0], [3]]}   \n",
       "12 -33.093693       -9.0  {'N-hot constraint': [[1], [2], [0], [3]]}   \n",
       "13 -33.093693       -9.0  {'N-hot constraint': [[1], [2], [0], [3]]}   \n",
       "14 -33.231625      -13.0  {'N-hot constraint': [[1], [2], [0], [3]]}   \n",
       "\n",
       "                             constraint_values  \\\n",
       "10  {'N-hot constraint': [0.0, 0.0, 0.0, 0.0]}   \n",
       "11  {'N-hot constraint': [0.0, 0.0, 0.0, 0.0]}   \n",
       "12  {'N-hot constraint': [0.0, 0.0, 0.0, 0.0]}   \n",
       "13  {'N-hot constraint': [0.0, 0.0, 0.0, 0.0]}   \n",
       "14  {'N-hot constraint': [0.0, 0.0, 0.0, 0.0]}   \n",
       "\n",
       "    constraint_violation[N-hot constraint]  \n",
       "10                                     0.0  \n",
       "11                                     0.0  \n",
       "12                                     0.0  \n",
       "13                                     0.0  \n",
       "14                                     0.0  "
      ]
     },
     "execution_count": 10,
     "metadata": {},
     "output_type": "execute_result"
    }
   ],
   "source": [
    "max_show_num = 5\n",
    "results.to_pandas().tail(max_show_num)"
   ]
  },
  {
   "cell_type": "markdown",
   "id": "776417c1-11fd-479d-869c-783a1315baf9",
   "metadata": {},
   "source": [
    "The results are in a COO format in `solution`.\n",
    "We can also convert COO to dense matrix format with `.to_dense`.\n",
    "\n",
    "If we would like to have feasible solutions, we can get them by taking out the solutions in which `constraint_violation[N-hot constraint]` is 0."
   ]
  },
  {
   "cell_type": "code",
   "execution_count": 11,
   "id": "4de70d28",
   "metadata": {},
   "outputs": [
    {
     "data": {
      "text/html": [
       "<div>\n",
       "<style scoped>\n",
       "    .dataframe tbody tr th:only-of-type {\n",
       "        vertical-align: middle;\n",
       "    }\n",
       "\n",
       "    .dataframe tbody tr th {\n",
       "        vertical-align: top;\n",
       "    }\n",
       "\n",
       "    .dataframe thead th {\n",
       "        text-align: right;\n",
       "    }\n",
       "</style>\n",
       "<table border=\"1\" class=\"dataframe\">\n",
       "  <thead>\n",
       "    <tr style=\"text-align: right;\">\n",
       "      <th></th>\n",
       "      <th>solution[q]</th>\n",
       "      <th>num_occurrences</th>\n",
       "      <th>energy</th>\n",
       "      <th>objective</th>\n",
       "      <th>constraint_forall</th>\n",
       "      <th>constraint_values</th>\n",
       "      <th>constraint_violation[N-hot constraint]</th>\n",
       "    </tr>\n",
       "  </thead>\n",
       "  <tbody>\n",
       "    <tr>\n",
       "      <th>0</th>\n",
       "      <td>[1.0, 0.0, 0.0, 0.0, 1.0, 1.0, 1.0, 1.0, 0.0, ...</td>\n",
       "      <td>1</td>\n",
       "      <td>-15.448276</td>\n",
       "      <td>-13.0</td>\n",
       "      <td>{'N-hot constraint': [[1], [2], [0], [3]]}</td>\n",
       "      <td>{'N-hot constraint': [0.0, 0.0, 0.0, 0.0]}</td>\n",
       "      <td>0.0</td>\n",
       "    </tr>\n",
       "    <tr>\n",
       "      <th>2</th>\n",
       "      <td>[1.0, 1.0, 1.0, 1.0, 1.0, 1.0, 0.0, 0.0, 0.0, ...</td>\n",
       "      <td>1</td>\n",
       "      <td>-3.885532</td>\n",
       "      <td>-23.0</td>\n",
       "      <td>{'N-hot constraint': [[1], [2], [0], [3]]}</td>\n",
       "      <td>{'N-hot constraint': [0.0, 0.0, 0.0, 0.0]}</td>\n",
       "      <td>0.0</td>\n",
       "    </tr>\n",
       "    <tr>\n",
       "      <th>4</th>\n",
       "      <td>[1.0, 1.0, 1.0, 0.0, 0.0, 0.0, 0.0, 0.0, 0.0, ...</td>\n",
       "      <td>1</td>\n",
       "      <td>-10.366085</td>\n",
       "      <td>-19.0</td>\n",
       "      <td>{'N-hot constraint': [[1], [2], [0], [3]]}</td>\n",
       "      <td>{'N-hot constraint': [0.0, 0.0, 0.0, 0.0]}</td>\n",
       "      <td>0.0</td>\n",
       "    </tr>\n",
       "    <tr>\n",
       "      <th>7</th>\n",
       "      <td>[1.0, 1.0, 1.0, 1.0, 1.0, 0.0, 0.0, 0.0, 0.0, ...</td>\n",
       "      <td>1</td>\n",
       "      <td>-33.093693</td>\n",
       "      <td>-9.0</td>\n",
       "      <td>{'N-hot constraint': [[1], [2], [0], [3]]}</td>\n",
       "      <td>{'N-hot constraint': [0.0, 0.0, 0.0, 0.0]}</td>\n",
       "      <td>0.0</td>\n",
       "    </tr>\n",
       "    <tr>\n",
       "      <th>8</th>\n",
       "      <td>[1.0, 1.0, 1.0, 1.0, 1.0, 1.0, 1.0, 0.0, 0.0, ...</td>\n",
       "      <td>1</td>\n",
       "      <td>-33.300587</td>\n",
       "      <td>-15.0</td>\n",
       "      <td>{'N-hot constraint': [[1], [2], [0], [3]]}</td>\n",
       "      <td>{'N-hot constraint': [0.0, 0.0, 0.0, 0.0]}</td>\n",
       "      <td>0.0</td>\n",
       "    </tr>\n",
       "    <tr>\n",
       "      <th>9</th>\n",
       "      <td>[0.0, 0.0, 0.0, 0.0, 1.0, 1.0, 1.0, 1.0, 1.0, ...</td>\n",
       "      <td>1</td>\n",
       "      <td>-33.093693</td>\n",
       "      <td>-9.0</td>\n",
       "      <td>{'N-hot constraint': [[1], [2], [0], [3]]}</td>\n",
       "      <td>{'N-hot constraint': [0.0, 0.0, 0.0, 0.0]}</td>\n",
       "      <td>0.0</td>\n",
       "    </tr>\n",
       "    <tr>\n",
       "      <th>10</th>\n",
       "      <td>[0.0, 1.0, 1.0, 1.0, 1.0, 0.0, 0.0, 1.0, 1.0, ...</td>\n",
       "      <td>1</td>\n",
       "      <td>-33.369553</td>\n",
       "      <td>-17.0</td>\n",
       "      <td>{'N-hot constraint': [[1], [2], [0], [3]]}</td>\n",
       "      <td>{'N-hot constraint': [0.0, 0.0, 0.0, 0.0]}</td>\n",
       "      <td>0.0</td>\n",
       "    </tr>\n",
       "    <tr>\n",
       "      <th>11</th>\n",
       "      <td>[0.0, 1.0, 0.0, 0.0, 1.0, 0.0, 0.0, 0.0, 1.0, ...</td>\n",
       "      <td>1</td>\n",
       "      <td>-33.162659</td>\n",
       "      <td>-11.0</td>\n",
       "      <td>{'N-hot constraint': [[1], [2], [0], [3]]}</td>\n",
       "      <td>{'N-hot constraint': [0.0, 0.0, 0.0, 0.0]}</td>\n",
       "      <td>0.0</td>\n",
       "    </tr>\n",
       "    <tr>\n",
       "      <th>12</th>\n",
       "      <td>[1.0, 0.0, 0.0, 0.0, 1.0, 1.0, 1.0, 0.0, 0.0, ...</td>\n",
       "      <td>1</td>\n",
       "      <td>-33.093693</td>\n",
       "      <td>-9.0</td>\n",
       "      <td>{'N-hot constraint': [[1], [2], [0], [3]]}</td>\n",
       "      <td>{'N-hot constraint': [0.0, 0.0, 0.0, 0.0]}</td>\n",
       "      <td>0.0</td>\n",
       "    </tr>\n",
       "    <tr>\n",
       "      <th>13</th>\n",
       "      <td>[1.0, 1.0, 0.0, 0.0, 0.0, 0.0, 0.0, 0.0, 1.0, ...</td>\n",
       "      <td>1</td>\n",
       "      <td>-33.093693</td>\n",
       "      <td>-9.0</td>\n",
       "      <td>{'N-hot constraint': [[1], [2], [0], [3]]}</td>\n",
       "      <td>{'N-hot constraint': [0.0, 0.0, 0.0, 0.0]}</td>\n",
       "      <td>0.0</td>\n",
       "    </tr>\n",
       "    <tr>\n",
       "      <th>14</th>\n",
       "      <td>[0.0, 0.0, 1.0, 1.0, 1.0, 1.0, 1.0, 1.0, 1.0, ...</td>\n",
       "      <td>1</td>\n",
       "      <td>-33.231625</td>\n",
       "      <td>-13.0</td>\n",
       "      <td>{'N-hot constraint': [[1], [2], [0], [3]]}</td>\n",
       "      <td>{'N-hot constraint': [0.0, 0.0, 0.0, 0.0]}</td>\n",
       "      <td>0.0</td>\n",
       "    </tr>\n",
       "  </tbody>\n",
       "</table>\n",
       "</div>"
      ],
      "text/plain": [
       "                                          solution[q]  num_occurrences  \\\n",
       "0   [1.0, 0.0, 0.0, 0.0, 1.0, 1.0, 1.0, 1.0, 0.0, ...                1   \n",
       "2   [1.0, 1.0, 1.0, 1.0, 1.0, 1.0, 0.0, 0.0, 0.0, ...                1   \n",
       "4   [1.0, 1.0, 1.0, 0.0, 0.0, 0.0, 0.0, 0.0, 0.0, ...                1   \n",
       "7   [1.0, 1.0, 1.0, 1.0, 1.0, 0.0, 0.0, 0.0, 0.0, ...                1   \n",
       "8   [1.0, 1.0, 1.0, 1.0, 1.0, 1.0, 1.0, 0.0, 0.0, ...                1   \n",
       "9   [0.0, 0.0, 0.0, 0.0, 1.0, 1.0, 1.0, 1.0, 1.0, ...                1   \n",
       "10  [0.0, 1.0, 1.0, 1.0, 1.0, 0.0, 0.0, 1.0, 1.0, ...                1   \n",
       "11  [0.0, 1.0, 0.0, 0.0, 1.0, 0.0, 0.0, 0.0, 1.0, ...                1   \n",
       "12  [1.0, 0.0, 0.0, 0.0, 1.0, 1.0, 1.0, 0.0, 0.0, ...                1   \n",
       "13  [1.0, 1.0, 0.0, 0.0, 0.0, 0.0, 0.0, 0.0, 1.0, ...                1   \n",
       "14  [0.0, 0.0, 1.0, 1.0, 1.0, 1.0, 1.0, 1.0, 1.0, ...                1   \n",
       "\n",
       "       energy  objective                           constraint_forall  \\\n",
       "0  -15.448276      -13.0  {'N-hot constraint': [[1], [2], [0], [3]]}   \n",
       "2   -3.885532      -23.0  {'N-hot constraint': [[1], [2], [0], [3]]}   \n",
       "4  -10.366085      -19.0  {'N-hot constraint': [[1], [2], [0], [3]]}   \n",
       "7  -33.093693       -9.0  {'N-hot constraint': [[1], [2], [0], [3]]}   \n",
       "8  -33.300587      -15.0  {'N-hot constraint': [[1], [2], [0], [3]]}   \n",
       "9  -33.093693       -9.0  {'N-hot constraint': [[1], [2], [0], [3]]}   \n",
       "10 -33.369553      -17.0  {'N-hot constraint': [[1], [2], [0], [3]]}   \n",
       "11 -33.162659      -11.0  {'N-hot constraint': [[1], [2], [0], [3]]}   \n",
       "12 -33.093693       -9.0  {'N-hot constraint': [[1], [2], [0], [3]]}   \n",
       "13 -33.093693       -9.0  {'N-hot constraint': [[1], [2], [0], [3]]}   \n",
       "14 -33.231625      -13.0  {'N-hot constraint': [[1], [2], [0], [3]]}   \n",
       "\n",
       "                             constraint_values  \\\n",
       "0   {'N-hot constraint': [0.0, 0.0, 0.0, 0.0]}   \n",
       "2   {'N-hot constraint': [0.0, 0.0, 0.0, 0.0]}   \n",
       "4   {'N-hot constraint': [0.0, 0.0, 0.0, 0.0]}   \n",
       "7   {'N-hot constraint': [0.0, 0.0, 0.0, 0.0]}   \n",
       "8   {'N-hot constraint': [0.0, 0.0, 0.0, 0.0]}   \n",
       "9   {'N-hot constraint': [0.0, 0.0, 0.0, 0.0]}   \n",
       "10  {'N-hot constraint': [0.0, 0.0, 0.0, 0.0]}   \n",
       "11  {'N-hot constraint': [0.0, 0.0, 0.0, 0.0]}   \n",
       "12  {'N-hot constraint': [0.0, 0.0, 0.0, 0.0]}   \n",
       "13  {'N-hot constraint': [0.0, 0.0, 0.0, 0.0]}   \n",
       "14  {'N-hot constraint': [0.0, 0.0, 0.0, 0.0]}   \n",
       "\n",
       "    constraint_violation[N-hot constraint]  \n",
       "0                                      0.0  \n",
       "2                                      0.0  \n",
       "4                                      0.0  \n",
       "7                                      0.0  \n",
       "8                                      0.0  \n",
       "9                                      0.0  \n",
       "10                                     0.0  \n",
       "11                                     0.0  \n",
       "12                                     0.0  \n",
       "13                                     0.0  \n",
       "14                                     0.0  "
      ]
     },
     "execution_count": 11,
     "metadata": {},
     "output_type": "execute_result"
    }
   ],
   "source": [
    "df = results.to_dense().to_pandas()\n",
    "feasible_df = df[df[\"constraint_violation[N-hot constraint]\"] == 0.0]\n",
    "feasible_df"
   ]
  },
  {
   "cell_type": "markdown",
   "id": "1cc15e38-6c67-463d-be5b-58c54ccee767",
   "metadata": {},
   "source": [
    "The lowest objective is -25.0 in this, so let us check the result."
   ]
  },
  {
   "cell_type": "code",
   "execution_count": 12,
   "id": "a5a9d00b-5969-4b77-8719-59e967e55c2e",
   "metadata": {},
   "outputs": [
    {
     "data": {
      "text/plain": [
       "array([0., 1., 0., 0., 1., 0., 0., 0., 1., 1., 1., 1., 1., 1., 1., 1., 0.,\n",
       "       0., 0., 0., 1., 1., 1., 0., 0., 0., 0., 1., 1., 1.])"
      ]
     },
     "execution_count": 12,
     "metadata": {},
     "output_type": "execute_result"
    }
   ],
   "source": [
    "sol = feasible_df[\"solution[q]\"][11]\n",
    "sol"
   ]
  },
  {
   "cell_type": "markdown",
   "id": "d30d78e2",
   "metadata": {},
   "source": [
    "## Visualize results\n",
    "\n",
    "Let us visualize the result."
   ]
  },
  {
   "cell_type": "code",
   "execution_count": 13,
   "id": "fbf615c5",
   "metadata": {},
   "outputs": [],
   "source": [
    "import matplotlib.pyplot as plt\n",
    "import matplotlib.patches as patches\n",
    "import numpy as np"
   ]
  },
  {
   "cell_type": "code",
   "execution_count": 14,
   "id": "f1a66aca",
   "metadata": {},
   "outputs": [
    {
     "data": {
      "image/png": "[encoded data removed]",
      "text/plain": [
       "<Figure size 1500x800 with 1 Axes>"
      ]
     },
     "metadata": {},
     "output_type": "display_data"
    }
   ],
   "source": [
    "fig, ax = plt.subplots(figsize=(15,8))\n",
    "ax.tick_params(labelleft=False,left=False,bottom=False)\n",
    "plt.gca().spines['right'].set_visible(False)\n",
    "plt.gca().spines['left'].set_visible(False)\n",
    "plt.gca().spines['top'].set_visible(False)\n",
    "#plt.gca().spines['bottom'].set_visible(False)\n",
    "\n",
    "for i in range(num_cars):\n",
    "    position = (1.5*i, 0)\n",
    "    circ = patches.Circle(xy=position, radius=0.5, fc= 'k' if sol[i] else 'w', ec='k')\n",
    "    c_txt = plt.text(*position, 'C%s'%(sequence[i]), color = 'w' if sol[i] else 'k', horizontalalignment=\"center\", verticalalignment=\"center\")\n",
    "    ax.add_patch(circ)\n",
    "ax.set_xticks(np.arange(num_cars)*1.5, np.arange(num_cars),fontsize=10)   \n",
    "ax.set_xlim(-1, 1.5*num_cars-0.5)\n",
    "ax.set_ylim(-1, 1)\n",
    "ax.set_aspect('equal')\n",
    "plt.show()"
   ]
  },
  {
   "cell_type": "markdown",
   "id": "ec05b749",
   "metadata": {},
   "source": [
    "The color switchings only appear two times in this result."
   ]
  },
  {
   "cell_type": "markdown",
   "id": "de429253",
   "metadata": {
    "tags": []
   },
   "source": [
    "## References\n",
    "[1] Sheir Yarkoni, et al., \"[Multi-car paint shop optimization with quantum annealing](https://arxiv.org/abs/2109.07876)\" (2019)"
   ]
  }
 ],
 "metadata": {
  "kernelspec": {
   "display_name": "Python 3 (ipykernel)",
   "language": "python",
   "name": "python3"
  },
  "language_info": {
   "codemirror_mode": {
    "name": "ipython",
    "version": 3
   },
   "file_extension": ".py",
   "mimetype": "text/x-python",
   "name": "python",
   "nbconvert_exporter": "python",
   "pygments_lexer": "ipython3",
   "version": "3.9.16"
  }
 },
 "nbformat": 4,
 "nbformat_minor": 5
}
