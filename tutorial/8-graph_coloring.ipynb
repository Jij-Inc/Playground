{
 "cells": [
  {
   "cell_type": "markdown",
   "metadata": {},
   "source": [
    "--- \n",
    "description: Here we show how to solve graph coloring problems using JijZept and JijModeling.\n",
    "---"
   ]
  },
  {
   "cell_type": "markdown",
   "metadata": {},
   "source": [
    "# Graph Coloring Problem\n",
    "\n",
    "Here we show how to solve graph coloring problems using JijZept and JijModeling. \n",
    "This problem is also mentioned in 6.1. Graph Coloring on [Lucas, 2014, \"Ising formulations of many NP problems\"](https://www.frontiersin.org/articles/10.3389/fphy.2014.00005/full).\n",
    "\n",
    "## What is the graph coloring problem?\n",
    "\n",
    "In this problem, we color different colors to the two vertices on the same edge in a given graph.\n",
    "This problem is related to the famous four-color theorem which we can color the map with four colors.\n",
    "The picture below is a schematic picture of this theorem.\n",
    "We can color every object in the figures with four colors.\n",
    "\n",
    "![](./assets/graph_coloring_four_color.png)\n",
    "\n",
    "If we can use only 3 colors, which is called 3-coloring, this is one of the famous NP-complete problems.\n",
    "\n",
    "### Example\n",
    "\n",
    "Let's consider the following undirected graph consisting of 6 vertices below as an example.\n",
    "\n",
    "![](./assets/graph_coloring_01.png)\n",
    "\n",
    "We can color this graph in three colors as follows.\n",
    "\n",
    "![](./assets/graph_coloring_02.png)\n",
    "\n",
    "No edge connects two vertices of the same color exist.\n",
    "\n",
    "### Generalization\n",
    "\n",
    "Next, we generalize the above example and express it in a mathematical model.\n",
    "We consider coloring an undirected graph $G=(V, E)$ with $N$ colors and introduce variables $x_{v, n}$ which are 1 if vertex $v$ is colored with $n$ and 0 otherwise.\n",
    "\n",
    "**Constraint: the vertices must be painted with one color**\n",
    "\n",
    "This problem can not allow us to color a vertex with two colors.\n",
    "\n",
    "$$\n",
    "\\sum_{n=0}^{N-1} x_{v, n} \n",
    "= 1 \\quad (\\forall v \\in V) \\tag{1}\n",
    "$$\n",
    "\n",
    "**Objective function: we minimize the number of edges that connect two vertices of the same color**\n",
    "\n",
    "$$\n",
    "\\min \\quad \n",
    "\\sum_{n=0}^{N-1} \\sum_{(uv) \\in E} x_{u, n} x_{v, n} \\tag{2}\n",
    "$$\n",
    "\n",
    "where E is a set of edges on graph $G$.\n",
    "This objective function is quite complicated.\n",
    "Let us see the table below.\n",
    "\n",
    "| $x_{u,n}$ | $x_{v,n}$ | $x_{u,n}x_{v,n}$ |  \n",
    "|-----------|-----------|------------------|\n",
    "|     0     |     0     |         0        |\n",
    "|     0     |     0     |         0        |\n",
    "|     1     |     0     |         0        |\n",
    "|     1     |     1     |         1        |\n",
    "\n",
    "As we defined above if vertex$u$ is colored by $n$, $x_{u,n}=1$, so only when both $x_{u,n}$ and $x_{v,n}$ are 1, $x_{u,n}x_{v,n} = 1$ in the above table, and 0 otherwise.\n",
    "When two vertices on every edge have different colors, the value of this objective function becomes 0.\n",
    "Thus, this objective function is an indicator of how much graph coloring has been achieved."
   ]
  },
  {
   "cell_type": "markdown",
   "metadata": {},
   "source": [
    "## Modeling by JijModeling\n",
    "\n",
    "Next, we show an implementation of the above mathematical model in JijModeling. \n",
    "We first define variables for the mathematical model. "
   ]
  },
  {
   "cell_type": "code",
   "execution_count": 1,
   "metadata": {},
   "outputs": [],
   "source": [
    "import jijmodeling as jm\n",
    "\n",
    "# define variables\n",
    "V = jm.Placeholder('V')\n",
    "E = jm.Placeholder('E', ndim=2)\n",
    "N = jm.Placeholder('N')\n",
    "x = jm.BinaryVar('x', shape=(V, N))\n",
    "n = jm.Element('i', belong_to=(0, N))\n",
    "v = jm.Element('v', belong_to=(0, V))\n",
    "e = jm.Element('e', belong_to=E)"
   ]
  },
  {
   "attachments": {},
   "cell_type": "markdown",
   "metadata": {},
   "source": [
    "`V=jm.Placeholder('V')` represents the number of vertices. \n",
    "We denote `E=jm.Placeholder('E', ndim=2)` a set of edges.\n",
    "Also `N` is the number of colors.\n",
    "Then, we define a two-dimensional list of binary variables `x=jm.BinaryVar('x', shape=(V, N))`\n",
    "Finary, we set the subscripts `n` and `v` used in the mathematical model.\n",
    "`e` represents the variable for edges. `e[0]` and `e[1]` mean the vertex $u$ and $v$ on the edge, respectively."
   ]
  },
  {
   "cell_type": "markdown",
   "metadata": {},
   "source": [
    "### Constraint\n",
    "\n",
    "We implement a constraint Equation (1)."
   ]
  },
  {
   "cell_type": "code",
   "execution_count": 2,
   "metadata": {},
   "outputs": [],
   "source": [
    "# set problem\n",
    "problem = jm.Problem('Graph Coloring')\n",
    "# set one-hot constraint that each vertex has only one color\n",
    "const = x[v, :].sum()\n",
    "problem += jm.Constraint('one-color', const==1, forall=v)"
   ]
  },
  {
   "attachments": {},
   "cell_type": "markdown",
   "metadata": {},
   "source": [
    "`x[v, :].sum()` is syntactic sugar of `sum(n, x[v, n])`."
   ]
  },
  {
   "cell_type": "markdown",
   "metadata": {},
   "source": [
    "### Objective function\n",
    "\n",
    "Next, we implement an objective function Equation (2)"
   ]
  },
  {
   "cell_type": "code",
   "execution_count": 3,
   "metadata": {},
   "outputs": [],
   "source": [
    "# set objective function: minimize edges whose vertices connected by edges are the same color\n",
    "sum_list = [n, e]\n",
    "problem += jm.sum(sum_list, x[e[0], n]*x[e[1], n])"
   ]
  },
  {
   "attachments": {},
   "cell_type": "markdown",
   "metadata": {},
   "source": [
    "We can write $\\sum_n \\sum_e$ as `sum([n, e], ...)`.\n",
    "We can easily formulate the summation over nodes in edges with JijModeling."
   ]
  },
  {
   "cell_type": "markdown",
   "metadata": {},
   "source": [
    "Let's display the implemented mathematical model in Jupyter Notebook."
   ]
  },
  {
   "cell_type": "code",
   "execution_count": 4,
   "metadata": {},
   "outputs": [
    {
     "data": {
      "text/latex": [
       "$$\\begin{array}{cccc}\\text{Problem:} & \\text{Graph Coloring} & & \\\\& & \\min \\quad \\displaystyle \\sum_{i = 0}^{N - 1} \\sum_{e \\in E} x_{e_{0}, i} \\cdot x_{e_{1}, i} & \\\\\\text{{s.t.}} & & & \\\\ & \\text{one-color} & \\displaystyle \\sum_{\\ast_{1} = 0}^{N - 1} x_{v, \\ast_{1}} = 1 & \\forall v \\in \\left\\{0,\\ldots,V - 1\\right\\} \\\\\\text{{where}} & & & \\\\& x & 2\\text{-dim binary variable}\\\\\\end{array}$$"
      ],
      "text/plain": [
       "<jijmodeling.Problem at 0x11012ceb0>"
      ]
     },
     "execution_count": 4,
     "metadata": {},
     "output_type": "execute_result"
    }
   ],
   "source": [
    "problem"
   ]
  },
  {
   "cell_type": "markdown",
   "metadata": {},
   "source": [
    "## Prepare an instance\n",
    "\n",
    "We prepare a graph using [NetworkX](https://networkx.org/). \n",
    "Here we create random graph with 12 vertices."
   ]
  },
  {
   "cell_type": "code",
   "execution_count": 5,
   "metadata": {},
   "outputs": [],
   "source": [
    "import networkx as nx\n",
    "\n",
    "# set the number of vertices\n",
    "inst_V = 12\n",
    "# set the number of colors\n",
    "inst_N = 4\n",
    "# create a random graph\n",
    "inst_G = nx.gnp_random_graph(inst_V, 0.4)\n",
    "# get information of edges\n",
    "inst_E = [list(edge) for edge in inst_G.edges]\n",
    "instance_data = {'V': inst_V, 'N': inst_N, 'E': inst_E}"
   ]
  },
  {
   "cell_type": "markdown",
   "metadata": {},
   "source": [
    "In this code, the number of vertices in the graph and the number of colors are 12 and 4, respectively. "
   ]
  },
  {
   "cell_type": "markdown",
   "metadata": {},
   "source": [
    "## Solve by JijZept's SA\n",
    "\n",
    "We solve this problem using JijZept `JijSASampler`. We also use the parameter search function by setting `search=True`."
   ]
  },
  {
   "cell_type": "code",
   "execution_count": 6,
   "metadata": {},
   "outputs": [],
   "source": [
    "import jijzept as jz\n",
    "\n",
    "# set sampler\n",
    "sampler = jz.JijSASampler(config=\"config.toml\")\n",
    "# solve problem\n",
    "response = sampler.sample_model(problem, instance_data, multipliers={\"one-color\": 0.5}, num_reads=100, search=True)"
   ]
  },
  {
   "cell_type": "markdown",
   "metadata": {},
   "source": [
    "# Visualize solution\n",
    "\n",
    "In the end, we extract the lowest energy solution among the feasible solutions and visualize it.\n",
    "We obtain the feasible coloring for this graph as you can see."
   ]
  },
  {
   "cell_type": "code",
   "execution_count": 21,
   "metadata": {},
   "outputs": [
    {
     "name": "stdout",
     "output_type": "stream",
     "text": [
      "Objective:  0.0\n"
     ]
    },
    {
     "data": {
      "image/png": "[encoded data removed]",
      "text/plain": [
       "<Figure size 640x480 with 1 Axes>"
      ]
     },
     "metadata": {},
     "output_type": "display_data"
    }
   ],
   "source": [
    "import matplotlib.pyplot as plt\n",
    "import numpy as np\n",
    "\n",
    "# get sampleset\n",
    "sampleset = response.get_sampleset()\n",
    "# extract feasible solutions\n",
    "feasible_samples = sampleset.feasibles()\n",
    "# get the values of feasible objective function\n",
    "feasible_objectives = [sample.eval.objective for sample in feasible_samples]\n",
    "\n",
    "if len(feasible_objectives) == 0:\n",
    "    print('No feasible solution found ...')\n",
    "else:\n",
    "    # get the lowest value of objective function\n",
    "    lowest_index = np.argmin(feasible_objectives)\n",
    "    # show the value of lowest objective function\n",
    "    print(\"Objective: \", feasible_objectives[lowest_index])\n",
    "    # get indices of x == 1\n",
    "    indices = sorted(feasible_samples[lowest_index].var_values['x'].values.keys())\n",
    "    # initialize vertex color list\n",
    "    node_colors = [-1] * len(indices)\n",
    "    # set color list for visualization\n",
    "    colorlist = ['gold', 'violet', 'limegreen', 'darkorange']\n",
    "    # set vertex color list\n",
    "    for i, j in indices:\n",
    "        node_colors[i] = colorlist[j]\n",
    "    # make figure\n",
    "    nx.draw_networkx(inst_G, node_color=node_colors, with_labels=True)\n",
    "    plt.show()"
   ]
  }
 ],
 "metadata": {
  "kernelspec": {
   "display_name": "Python 3.9.5 64-bit",
   "language": "python",
   "name": "python3"
  },
  "language_info": {
   "codemirror_mode": {
    "name": "ipython",
    "version": 3
   },
   "file_extension": ".py",
   "mimetype": "text/x-python",
   "name": "python",
   "nbconvert_exporter": "python",
   "pygments_lexer": "ipython3",
   "version": "3.11.3"
  },
  "vscode": {
   "interpreter": {
    "hash": "36cf16204b8548560b1c020c4e8fb5b57f0e4c58016f52f2d4be01e192833930"
   }
  }
 },
 "nbformat": 4,
 "nbformat_minor": 4
}
