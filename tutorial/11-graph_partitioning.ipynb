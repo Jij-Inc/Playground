{
 "cells": [
  {
   "cell_type": "markdown",
   "metadata": {},
   "source": [
    "--- \n",
    "description: Here we show how to solve the graph partitioning problem using JijZept and JijModeling.\n",
    "---"
   ]
  },
  {
   "attachments": {},
   "cell_type": "markdown",
   "metadata": {},
   "source": [
    "# Graph Partitioning\n",
    "\n",
    "Here we show how to solve the graph partitioning problem using JijZept and JijModeling. \n",
    "This problem is also mentioned in 2.2. Graph Partitioning on [Lucas, 2014, \"Ising formulations of many NP problems\"](https://www.frontiersin.org/articles/10.3389/fphy.2014.00005/full)."
   ]
  },
  {
   "attachments": {},
   "cell_type": "markdown",
   "metadata": {},
   "source": [
    "## What is Graph Partitioning?\n",
    "\n",
    "Graph partitioning is the problem of dividing a graph into two subsets of equal size with the aim of minimizing the number of edges between the subsets.\n",
    "\n",
    "### Example\n",
    "\n",
    "Let us take a look at the following situation.\n",
    "Consider a graph with 6 vertices labeled from 1 to 6, and edges connecting vertices as follows:\n",
    "- 1 is connected to 2 and 3\n",
    "- 2 is connected to 1, 3, and 4\n",
    "- 3 is connected to 1 and 2\n",
    "- 4 is connected to 2, 5, and 6\n",
    "- 5 is connected to 4 and 6\n",
    "- 6 is connected to 4 and 5\n",
    "\n",
    "The goal is to partition this graph into two subsets of equal size (i.e., 3 vertices in each subset) with minimized edges between them.\n",
    "In this case, the optimal solution is $\\{1, 2, 3\\}, \\{4, 5, 6\\}$, where there is only 1 edge connecting vertices in different subsets (i.e., the edge (2,4)), which is the minimum possible number of edges connecting the two subsets. \n",
    "\n",
    "![](./assets/11-graph_partitioning_1.png)\n",
    "\n"
   ]
  },
  {
   "attachments": {},
   "cell_type": "markdown",
   "metadata": {},
   "source": [
    "\n",
    "### Mathematical Model\n",
    "\n",
    "Let $G=(V, E)$ be the undirected graph where $V$ is the set of vertices and $E$ is the set of edges.\n",
    "The goal is to partition $V$ into two subsets $V_1$ and $V_2$ of equal size, with the number of edges crossing the partition being minimized.\n",
    "We introduce variables $x_{u}$ which is 1 if vertex $u$ is in the subset $V_1$ and 0 if vertex $u$ is in the subset $V_2$.\n",
    "\n",
    "**Constraint: the vertices must be partitioined into two equal-sized sets**\n",
    "\n",
    "We express this constraint as follows:\n",
    "\n",
    "$$\n",
    "∑_{u \\in V} x_u = V/2 \\tag{1}\n",
    "$$\n",
    "\n",
    "**Objective function: minimize the number of edges crossing the partition**\n",
    "\n",
    "$$\n",
    "\\min \\quad \n",
    "\\sum_{(uv) \\in E} (\\{x_{u} (1-x_{v})\\}+\\{(1-x_{u}) x_{v}\\})\n",
    " \\tag{2}\n",
    "$$\n",
    "\n",
    "Here, the first term $x_u (1 - x_v)$ evaluates to 1 if edge (u, v) crosses the boundary between $V_1$ and $V_2$ (i.e., if $u$ belongs to $V_2$ and $v$ belongs to $V_1$), and 0 otherwise. Similarly, the second term $(1 - x_u) x_v$ evaluates to 1 if edge (u, v) crosses the boundary between $V_1$ and $V_2$ (i.e., if $u$ belongs to $V_1$ and $v$ belongs to $V_2$), and 0 otherwise.\n",
    "\n",
    "Thus, this objective function is an indicator of how much graph partitioning has been achieved."
   ]
  },
  {
   "cell_type": "markdown",
   "metadata": {},
   "source": [
    "## Modeling by JijModeling\n",
    "\n",
    "Next, we show an implementation using JijModeling. We first define variables for the mathematical model described above."
   ]
  },
  {
   "cell_type": "code",
   "execution_count": 1,
   "metadata": {},
   "outputs": [],
   "source": [
    "import jijmodeling as jm\n",
    "\n",
    "# define variables\n",
    "V = jm.Placeholder('V')\n",
    "E = jm.Placeholder('E', ndim=2)\n",
    "x = jm.BinaryVar('x', shape=(V,))\n",
    "u = jm.Element('u', belong_to=V)\n",
    "e = jm.Element('e', belong_to=E)"
   ]
  },
  {
   "attachments": {},
   "cell_type": "markdown",
   "metadata": {},
   "source": [
    "`V=jm.Placeholder('V')` represents the number of vertices. \n",
    "We denote `E=jm.Placeholder('E', ndim=2)` as a set of edges.\n",
    "Then, we define a list of binary variables `x=jm.BinaryVar('x', shape=(V,))`, and we set the subscripts `u` used in the mathematical model.\n",
    "Finally, `e` represents the variable for edges. `e[0]` and `e[1]` represent the two vertices connected by the edge."
   ]
  },
  {
   "cell_type": "markdown",
   "metadata": {},
   "source": [
    "### Constraint\n",
    "\n",
    "We implement a constraint Equation (1)."
   ]
  },
  {
   "cell_type": "code",
   "execution_count": 2,
   "metadata": {},
   "outputs": [],
   "source": [
    "# set problem\n",
    "problem = jm.Problem('Graph Partitioning')\n",
    "# set constraint: the vertices must be partitioined into two equal-sized sets\n",
    "const = jm.sum(u, x[u])\n",
    "problem += jm.Constraint('constraint', const==V/2)"
   ]
  },
  {
   "cell_type": "markdown",
   "metadata": {},
   "source": [
    "### Objective function\n",
    "\n",
    "Next, we implement an objective function Equation (2)."
   ]
  },
  {
   "cell_type": "code",
   "execution_count": 3,
   "metadata": {},
   "outputs": [],
   "source": [
    "# set objective function: minimize the number of edges crossing the partition\n",
    "A_1 = x[e[0]]*(1-x[e[1]])\n",
    "A_2 = (1-x[e[0]])*x[e[1]]\n",
    "problem += jm.sum(e, (A_1 + A_2))"
   ]
  },
  {
   "cell_type": "markdown",
   "metadata": {},
   "source": [
    "Let's display the implemented mathematical model in Jupyter Notebook."
   ]
  },
  {
   "cell_type": "code",
   "execution_count": 4,
   "metadata": {},
   "outputs": [
    {
     "data": {
      "text/latex": [
       "$$\\begin{array}{cccc}\\text{Problem:} & \\text{Graph Partitioning} & & \\\\& & \\min \\quad \\displaystyle \\sum_{e \\in E} \\left(x_{e_{0}} \\cdot \\left(- x_{e_{1}} + 1\\right) + \\left(- x_{e_{0}} + 1\\right) \\cdot x_{e_{1}}\\right) & \\\\\\text{{s.t.}} & & & \\\\ & \\text{constraint} & \\displaystyle \\sum_{u = 0}^{V - 1} x_{u} = V \\cdot 2^{(-1)} &  \\\\\\text{{where}} & & & \\\\& x & 1\\text{-dim binary variable}\\\\\\end{array}$$"
      ],
      "text/plain": [
       "<jijmodeling.Problem at 0x318c840>"
      ]
     },
     "execution_count": 4,
     "metadata": {},
     "output_type": "execute_result"
    }
   ],
   "source": [
    "problem"
   ]
  },
  {
   "attachments": {},
   "cell_type": "markdown",
   "metadata": {},
   "source": [
    "## Prepare an instance\n",
    "\n",
    "We prepare a graph using [NetworkX](https://networkx.org/). \n",
    "Here we create random graph with 12 vertices."
   ]
  },
  {
   "cell_type": "code",
   "execution_count": 5,
   "metadata": {},
   "outputs": [],
   "source": [
    "import networkx as nx\n",
    "\n",
    "# set the number of vertices\n",
    "inst_V = 12\n",
    "# create a random graph\n",
    "inst_G = nx.gnp_random_graph(inst_V, 0.4)\n",
    "# get information of edges\n",
    "inst_E = [list(edge) for edge in inst_G.edges]\n",
    "instance_data = {'V': inst_V, 'E': inst_E}"
   ]
  },
  {
   "cell_type": "markdown",
   "metadata": {},
   "source": [
    "## Solve by JijZept's SA\n",
    "\n",
    "We solve this problem using JijZept `JijSASampler`. We also use the parameter search function by setting `search=True`."
   ]
  },
  {
   "cell_type": "code",
   "execution_count": 6,
   "metadata": {},
   "outputs": [],
   "source": [
    "import jijzept as jz\n",
    "\n",
    "# set sampler\n",
    "config_path = \"config.toml\"\n",
    "sampler = jz.JijSASampler(config=config_path)\n",
    "# solve problem\n",
    "response = sampler.sample_model(problem, instance_data, multipliers={\"constraint\": 0.5}, num_reads=100, search=True)"
   ]
  },
  {
   "cell_type": "markdown",
   "metadata": {},
   "source": [
    "## Visualize the solution\n",
    "\n",
    "In the end, we extract the lowest energy solution from the feasible solutions and visualize it."
   ]
  },
  {
   "cell_type": "code",
   "execution_count": 7,
   "metadata": {},
   "outputs": [
    {
     "name": "stdout",
     "output_type": "stream",
     "text": [
      "Objective:  5.0\n"
     ]
    },
    {
     "data": {
      "image/png": "[encoded data removed]",
      "text/plain": [
       "<Figure size 640x480 with 1 Axes>"
      ]
     },
     "metadata": {},
     "output_type": "display_data"
    }
   ],
   "source": [
    "import matplotlib.pyplot as plt\n",
    "import numpy as np\n",
    "\n",
    "# get sampleset which is returned from JijZept\n",
    "sampleset = response.get_sampleset()\n",
    "# extract feasible samples\n",
    "feasible_samples = sampleset.feasibles()\n",
    "# get the values of feasible objective function\n",
    "feasible_objectives = [sample.eval.objective for sample in feasible_samples]\n",
    "\n",
    "if len(feasible_objectives) == 0:\n",
    "    print(\"No feasible sample found ...\")\n",
    "else:\n",
    "    # get the lowest index\n",
    "    lowest_index = np.argmin(feasible_objectives)\n",
    "    print(\"Objective: \", feasible_objectives[lowest_index])\n",
    "    # get the solution of lowest index\n",
    "    lowest_solution = feasible_samples[lowest_index].var_values[\"x\"].values\n",
    "    # get the index of x == 1\n",
    "    x_indices = [key[0] for key in lowest_solution.keys()]\n",
    "    # set color list for visualization\n",
    "    cmap = plt.get_cmap(\"tab10\")\n",
    "    # initialize vertex color list\n",
    "    node_colors = [cmap(0)] * instance_data[\"V\"]\n",
    "    # set vertex color list\n",
    "    for i in x_indices:\n",
    "        node_colors[i] = cmap(1)\n",
    "    # make figure\n",
    "    nx.draw_networkx(inst_G, node_color=node_colors, with_labels=True)\n",
    "    plt.show()"
   ]
  },
  {
   "attachments": {},
   "cell_type": "markdown",
   "metadata": {},
   "source": [
    "With the above visualization, we obtain a feasible partitioning for this graph."
   ]
  }
 ],
 "metadata": {
  "kernelspec": {
   "display_name": ".venv",
   "language": "python",
   "name": "python3"
  },
  "language_info": {
   "codemirror_mode": {
    "name": "ipython",
    "version": 3
   },
   "file_extension": ".py",
   "mimetype": "text/x-python",
   "name": "python",
   "nbconvert_exporter": "python",
   "pygments_lexer": "ipython3",
   "version": "3.9.5"
  },
  "vscode": {
   "interpreter": {
    "hash": "d8bb8d8f316256c93cd9d893faf7cf943ba8f6c0b9f3d1c8a75ecb1cf0541374"
   }
  }
 },
 "nbformat": 4,
 "nbformat_minor": 4
}
