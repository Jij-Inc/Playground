{
 "cells": [
  {
   "cell_type": "markdown",
   "metadata": {},
   "source": [
    "--- \n",
    "description: Here we show how to solve exact cover problem using JijZept and JijModeling.\n",
    "---"
   ]
  },
  {
   "attachments": {},
   "cell_type": "markdown",
   "metadata": {},
   "source": [
    "# Exact Cover\n",
    "\n",
    "Here we show how to solve the exact cover problem using JijZept and JijModeling. \n",
    "This problem is also described in 4.1. Exact Cover on [Lucas, 2014, \"Ising formulations of many NP problems\"](https://www.frontiersin.org/articles/10.3389/fphy.2014.00005/full)."
   ]
  },
  {
   "attachments": {},
   "cell_type": "markdown",
   "metadata": {},
   "source": [
    "## What is Exact Cover Problem?\n",
    "\n",
    "We consider a set $U = \\{1,...,M\\}$, and subsets $W_i \\subseteq U (i = 1,...,N)$\n",
    "such that\n",
    "$$\n",
    "U = \\bigcup_{i} W_i\n",
    "$$\n",
    "\n",
    "The question posed is: 'Does there exist a subset, denoted as $R$, within the set of sets ${W_i}$, such that the elements of $R$ are mutually disjoint and the union of these elements constitutes the set $U$?'\n",
    "\n",
    "### Example\n",
    "\n",
    "Let's take a look at the following situation.\n",
    "\n",
    "Let $U$ be the universe of elements $\\{1, 2, 3, 4, 5, 6, 7\\}$, and let $W_i$ be a collection of subsets of $U$, defined as follows:\n",
    "\n",
    "$$\n",
    "\\begin{align}\n",
    "&W_1 = \\{1, 2, 3\\}, \\\\ \n",
    "&W_2 = \\{4, 5\\},\\\\\n",
    "&W_3 = \\{6, 7\\},\\\\\n",
    "&W_4 = \\{3, 5, 7\\},\\\\\n",
    "&W_5 = \\{2, 5, 7\\},\\\\\n",
    "&W_6 = \\{3, 6, 7\\}.\n",
    "\\end{align}\n",
    "$$\n",
    "\n",
    "The exact cover problem for this example asks whether there exists a subset $R$ of $W_i$, such that the subsets in $R$ are disjoint and their union is exactly $U$. In other words, we are looking for a way to choose some of the subsets from $W_i$, such that each element in $U$ appears in exactly one subset of $R$, and no two subsets in $R$ share any elements.\n",
    "In this case, one possible exact cover for this instance of the problem is: \n",
    "$$\n",
    "R = \\{W_1, W_2, W_3\\}.\n",
    "$$\n",
    "\n",
    "### Mathematical Model\n",
    "Let $x_i$ be a binary variable that takes on the value $1$ if subset $W_i$ is selected, and $0$ otherwise. \n",
    "\n",
    "**Constraint: each element in $U$ appears in exactly one selected subset**\n",
    "\n",
    "Consider the following expression:\n",
    "\n",
    "$$\n",
    "\\sum_{i=1}^N x_i \\cdot V_{i, j} = 1 \\text{ for } j = 1, \\ldots, M\n",
    "\\tag{1}\n",
    "$$\n",
    "\n",
    "In this expression, $V_{i, j}$ represents a matrix that maps subset $i$ to a set of elements $j$. Specifically, $V_{i, j}$ is $1$ if $W_i$ contains $j$ and $0$ otherwise\n",
    "\n",
    "For instance, the above example can be written as the following.\n",
    "$$\n",
    "\\begin{align}\n",
    "&x_1 = 1 \\because 1 \\text{ appears only in } W_1,\n",
    "\\\\\n",
    "&x_1 + x_5 = 1 \\because 2  \\text{ appears in } W_1 \\text{ and } W_5,\n",
    "\\\\\n",
    "&x_1 + x_4 + x_6 = 1 \\because 3  \\text{ appears in } W_1, W_4, \\text{ and } W_6,\n",
    "\\\\\n",
    "&x_2 = 1 \\because 4  \\text{ appears only in } W_2,\n",
    "\\\\\n",
    "&x_2 + x_4 + x_5 = 1 \\because 5  \\text{ appears in } W_2, W_4, \\text{ and } W_5,\n",
    "\\\\\n",
    "&x_3 + x_6 = 1 \\because 6  \\text{ appears in } W_3 \\text{ and } W_6,\n",
    "\\\\\n",
    "&x_3 + x_4 + x_5 + x_6 = 1 \\because 7  \\text{ appears in } W_3, W_4, W_5, \\text{ and } W_6 .\n",
    "\\end{align}\n",
    "$$\n",
    "\n",
    "**Objective function: minimize the set cover**\n",
    "\n",
    "This can be expressed as the following.\n",
    "$$\n",
    "\\min \\sum_i x_i\n",
    "\\tag{2}\n",
    "$$"
   ]
  },
  {
   "attachments": {},
   "cell_type": "markdown",
   "metadata": {},
   "source": [
    "<!-- **Constraint 2: no two selected subsets overlap**\n",
    "\n",
    "This constraint ensures that each subset $V_i$ is used at most once in the solution.\n",
    "$$\n",
    "\\sum_{j=1}^n [j \\in V_i] \\cdot x_j \\leq 1 \\text{ for } i =  1, \\ldots, N\n",
    "$$\n",
    "\n",
    "Let us consider the example mentioned above.\n",
    "For $i=1$, We want to ensure that $V_1$ is used at most once in the solution. We can do this by setting a constraint that limits the number of subsets that include elements from $V_1$ to be at most one, which is shown below.\n",
    "$$\n",
    "x_1 + x_2 + x_3 \\leq 1\n",
    "$$\n",
    "This equation ensures that at most one subset from the family of subsets $V_i$ that includes any of the elements in $V_1$ is selected. If $x_1 = 1$ (meaning that subset $V_1$ is selected), then $x_2$ and $x_3$ must be zero (meaning that subsets $V_4$ and $V_6$, which also include elements from $V_1$, cannot be selected). Similarly, if $x_4 = 1$ (meaning that subset $V_4$ is selected), then $x_1$, $x_2$, and $x_3$ must be zero.\n",
    "\n",
    "We repeat this process for each subset in ${V_i}$ to ensure that each subset is used at most once in the solution. The second constraint enforces this requirement for all subsets in the family ${V_i}$. -->"
   ]
  },
  {
   "cell_type": "markdown",
   "metadata": {},
   "source": [
    "## Modeling by JijModeling\n",
    "\n",
    "Next, we show an implementation using JijModeling. We first define variables for the mathematical model described above."
   ]
  },
  {
   "cell_type": "code",
   "execution_count": 1,
   "metadata": {},
   "outputs": [],
   "source": [
    "import jijmodeling as jm\n",
    "\n",
    "\n",
    "# define variables\n",
    "U = jm.Placeholder('U')\n",
    "N = jm.Placeholder('N')\n",
    "M = jm.Placeholder('M')\n",
    "V = jm.Placeholder('V', ndim=2)\n",
    "x = jm.BinaryVar('x', shape=(N,))\n",
    "i = jm.Element('i', N)\n",
    "j = jm.Element('j', M)"
   ]
  },
  {
   "attachments": {},
   "cell_type": "markdown",
   "metadata": {},
   "source": [
    "`U` is the universe.\n",
    "`N` denotes the number of subsets.\n",
    "`M` is the number of elements.\n",
    "`V` defines if subset $i$ contains an element $j$.\n",
    "We define a two-dimensional list of binary variables `x`. \n",
    "Finally, we set the subscripts `i` and `j` used in the mathematical model."
   ]
  },
  {
   "attachments": {},
   "cell_type": "markdown",
   "metadata": {},
   "source": [
    "### Constraint\n",
    "\n",
    "We implement a constraint Equation (1)."
   ]
  },
  {
   "cell_type": "code",
   "execution_count": 2,
   "metadata": {},
   "outputs": [],
   "source": [
    "# set problem\n",
    "problem = jm.Problem('Exact Cover')\n",
    "# set constraint: each element j must be in exactly one subset i\n",
    "problem += jm.Constraint('onehot', jm.sum(i, x[i]*V[i, j]) == 1, forall=j)"
   ]
  },
  {
   "attachments": {},
   "cell_type": "markdown",
   "metadata": {},
   "source": [
    "### Objective function\n",
    "\n",
    "We implement an objective function."
   ]
  },
  {
   "cell_type": "code",
   "execution_count": 3,
   "metadata": {},
   "outputs": [],
   "source": [
    "problem += jm.sum(i, x[i])"
   ]
  },
  {
   "attachments": {},
   "cell_type": "markdown",
   "metadata": {},
   "source": [
    "Let us display the implemented mathematical model in Jupyter Notebook."
   ]
  },
  {
   "cell_type": "code",
   "execution_count": 4,
   "metadata": {},
   "outputs": [
    {
     "data": {
      "text/latex": [
       "$$\\begin{array}{cccc}\\text{Problem:} & \\text{Exact Cover} & & \\\\& & \\min \\quad \\displaystyle \\sum_{i = 0}^{N - 1} x_{i} & \\\\\\text{{s.t.}} & & & \\\\ & \\text{onehot} & \\displaystyle \\sum_{i = 0}^{N - 1} x_{i} \\cdot V_{i, j} = 1 & \\forall j \\in \\left\\{0,\\ldots,M - 1\\right\\} \\\\\\text{{where}} & & & \\\\& x & 1\\text{-dim binary variable}\\\\\\end{array}$$"
      ],
      "text/plain": [
       "<jijmodeling.Problem at 0x1955440>"
      ]
     },
     "execution_count": 4,
     "metadata": {},
     "output_type": "execute_result"
    }
   ],
   "source": [
    "problem"
   ]
  },
  {
   "attachments": {},
   "cell_type": "markdown",
   "metadata": {},
   "source": [
    "## Prepare an instance\n",
    "\n",
    "Here, we use the same values from an example as we describe before."
   ]
  },
  {
   "cell_type": "code",
   "execution_count": 5,
   "metadata": {},
   "outputs": [],
   "source": [
    "import numpy as np\n",
    "\n",
    "# set a list of W\n",
    "W_1 = [1, 2, 3]\n",
    "W_2 = [4, 5]\n",
    "W_3 = [6, 7]\n",
    "W_4 = [3, 5, 7]\n",
    "W_5 = [2, 5, 7]\n",
    "W_6 = [3, 6, 7]\n",
    "\n",
    "# set the number of Nodes\n",
    "inst_N = 6\n",
    "inst_M = 7\n",
    "\n",
    "# Convert the list of lists into a NumPy array\n",
    "inst_V = np.zeros((inst_N, inst_M))\n",
    "for i, subset in enumerate([W_1, W_2, W_3, W_4, W_5, W_6]):\n",
    "    for j in subset:\n",
    "        inst_V[i, j-1] = 1  # -1 since element indices start from 1 in the input data\n",
    "\n",
    "instance_data = {'V': inst_V, 'M': inst_M, 'N': inst_N}"
   ]
  },
  {
   "cell_type": "markdown",
   "metadata": {},
   "source": [
    "## Solve by JijZept's SA\n",
    "\n",
    "We solve this problem using JijZept `JijSASampler`. We also use the parameter search function by setting `search=True`."
   ]
  },
  {
   "cell_type": "code",
   "execution_count": 6,
   "metadata": {},
   "outputs": [],
   "source": [
    "import jijzept as jz\n",
    "\n",
    "# set sampler\n",
    "config_path = \"../../../config.toml\"\n",
    "sampler = jz.JijSASampler(config=config_path)\n",
    "# solve problem\n",
    "response = sampler.sample_model(problem, instance_data, multipliers={'onehot': 1.0}, num_reads=100, search=True)"
   ]
  },
  {
   "attachments": {},
   "cell_type": "markdown",
   "metadata": {},
   "source": [
    "##  Check the solution\n",
    "\n",
    "In the end, we extract the solution from the feasible solutions."
   ]
  },
  {
   "cell_type": "code",
   "execution_count": 14,
   "metadata": {},
   "outputs": [
    {
     "name": "stdout",
     "output_type": "stream",
     "text": [
      "W_3 = [6 7]\n",
      "W_2 = [4 5]\n",
      "W_1 = [1 2 3]\n"
     ]
    }
   ],
   "source": [
    "# get sampleset\n",
    "sampleset = response.get_sampleset()\n",
    "# extract feasible samples\n",
    "feasible_samples = sampleset.feasibles()\n",
    "# get the values of feasible objectives\n",
    "feasible_objectives = [sample.eval.objective for sample in feasible_samples]\n",
    "if len(feasible_objectives) == 0:\n",
    "    print(\"No feasible sample found ...\")\n",
    "else:\n",
    "    # get the lowest index of values\n",
    "    lowest_index = np.argmin(feasible_objectives)\n",
    "    # get the lowest solution\n",
    "    lowest_solution = feasible_samples[lowest_index].var_values[\"x\"].values\n",
    "    # get the indices x == 1\n",
    "    x_indices = [key[0] for key in lowest_solution.keys()]\n",
    "    # show the result\n",
    "    for i in x_indices:\n",
    "        print(f\"W_{i+1} = {inst_V[i, :].nonzero()[0]+1}\")"
   ]
  },
  {
   "attachments": {},
   "cell_type": "markdown",
   "metadata": {},
   "source": [
    "With the above calculation, we obtain a the result."
   ]
  }
 ],
 "metadata": {
  "kernelspec": {
   "display_name": "Python 3 (ipykernel)",
   "language": "python",
   "name": "python3"
  },
  "language_info": {
   "codemirror_mode": {
    "name": "ipython",
    "version": 3
   },
   "file_extension": ".py",
   "mimetype": "text/x-python",
   "name": "python",
   "nbconvert_exporter": "python",
   "pygments_lexer": "ipython3",
   "version": "3.9.5"
  },
  "vscode": {
   "interpreter": {
    "hash": "d8bb8d8f316256c93cd9d893faf7cf943ba8f6c0b9f3d1c8a75ecb1cf0541374"
   }
  }
 },
 "nbformat": 4,
 "nbformat_minor": 4
}
