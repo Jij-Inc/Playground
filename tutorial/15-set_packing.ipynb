{
 "cells": [
  {
   "cell_type": "markdown",
   "metadata": {},
   "source": [
    "--- \n",
    "description: Here we show how to solve set packing problem using JijZept and JijModeling.\n",
    "---"
   ]
  },
  {
   "attachments": {},
   "cell_type": "markdown",
   "metadata": {},
   "source": [
    "# Set Packing\n",
    "\n",
    "Here we show how to solve set packing problem using JijZept and [JijModeling](https://www.ref.documentation.jijzept.com/jijmodeling/). \n",
    "This problem is also mentioned in 4.2. Set Packing on [Lucas, 2014, \"Ising formulations of many NP problems\"](https://www.frontiersin.org/articles/10.3389/fphy.2014.00005/full)."
   ]
  },
  {
   "attachments": {},
   "cell_type": "markdown",
   "metadata": {},
   "source": [
    "## What is Set Packing?\n",
    "\n",
    "Let us consider the same setup as the [Exact Cover problem](https://www.documentation.jijzept.com/docs/tutorial/exact_cover), but now ask a different question: what is the largest number of subsets $W_i$ which are all disjoint?\n",
    "\n",
    "## Mathematical Model\n",
    "\n",
    "Let $x_i$ be a binary variable that takes on the value 1 if subset $W_i$ is selected, and 0 otherwise.\n",
    "\n",
    "### Constraint: each element in $U$ appears in exactly one selected subset\n",
    "\n",
    "This can be expressed as following using $V_{i, j}$ where it represents a mapping from a subset $i$ to a set of elements $j$ that it contains.\n",
    "Here we set $V_{i, j}$ to be a matrix that is 1 when $W_i$ contains $j$ and 0 otherwise.\n",
    "$$\n",
    "\\sum_{i=1}^N x_i \\cdot V_{i, j} = 1 \\text{ for } j = 1, \\ldots, M\n",
    "\\tag{1}\n",
    "$$\n",
    "\n",
    "### Objective function : maximize the number of sets\n",
    "\n",
    "We simply counts the number of sets we include as the following.\n",
    "\n",
    "$$\n",
    "\\max \\sum_i x_i \\tag{2}\n",
    "$$"
   ]
  },
  {
   "cell_type": "markdown",
   "metadata": {},
   "source": [
    "## Modeling by JijModeling\n",
    "\n",
    "Next, we show an implementation using JijModeling. We first define variables for the mathematical model described above."
   ]
  },
  {
   "cell_type": "code",
   "execution_count": 4,
   "metadata": {},
   "outputs": [],
   "source": [
    "import jijmodeling as jm\n",
    "\n",
    "# define variables\n",
    "U = jm.Placeholder('U')\n",
    "N = jm.Placeholder('N')\n",
    "M = jm.Placeholder('M')\n",
    "V = jm.Placeholder('V', ndim=2)\n",
    "x = jm.BinaryVar('x', shape=(N,))\n",
    "i = jm.Element('i', N)\n",
    "j = jm.Element('j', M)"
   ]
  },
  {
   "attachments": {},
   "cell_type": "markdown",
   "metadata": {},
   "source": [
    "We use the same variables in the exact cover problem.\n",
    "\n",
    "### Constraint\n",
    "\n",
    "We implement a constraint Equation (1)."
   ]
  },
  {
   "cell_type": "code",
   "execution_count": 5,
   "metadata": {},
   "outputs": [],
   "source": [
    "# set problem\n",
    "problem = jm.Problem('Set Packing',sense = jm.ProblemSense.MAXIMIZE)\n",
    "# set constraint: each element j must be in exactly one subset i\n",
    "problem += jm.Constraint('onehot', jm.sum(i, x[i]*V[i, j]) == 1, forall=j)"
   ]
  },
  {
   "cell_type": "markdown",
   "metadata": {},
   "source": [
    "### Objective function\n",
    "\n",
    "Next, we implement an objective function Equation (2)."
   ]
  },
  {
   "cell_type": "code",
   "execution_count": 6,
   "metadata": {},
   "outputs": [],
   "source": [
    "# set objective function: maximize the number of sets\n",
    "problem += x[:].sum()"
   ]
  },
  {
   "cell_type": "markdown",
   "metadata": {},
   "source": [
    "Let's display the implemented mathematical model in Jupyter Notebook."
   ]
  },
  {
   "cell_type": "code",
   "execution_count": 7,
   "metadata": {},
   "outputs": [
    {
     "data": {
      "text/latex": [
       "$$\\begin{array}{cccc}\\text{Problem:} & \\text{Set Packing} & & \\\\& & \\max \\quad \\displaystyle \\sum_{\\ast_{0} = 0}^{N - 1} x_{\\ast_{0}} & \\\\\\text{{s.t.}} & & & \\\\ & \\text{onehot} & \\displaystyle \\sum_{i = 0}^{N - 1} x_{i} \\cdot V_{i, j} = 1 & \\forall j \\in \\left\\{0,\\ldots,M - 1\\right\\} \\\\\\text{{where}} & & & \\\\& x & 1\\text{-dim binary variable}\\\\\\end{array}$$"
      ],
      "text/plain": [
       "<jijmodeling.Problem at 0x1e28b70>"
      ]
     },
     "execution_count": 7,
     "metadata": {},
     "output_type": "execute_result"
    }
   ],
   "source": [
    "problem"
   ]
  },
  {
   "attachments": {},
   "cell_type": "markdown",
   "metadata": {},
   "source": [
    "## Prepare an instance\n",
    "\n",
    "We prepare as below."
   ]
  },
  {
   "cell_type": "code",
   "execution_count": 8,
   "metadata": {},
   "outputs": [],
   "source": [
    "import numpy as np\n",
    "\n",
    "# set a list of W\n",
    "W_1 = [1, 2, 3]\n",
    "W_2 = [4, 5]\n",
    "W_3 = [6]\n",
    "W_4 = [7]\n",
    "W_5 = [2, 5, 7]\n",
    "W_6 = [6, 7]\n",
    "\n",
    "# set the number of Nodes\n",
    "inst_N = 6\n",
    "inst_M = 7\n",
    "\n",
    "# Convert the list of lists into a NumPy array\n",
    "inst_V = np.zeros((inst_N, inst_M))\n",
    "for i, subset in enumerate([W_1, W_2, W_3, W_4, W_5, W_6]):\n",
    "    for j in subset:\n",
    "        inst_V[i, j-1] = 1  # -1 since element indices start from 1 in the input data\n",
    "\n",
    "instance_data = {'V': inst_V, 'M': inst_M, 'N': inst_N}"
   ]
  },
  {
   "cell_type": "markdown",
   "metadata": {},
   "source": [
    "## Solve by JijZept's SA\n",
    "\n",
    "We solve this problem using JijZept `JijSASampler`. We also use the parameter search function by setting `search=True`."
   ]
  },
  {
   "cell_type": "code",
   "execution_count": 9,
   "metadata": {},
   "outputs": [],
   "source": [
    "import jijzept as jz\n",
    "\n",
    "# set sampler\n",
    "config_path = \"../../../config.toml\"\n",
    "sampler = jz.JijSASampler(config=config_path)\n",
    "# solve problem\n",
    "response = sampler.sample_model(problem, instance_data, multipliers={'onehot': 0.5}, num_reads=100, search=True)"
   ]
  },
  {
   "attachments": {},
   "cell_type": "markdown",
   "metadata": {},
   "source": [
    "##  Check the solution\n",
    "\n",
    "In the end, we extract the solution from the feasible solutions."
   ]
  },
  {
   "cell_type": "code",
   "execution_count": 10,
   "metadata": {},
   "outputs": [
    {
     "name": "stdout",
     "output_type": "stream",
     "text": [
      "W_2 = [4 5]\n",
      "W_1 = [1 2 3]\n",
      "W_4 = [7]\n",
      "W_3 = [6]\n"
     ]
    }
   ],
   "source": [
    "# get sampleset\n",
    "sampleset = response.get_sampleset()\n",
    "# extract feasible samples\n",
    "feasible_samples = sampleset.feasibles()\n",
    "# get the values of feasible objectives\n",
    "feasible_objectives = [sample.eval.objective for sample in feasible_samples]\n",
    "if len(feasible_objectives) == 0:\n",
    "    print(\"No feasible sample found ...\")\n",
    "else:\n",
    "    # get the index of the highest objective value\n",
    "    highest_index = np.argmax(feasible_objectives)\n",
    "    # get the highest solution\n",
    "    highest_solution = feasible_samples[highest_index].var_values[\"x\"].values\n",
    "    # get indices of x == 1\n",
    "    x_indices = [key[0] for key in highest_solution.keys()]\n",
    "    # show the result\n",
    "    for i in x_indices:\n",
    "        print(f\"W_{i+1} = {inst_V[i, :].nonzero()[0]+1}\")"
   ]
  },
  {
   "attachments": {},
   "cell_type": "markdown",
   "metadata": {},
   "source": [
    "As we expected, JijZept successfully returns the result."
   ]
  }
 ],
 "metadata": {
  "kernelspec": {
   "display_name": "Python 3 (ipykernel)",
   "language": "python",
   "name": "python3"
  },
  "language_info": {
   "codemirror_mode": {
    "name": "ipython",
    "version": 3
   },
   "file_extension": ".py",
   "mimetype": "text/x-python",
   "name": "python",
   "nbconvert_exporter": "python",
   "pygments_lexer": "ipython3",
   "version": "3.9.18"
  },
  "vscode": {
   "interpreter": {
    "hash": "d8bb8d8f316256c93cd9d893faf7cf943ba8f6c0b9f3d1c8a75ecb1cf0541374"
   }
  }
 },
 "nbformat": 4,
 "nbformat_minor": 4
}
