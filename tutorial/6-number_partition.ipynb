{
 "cells": [
  {
   "cell_type": "markdown",
   "metadata": {},
   "source": [
    "--- \n",
    "description: Here we show how to solve the number partitioning problem using JijZept and JijModeling.\n",
    "---"
   ]
  },
  {
   "cell_type": "markdown",
   "metadata": {},
   "source": [
    "# Number Partitioning\n",
    "\n",
    "Here we show how to solve the number partitioning problem using JijZept and JijModeling. \n",
    "This problem is also mentioned in 2.1. Number Partitioning on [Lucas, 2014, \"Ising formulations of many NP problems\"](https://www.frontiersin.org/articles/10.3389/fphy.2014.00005/full)."
   ]
  },
  {
   "cell_type": "markdown",
   "metadata": {},
   "source": [
    "## What is number partitioning? \n",
    "\n",
    "Number partitioning is the problem of dividing a given set of numbers into two sets such that the sum of the numbers is equal. Let us consider a simple example.\n",
    "\n",
    "For example, we have such a set of numbers $A = \\{1, 2, 3, 4\\}$. \n",
    "It is easy to divide $A$ to $\\{1, 4\\}, \\{2, 3\\}$ and we can get the sum of each subset as 5. \n",
    "Thus, when the size of the set is small, the answer is relatively easy to obtain. \n",
    "However, the larger problem size is hard to solve quickly.\n",
    "For this reason, we explain to solve this problem using annealing in this tutorial."
   ]
  },
  {
   "cell_type": "markdown",
   "metadata": {},
   "source": [
    "## Mathematical model\n",
    "\n",
    "First, let us model the Hamiltonian of this problem.\n",
    "Let $A$ be the set to be partitioned, and $A$ has elements $a_i \\ (i = \\{0, 1, \\dots, N-1\\})$, where $N$ is the number of elements in this set.\n",
    "We consider to divide $A$ into two sets $A_0$ and $A_1$. \n",
    "We define a binary variable $x_i$ that is 0 when $a_i$ is contained in $A_0$ and 1 when $a_i$ is contained in $A_1$.\n",
    "Using $x_i$, the total value of the numbers into $A_0$ can be written as $\\sum_i a_i(1-x_i)$, and the sum of $A_1$ is $\\sum_i a_i x_i$.\n",
    "We need to find a solution that satisfies the constraint that the sum of each of the two subsets is equal.\n",
    "\n",
    "$$\n",
    "\\sum_{i=0}^{N-1} a_i (1-x_i) \n",
    "= \\sum_{i=0}^{N-1} a_i x_i \\ \\Longrightarrow \\ \n",
    "\\sum_{i=0}^{N-1}a_i (2 x_i - 1) \n",
    "= 0 \\tag{1}\n",
    "$$\n",
    "\n",
    "Applying the penalty method to (1) yields the Hamiltonian for the number partitioning.\n",
    "\n",
    "$$\n",
    "H = \\left\\{ \\sum_{i=0}^{N-1} a_i (2 x_i - 1) \\right\\}^2 \\tag{2}\n",
    "$$"
   ]
  },
  {
   "cell_type": "markdown",
   "metadata": {},
   "source": [
    "## Modeling by JijModeling"
   ]
  },
  {
   "cell_type": "markdown",
   "metadata": {},
   "source": [
    "Next, we show how to implement above equation using JijModeling. We first define variables for the mathematical model described above."
   ]
  },
  {
   "cell_type": "code",
   "execution_count": 1,
   "metadata": {},
   "outputs": [],
   "source": [
    "import jijmodeling as jm\n",
    "\n",
    "a = jm.Placeholder(\"a\",ndim = 1)\n",
    "N = a.shape[0]\n",
    "x = jm.BinaryVar(\"x\",shape=(N,))\n",
    "i = jm.Element(\"i\",belong_to=(0,N))"
   ]
  },
  {
   "cell_type": "markdown",
   "metadata": {},
   "source": [
    "`a` is a one-dimensional array representing the elements in $A$. \n",
    "We can get the number of elements `N` from the length of `a`.\n",
    "We define a binary variable `x`.\n",
    "Finally, we define subscripts `i` used in (2).  \n",
    "Then, we implement the Hamiltonian of number partitioning."
   ]
  },
  {
   "cell_type": "code",
   "execution_count": 2,
   "metadata": {},
   "outputs": [],
   "source": [
    "problem = jm.Problem(\"number partition\")\n",
    "s_i = 2*x[i] - 1\n",
    "problem += (jm.sum(i, a[i]*s_i)) ** 2"
   ]
  },
  {
   "cell_type": "markdown",
   "metadata": {},
   "source": [
    "We can check the implementation of the mathematical model on the Jupyter Notebook."
   ]
  },
  {
   "cell_type": "code",
   "execution_count": 3,
   "metadata": {},
   "outputs": [
    {
     "data": {
      "text/latex": [
       "$$\\begin{array}{cccc}\\text{Problem:} & \\text{number partition} & & \\\\& & \\min \\quad \\displaystyle \\left(\\left(\\sum_{i = 0}^{\\mathrm{len}\\left(a, 0\\right) - 1} a_{i} \\cdot \\left(2 \\cdot x_{i} - 1\\right)\\right)^{2}\\right) & \\\\\\text{{where}} & & & \\\\& x & 1\\text{-dim binary variable}\\\\\\end{array}$$"
      ],
      "text/plain": [
       "<jijmodeling.Problem at 0x16b3750>"
      ]
     },
     "execution_count": 3,
     "metadata": {},
     "output_type": "execute_result"
    }
   ],
   "source": [
    "problem"
   ]
  },
  {
   "cell_type": "markdown",
   "metadata": {},
   "source": [
    "## Prepare an instance\n",
    "\n",
    "We prepare a set of numbers $A$. \n",
    "Here, we consider the problem of partitioning numbers from 1 to 40.\n",
    "In the problem of partitioning consecutive numbers from $N_i$ to $N_f$ and the number of numbers is even, there are various patterns of partitioning.\n",
    "However, the total value of the partitioned set can be calculated as follows: \n",
    "\n",
    "$$\n",
    "(\\mathrm{total \\ value}) \n",
    "= \\frac{(N_f + N_i) (N_f - N_i + 1)}{4} \n",
    "$$\n",
    "\n",
    "In this case, the total value is expected to be 410. Let's check it."
   ]
  },
  {
   "cell_type": "code",
   "execution_count": 4,
   "metadata": {},
   "outputs": [],
   "source": [
    "import numpy as np\n",
    "\n",
    "N = 40\n",
    "instance_data = {\"a\":np.arange(1,N+1)}"
   ]
  },
  {
   "cell_type": "markdown",
   "metadata": {},
   "source": [
    "## Solve by JijZept's SA\n",
    "\n",
    "We solve this problem using JijZept `JijSASampler`. \n",
    "In this case, we have no constraints. Thus `multipliers` dictionary is empty."
   ]
  },
  {
   "cell_type": "code",
   "execution_count": 5,
   "metadata": {},
   "outputs": [],
   "source": [
    "import jijzept as jz\n",
    "\n",
    "# set sampler\n",
    "sampler = jz.JijSASampler(config=\"config.toml\")\n",
    "# solve problem\n",
    "response = sampler.sample_model(problem, instance_data)"
   ]
  },
  {
   "cell_type": "markdown",
   "metadata": {},
   "source": [
    "## Visualize the solution\n",
    "\n",
    "Let's check the result obtained. \n",
    "We separate the indices classified as $A_0$ and $A_1$.\n",
    "Finally, we sum over them."
   ]
  },
  {
   "cell_type": "code",
   "execution_count": 6,
   "metadata": {},
   "outputs": [
    {
     "name": "stdout",
     "output_type": "stream",
     "text": [
      "class 1 : [ 3  4  7  8 10 11 12 14 15 16 19 20 23 24 25 29 30 31 33 37 39] , total value = 410\n",
      "class 0 : [ 1  2  5  6  9 13 17 18 21 22 26 27 28 32 34 35 36 38 40] , total value = 410\n"
     ]
    }
   ],
   "source": [
    "# get sampleset & a specific sample\n",
    "sampleset = response.get_sampleset()\n",
    "sample = sampleset.data[0]\n",
    "# extract components of x == 1\n",
    "class_1_index = sample.var_values[\"x\"].to_dense()\n",
    "class_1 = instance_data[\"a\"][class_1_index==1]\n",
    "# extract components of x == 0\n",
    "class_0 = instance_data[\"a\"][class_1_index==0]\n",
    "# show results\n",
    "print(f\"class 1 : {class_1} , total value = {np.sum(class_1)}\")\n",
    "print(f\"class 0 : {class_0} , total value = {np.sum(class_0)}\")"
   ]
  },
  {
   "cell_type": "markdown",
   "metadata": {},
   "source": [
    "As we expected, we obtain both total values are 410."
   ]
  }
 ],
 "metadata": {
  "kernelspec": {
   "display_name": "Python 3.8.10 64-bit",
   "language": "python",
   "name": "python3"
  },
  "language_info": {
   "codemirror_mode": {
    "name": "ipython",
    "version": 3
   },
   "file_extension": ".py",
   "mimetype": "text/x-python",
   "name": "python",
   "nbconvert_exporter": "python",
   "pygments_lexer": "ipython3",
   "version": "3.9.5"
  },
  "vscode": {
   "interpreter": {
    "hash": "31f2aee4e71d21fbe5cf8b01ff0e069b9275f58929596ceb00d14d90e3e16cd6"
   }
  }
 },
 "nbformat": 4,
 "nbformat_minor": 4
}
