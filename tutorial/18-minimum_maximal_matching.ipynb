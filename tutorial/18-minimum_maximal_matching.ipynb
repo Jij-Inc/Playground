{
 "cells": [
  {
   "cell_type": "markdown",
   "metadata": {},
   "source": [
    "--- \n",
    "description: Here we show how to solve minimum maximal matching problem using JijZept and JijModeling.\n",
    "---"
   ]
  },
  {
   "attachments": {},
   "cell_type": "markdown",
   "metadata": {},
   "source": [
    "# Minimum Maximal Matching\n",
    "\n",
    "We show how to solve the minimum maximal matching problem using JijZept and JijModeling. \n",
    "This problem is also mentioned in 4.5. Minimal Maximal Matching on [Lucas, 2014, \"Ising formulations of many NP problems\"](https://www.frontiersin.org/articles/10.3389/fphy.2014.00005/full)."
   ]
  },
  {
   "attachments": {},
   "cell_type": "markdown",
   "metadata": {},
   "source": [
    "## What is Minimum Maximal Matching? \n",
    "\n",
    "The minimum maximal matching is a matching problem in graphs, where the matching is a set of edges in a graph that do not share any vertices with each other.\n",
    "\n",
    "We assume that we have an undirected graph $G = (V,E)$ and that $C \\subseteq E$ is a “coloring” of vertices.\n",
    "The constraints on $C$ are given as follows.\n",
    "For each edge in $C$, we color the two vertices it connects to be the same.\n",
    "We then promise that no two edges in $C$ share a same vertex and that $(u,v) \\notin E$ if $u, v \\notin D$,\n",
    "where $D$ is the set of vertices that are connected to any edge in $C$.\n",
    "This is maximal in the sense that we cannot add any more edge to $C$ without violating the first constraint\n",
    "while we must include all edges between uncolored vertices as long as they do not violate the first constraint;\n",
    "*i.e.* the empty set is not allowed.\n",
    "Such a coloring is the minimum when and only when the number of edges in $C$ is the smallest possible.\n",
    "\n",
    "### Example\n",
    "\n",
    "For example, consider that we have a graph $G = (V, E)$, where $V = {1,2,3,4,5}$ and where $E = {(1,2),(1,3),(2,3),(3,4),(4,5)}$.\n",
    "To find a maximal matching, we first have the empty set as a matching.\n",
    "Then, we add edges to the matching until we cannot add any more edge without violating the constraints.\n",
    "In such a small problem, one may be able to find the minimum maximal matching with some trials and errors.\n",
    "Indeed the minimum maximal matching for this graph is ${(1,2), (3,4)}$."
   ]
  },
  {
   "attachments": {},
   "cell_type": "markdown",
   "metadata": {},
   "source": [
    "## Mathematical model\n",
    "\n",
    "A binary variable $x_e$ denotes whether or not the edge $e$ is colored;\n",
    "the edge is colored if $x_e$ is 1, and vice versa.\n",
    "We also introduce a binary variable $y_v$ that denotes whether or not the vertex $v$ is included in the matching ($D$ in the above statements);\n",
    "the vertex is connected to a edge in $C$ if $y_v = 1$, and vice versa.\n",
    "\n",
    "**Constraint 1: relationship between $x$ and $y$**\n",
    "\n",
    "By definition, the condition below obviously holds.\n",
    "$$\n",
    "\\quad y_v = \\sum_{e \\in E_v} x_e \\quad \\forall v,\n",
    "$$\n",
    "where $E_v$ is the set of edges that are connected to the vertex $v$.\n",
    "\n",
    "**Constraint 2: every unselected edge is connected to at least one vertex connected to a selected edge**\n",
    "\n",
    "To formulate this we use a basic observation: $1-y_{v}$ is 0 if $u$ is connected to a selected edge, and vice versa.\n",
    "Then, by counting $(1-y_{u})(1-y_{v})$ for all $(u,v) \\in E$, we can check the violation of the constraint;\n",
    "*i.e.* if $(1-y_{u})(1-y_{v}) > 0$ for any $(u,v) \\in E$, the edge $(u,v)$ can be selected without violating the constraints.\n",
    "$$\n",
    "\\quad \\sum_{(u,v)\\in E} (1-y_u)(1-y_v) = 0.\n",
    "$$\n",
    "\n",
    "**Objective function: minimize the size of the matching**\n",
    "\n",
    "The size here means the number of edges selected.\n",
    "$$\n",
    "\\quad \\min \\sum_{e \\in E} x_e.\n",
    "$$\n"
   ]
  },
  {
   "cell_type": "markdown",
   "metadata": {},
   "source": [
    "## Modeling by JijModeling\n",
    "Next, we show how to implement above equations using JijModeling.\n",
    "We first define the variables in the mathematical model described above."
   ]
  },
  {
   "cell_type": "code",
   "execution_count": 3,
   "metadata": {},
   "outputs": [],
   "source": [
    "import jijmodeling as jm\n",
    "\n",
    "# define variables\n",
    "V = jm.Placeholder('V')\n",
    "E = jm.Placeholder('E', ndim=2)\n",
    "num_E = E.shape[0]\n",
    "x = jm.BinaryVar('x', shape=(num_E,))\n",
    "y = jm.BinaryVar('y', shape=(V,))\n",
    "v = jm.Element('v', V)\n",
    "e = jm.Element('e', num_E)"
   ]
  },
  {
   "attachments": {},
   "cell_type": "markdown",
   "metadata": {},
   "source": [
    "# Constraint\n",
    "The constraints and the objective function are written as:\n"
   ]
  },
  {
   "cell_type": "code",
   "execution_count": 4,
   "metadata": {},
   "outputs": [],
   "source": [
    "problem = jm.Problem('Minimum Maximal Matching')\n",
    "problem += jm.Constraint('y_x_relation', y[v] - jm.sum((e, (E[e][0]==v)|(E[e][1]==v)), x[e])  == 0 ,forall=v)\n",
    "problem += jm.Constraint('unselected_edge', jm.sum(e, (1-y[E[e][0]])*(1-y[E[e][1]]))==0)\n",
    "\n",
    "problem += x[:].sum()\n"
   ]
  },
  {
   "cell_type": "markdown",
   "metadata": {},
   "source": [
    "On Jupyter Notebook, one can check the problem statement in a human-readable way by hitting\n"
   ]
  },
  {
   "cell_type": "code",
   "execution_count": 5,
   "metadata": {},
   "outputs": [
    {
     "data": {
      "text/latex": [
       "$$\\begin{array}{cccc}\\text{Problem:} & \\text{Minimum Maximal Matching} & & \\\\& & \\min \\quad \\displaystyle \\sum_{\\ast_{0} = 0}^{\\mathrm{len}\\left(E, 0\\right) - 1} x_{\\ast_{0}} & \\\\\\text{{s.t.}} & & & \\\\ & \\text{unselected\\_edge} & \\displaystyle \\sum_{e = 0}^{\\mathrm{len}\\left(E, 0\\right) - 1} \\left(- y_{E_{e, 0}} + 1\\right) \\cdot \\left(- y_{E_{e, 1}} + 1\\right) = 0 &  \\\\ & \\text{y\\_x\\_relation} & \\displaystyle y_{v} - \\sum_{\\substack{e = 0\\\\E_{e, 0} = v \\lor E_{e, 1} = v}}^{\\mathrm{len}\\left(E, 0\\right) - 1} x_{e} = 0 & \\forall v \\in \\left\\{0,\\ldots,V - 1\\right\\} \\\\\\text{{where}} & & & \\\\& x & 1\\text{-dim binary variable}\\\\& y & 1\\text{-dim binary variable}\\\\\\end{array}$$"
      ],
      "text/plain": [
       "<jijmodeling.Problem at 0x14d4dc0>"
      ]
     },
     "execution_count": 5,
     "metadata": {},
     "output_type": "execute_result"
    }
   ],
   "source": [
    "problem"
   ]
  },
  {
   "attachments": {},
   "cell_type": "markdown",
   "metadata": {},
   "source": [
    "## Prepare an instance\n",
    "Here we use the same instance with an example described above.\n"
   ]
  },
  {
   "cell_type": "code",
   "execution_count": 6,
   "metadata": {},
   "outputs": [],
   "source": [
    "import networkx as nx\n",
    "\n",
    "# set empty graph\n",
    "inst_G = nx.Graph()\n",
    "V = [0, 1, 2, 3, 4]\n",
    "# add edges\n",
    "inst_E = [[0, 1], [0, 2], [1, 2], [2, 3], [3, 4]] \n",
    "inst_G.add_edges_from(inst_E)\n",
    "# get the number of nodes\n",
    "inst_V = list(inst_G.nodes)\n",
    "num_V = len(inst_V)\n",
    "instance_data = {'V': num_V, 'E': inst_E}\n"
   ]
  },
  {
   "attachments": {},
   "cell_type": "markdown",
   "metadata": {},
   "source": [
    "This graph is shown below."
   ]
  },
  {
   "cell_type": "code",
   "execution_count": 7,
   "metadata": {},
   "outputs": [
    {
     "data": {
      "image/png": "[encoded data removed]",
      "text/plain": [
       "<Figure size 640x480 with 1 Axes>"
      ]
     },
     "metadata": {},
     "output_type": "display_data"
    }
   ],
   "source": [
    "import matplotlib.pyplot as plt\n",
    "\n",
    "pos = nx.spring_layout(inst_G)\n",
    "nx.draw_networkx(inst_G, pos=pos, with_labels=True)\n",
    "plt.show()"
   ]
  },
  {
   "attachments": {},
   "cell_type": "markdown",
   "metadata": {},
   "source": [
    "## Solve by JijZept's SA\n",
    "\n",
    "We solve this problem using JijSASampler.\n",
    "We also turn on a parameter search function by setting `search=True`."
   ]
  },
  {
   "cell_type": "code",
   "execution_count": 8,
   "metadata": {},
   "outputs": [],
   "source": [
    "import jijzept as jz\n",
    "\n",
    "# set sampler\n",
    "sampler = jz.JijSASampler(config=\"../../../config.toml\")\n",
    "# solve problem\n",
    "multipliers = {\"y_x_relation\": 0.5, \"unselected_edge\": 0.5}\n",
    "response = sampler.sample_model(problem, instance_data, multipliers=multipliers, search=True)"
   ]
  },
  {
   "attachments": {},
   "cell_type": "markdown",
   "metadata": {},
   "source": [
    "## Visualize the solution\n",
    "\n",
    "The optimized solution can be seen as below.\n"
   ]
  },
  {
   "cell_type": "code",
   "execution_count": 9,
   "metadata": {},
   "outputs": [
    {
     "data": {
      "image/png": "[encoded data removed]",
      "text/plain": [
       "<Figure size 1000x500 with 2 Axes>"
      ]
     },
     "metadata": {},
     "output_type": "display_data"
    }
   ],
   "source": [
    "import numpy as np\n",
    "\n",
    "# get sampleset\n",
    "sampleset = response.get_sampleset()\n",
    "# extract feasible samples\n",
    "feasible_samples = sampleset.feasibles()\n",
    "# get the values of feasible objectives\n",
    "feasible_objectives = [sample.eval.objective for sample in feasible_samples]\n",
    "if len(feasible_objectives) == 0:\n",
    "    print(\"No feasible sample found ...\")\n",
    "else:\n",
    "    # get the index of lowest value of feasible objectives\n",
    "    lowest_index = np.argmin(feasible_objectives)\n",
    "    # get the lowest solution\n",
    "    lowest_solution = feasible_samples[lowest_index].var_values\n",
    "    # get the indices of x == 1\n",
    "    x_indices = [key[0] for key in lowest_solution[\"x\"].values.keys()]\n",
    "    # get the indices of y == 1\n",
    "    y_indices = [key[0] for key in lowest_solution[\"y\"].values.keys()]\n",
    "    # set color list for visualization\n",
    "    cmap = plt.get_cmap(\"tab10\")\n",
    "    # set vertex color\n",
    "    vertex_colors = [cmap(1) if i in y_indices else cmap(0) for i in inst_V]\n",
    "    # set edge color list\n",
    "    edge_colors = [\"red\" if j in x_indices else \"black\" for j, _ in enumerate(instance_data[\"E\"])]\n",
    "    # dwaw the figure with two subplots\n",
    "    fig, (ax1, ax2) = plt.subplots(1, 2, figsize=(10, 5))\n",
    "    # plot the initial graph\n",
    "    nx.draw_networkx(inst_G, pos, with_labels=True, ax=ax1)\n",
    "    ax1.set_title('Initial Graph')\n",
    "    plt.axis('off')\n",
    "    ax1.set_frame_on(False) # Remove the frame from the first subplot\n",
    "    # plot the minimum maximal matching graph\n",
    "    nx.draw_networkx(inst_G, pos=pos, node_color=vertex_colors, edge_color=edge_colors, with_labels=True)\n",
    "    plt.axis('off')\n",
    "    ax2.set_title('Minimum Maximal Matching Graph')\n",
    "    # Show the plot\n",
    "    plt.show()"
   ]
  },
  {
   "attachments": {},
   "cell_type": "markdown",
   "metadata": {},
   "source": [
    "As expected, we have obtained the minimum maximal matching graph."
   ]
  }
 ],
 "metadata": {
  "kernelspec": {
   "display_name": ".venv",
   "language": "python",
   "name": "python3"
  },
  "language_info": {
   "codemirror_mode": {
    "name": "ipython",
    "version": 3
   },
   "file_extension": ".py",
   "mimetype": "text/x-python",
   "name": "python",
   "nbconvert_exporter": "python",
   "pygments_lexer": "ipython3",
   "version": "3.9.5"
  },
  "vscode": {
   "interpreter": {
    "hash": "d8bb8d8f316256c93cd9d893faf7cf943ba8f6c0b9f3d1c8a75ecb1cf0541374"
   }
  }
 },
 "nbformat": 4,
 "nbformat_minor": 4
}
