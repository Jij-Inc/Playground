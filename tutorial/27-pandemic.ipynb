{
 "cells": [
  {
   "attachments": {},
   "cell_type": "markdown",
   "metadata": {},
   "source": [
    "---\n",
    "description: Here we show how to solve the Max-Cut problem introduced by [Sud & Li (2021)] using JijZept and JijModeling.\n",
    "---\n",
    "\n",
    "<!-- # 大学キャンパスで感染拡大を抑制するための最適化\n",
    "\n",
    "## 導入: パンデミック時代に、組合せ最適化ができること -->\n",
    "\n",
    "# An optimization for preventing a pandemic on a university campus\n",
    "\n",
    "## Introduction: How to prevent pandemics using a combinatorial optimization?\n",
    "\n",
    "<!-- 2019年末より世界で始まったCOVID-19感染拡大は、これまでの人々の生活を一変させました。このパンデミックにより、大学生はキャンパスへの入場が一時的に制限されました。[Sud & Li, 2021](https://doi.org/10.48550/arXiv.2112.01220)では、大学キャンパスの学生グループを物理的な感染拡大防止のコホートにマッピングするための、量子アニーリングを用いた最大カット問題の再帰的解法を考案しました。今回はこのアルゴリズム実装に、JijModelingとJijZeptを用いてみましょう。またそのコホートから実際に感染症モデルを解き、感染がどの程度広がるかを見てみましょう。 -->\n",
    "\n",
    "The pandemic of COVID-19, which began worldwide at the end of 2019, has changed people's lives.\n",
    "The pandemic resulted in temporary restrictions on admission to the campus for college students.\n",
    "[Sud & Li (2021)](https://doi.org/10.48550/arXiv.2112.01220) introduced a recursive approach to Max-Cut problem using quantum annealing to map groups of students on college campuses into cohorts and showed a result of preventing infection spread.\n",
    "In this tutorial, we use JijModeling and JijZept for implementing this algorithm.\n",
    "We also solve an actual infection model from that cohort and see how much the infection spreads.\n",
    "\n",
    "<!-- ## アルゴリズム -->\n",
    "\n",
    "## Algorithm for making cohorts\n",
    "\n",
    "<!-- 学生をいくつかのグループに分割し、キャンパスに登校する日や使用する教室を分けることで、感染の拡大を防止します。そのために、学生の繋がりをグラフとして考えましょう。そのグラフの最大カット問題を解き、グラフを2つに分けます。最大カット問題を解くことを繰り返し、欲しい数のコホートに到達したら、その時点で繰り返しを終了します。 -->\n",
    "\n",
    "By dividing students into several groups, separating the days they come to campus and the classrooms they use, to prevent the spread of infection.\n",
    "To do this, we consider the connections between students as a graph.\n",
    "We solve that graph as Max-Cut problem, and divide it into two parts.\n",
    "We repeat solving Max-Cut problem until we get the desired number of cohorts, at which point we end the iteration.\n",
    "\n",
    "<!-- ```python\n",
    "G = 入力ネットワークグラフ\n",
    "N = 希望するコホート数 // ここでは2のべき乗とします\n",
    "currCohorts = [G]\n",
    "currCohortsの長さがNより小さい間は以下の処理を繰り返し\n",
    "          newCohorts = []\n",
    "          for c in currCohorts:\n",
    "                    c1, c2 = performMaxcut(c) // 最大カット問題で、グラフを2つに分割\n",
    "                    newCohorts.append(c1)\n",
    "                    newCohorts.append(c2)\n",
    "          currCohorts = newCohorts\n",
    "``` -->\n",
    "\n",
    "```python\n",
    "G = Network Graph\n",
    "N = Target number of cohorts (power of 2)\n",
    "currCohorts = [G]\n",
    "while currCohorts.length < N do\n",
    "    newCohorts = []\n",
    "    for c in currCohorts do\n",
    "        c1, c2 = performMaxcut(c)\n",
    "        newCohorts.append(c1)\n",
    "        newCohorts.append(c2)\n",
    "    end\n",
    "    currCohorts = newCohorts\n",
    "end\n",
    "```\n",
    "\n",
    "<!-- 後述するperformMaxcut関数は、最大カット問題を解き、グラフを2つに分割する関数です。論文ではD-Waveの量子アニーラを用いていますが、今回はこの部分にJijModeling, そしてJijZeptを用いましょう。 -->\n",
    "\n",
    "`performMaxcut` function, which we describe and implement later, is a function that solves the maximum cut problem and splits the graph into two parts. \n",
    "[Sud & Li (2021)](https://doi.org/10.48550/arXiv.2112.01220) use a D-Wave quantum annealer. \n",
    "Here, we implement `performMaxcut` using JijModeling, and JijZept.\n",
    "\n",
    "<!--  ## 最大カット問題の数理モデル -->\n",
    "\n",
    "## A mathematical model for Max-Cut optimization\n",
    "\n",
    "<!-- グラフ$c = (V, E)$を2つに分割する際に、最大カット問題を解いています。ここではその定式化について考えてみましょう。$c$に属する頂点をプラス・マイナスの2つの集合に分けます。このとき、切断するエッジの重みの総和が最大となるような分け方を求める問題です。 -->\n",
    "\n",
    "To partition a graph $G = (V, E)$ into two subgraphs, we solve Max-Cut problem.\n",
    "In the following, we consider its formulation.\n",
    "We divide the vertices belonging to $G$ into two sets, positive and negative.\n",
    "The problem is to find the division such that the sum of the weights of the cutted edges is maximized.\n",
    "\n",
    "<!-- ### カットする辺の重みが最大となるようにする -->\n",
    "\n",
    "### Ensure that the weight of the cutted edge is maximized\n",
    "\n",
    "<!-- 頂点$i$がプラス集合に属するとき$s_i = 1$、マイナス集合に属するとき$s_i = -1$となるようなスピン変数を与えます。カットする辺の重みが最大となるように考えます。頂点$i$と頂点$j$を結ぶ辺の持つ重みを$w_{ij}$のように書きます。プラス集合に属する頂点とマイナス集合に属する頂点の間のみについて考えるため、その総和は -->\n",
    "\n",
    "We use spin variables such that $s_i = 1$ when vertex $i$ belong to the positive set and $s_i = -1$ vice versa.\n",
    "Next, we consider the sum of the cutted edge to have maximum weight. \n",
    "We represent the weight that the edge connecting vertex $i$ and vertex $j$ as $w_{ij}$.\n",
    "Since we consider only between vertices belonging to the positive vertices set and the negative set, the sum of them is written as follows. \n",
    "\n",
    "$$\n",
    "\\mathrm{obj} = - \\sum_{(i, j) \\in E} \\frac{w_{ij}}{2} (1-s_i s_j) \\tag{1}\n",
    "$$\n",
    "\n",
    "<!-- のように書かれます。$s_i = s_j $のとき、$1-s_i s_j = 0$となるため、$s_i \\neq s_j$の辺の重みだけが加算されていくことを表現したものです。今回の問題では$w_{ij} = 1$のようにします。すなわち、純粋に学生を2つのグループに分けることを考えます。 -->\n",
    "\n",
    "When $s_i = s_j$, $1-s_i s_j = 0$, which expresses that only the weights on the edges of $s_i \\neq s_j$ are added.\n",
    "We consider purely dividing the students into two groups.\n",
    "Therefore we set $w_{ij} = 1$ in this problem.\n",
    "\n",
    "<!-- ### バイナリ変数との対応 -->\n",
    "\n",
    "### Conversion to 0/1 variables\n",
    "\n",
    "<!-- JijModelingはバイナリ変数にのみ対応しているため、スピン変数との対応を考える必要があります。頂点$i$がプラス集合に属するとき$x_i = 1$、マイナス集合に属するとき$x_i = -1$となるようなバイナリ変数を考えましょう。すると、$s_i $と$x_i$の対応は -->\n",
    "\n",
    "Since JijModeling only supports 0/1 variables, we have to consider the correspondence with spin variables.\n",
    "Let us consider 0/1 variables such that $x_i = 1$ when the vertex $i$ belongs to the positive set and $x_i = -1$ vice versa.\n",
    "Then the correspondence between $s_i$ and $x_i$ is\n",
    "\n",
    "$$\n",
    "x_i = \\frac{1+s_i}{2} \\ \\Longrightarrow \\\n",
    "s_i = 2 x_i - 1 \\tag{2}\n",
    "$$\n",
    "\n",
    "<!-- のようになります。 -->"
   ]
  },
  {
   "attachments": {},
   "cell_type": "markdown",
   "metadata": {},
   "source": [
    "<!-- ## 実装しましょう -->\n",
    "\n",
    "## Let's coding!\n",
    "\n",
    "<!-- ここからは、実際にJijModelingとJijZeptを用いて、この問題を解くスクリプトを実装しましょう。 -->\n",
    "\n",
    "Here, we implement a script that solves this problem using JijModeling and JijZept.\n",
    "\n",
    "<!-- ### 変数の定義 -->\n",
    "\n",
    "### Defining variables\n",
    "\n",
    "<!-- 以下のようにして、最適化に用いる変数を定義します。 -->\n",
    "\n",
    "We define the variables for Max-Cut problem as follows."
   ]
  },
  {
   "cell_type": "code",
   "execution_count": 1,
   "metadata": {},
   "outputs": [],
   "source": [
    "import jijmodeling as jm\n",
    "\n",
    "# define variables\n",
    "V = jm.Placeholder('V')\n",
    "E = jm.Placeholder('E', ndim=2)\n",
    "w = jm.Placeholder('w', ndim=2)\n",
    "x = jm.BinaryVar('x', shape=(V, )) \n",
    "e = jm.Element('e', belong_to=E)\n",
    "i = jm.Element('i', belong_to=V)\n",
    "j = jm.Element('j', belong_to=V)"
   ]
  },
  {
   "attachments": {},
   "cell_type": "markdown",
   "metadata": {},
   "source": [
    "<!-- `V`はグラフ頂点数、`E`は辺集合、`w`はグラフの重み、そして`x`はバイナリ変数を表します。`e`, `i`, `j`は添字を表す変数です。   -->\n",
    "\n",
    "`V`, `E`, `w` and `x` denote the number of graph vertices, the edge set, the graph weights, and 0/1 variables, respectively.\n",
    "`e`, `i` and `j` are varibles for indices.\n",
    "\n",
    "<!-- ### 最大カット問題の実装 -->\n",
    "\n",
    "### Implementation for Max-Cut problem\n",
    "\n",
    "<!-- 次に、最大カット問題の目的関数(1)式を実装しましょう。 -->\n",
    "\n",
    "Next, we implement the objective function (1) for the Max-Cut problem."
   ]
  },
  {
   "cell_type": "code",
   "execution_count": 2,
   "metadata": {},
   "outputs": [],
   "source": [
    "# make problem\n",
    "problem = jm.Problem('Max cut')\n",
    "# set spin variables\n",
    "si = 2 * x[e[0]] - 1\n",
    "sj = 2 * x[e[1]] - 1\n",
    "# set objective function: maximize the cut-edge weights\n",
    "obj = - jm.sum(e, 0.5*w[e[0], e[1]]*(1-si*sj))\n",
    "problem += obj"
   ]
  },
  {
   "attachments": {},
   "cell_type": "markdown",
   "metadata": {},
   "source": [
    "<!-- 途中、2つのスピン変数を定義し、それを用いて(1)式の実装を行なっています。  \n",
    "Jupyter Notebookであれば、実装された数理モデルを確認することができます。 -->\n",
    "\n",
    "First, we define two spin variables, and then we implement equation (1).  \n",
    "With Jupyter Notebook, we can check the mathematical model implemented."
   ]
  },
  {
   "cell_type": "code",
   "execution_count": 3,
   "metadata": {},
   "outputs": [
    {
     "data": {
      "text/latex": [
       "$$\\begin{array}{cccc}\\text{Problem:} & \\text{Max cut} & & \\\\& & \\min \\quad \\displaystyle - \\sum_{e \\in E} 0.5 \\cdot w_{e_{0}, e_{1}} \\cdot \\left(- \\left(2 \\cdot x_{e_{0}} - 1\\right) \\cdot \\left(2 \\cdot x_{e_{1}} - 1\\right) + 1\\right) & \\\\\\text{{where}} & & & \\\\& x & 1\\text{-dim binary variable}\\\\\\end{array}$$"
      ],
      "text/plain": [
       "<jijmodeling.Problem at 0x1499e60>"
      ]
     },
     "execution_count": 3,
     "metadata": {},
     "output_type": "execute_result"
    }
   ],
   "source": [
    "problem"
   ]
  },
  {
   "attachments": {},
   "cell_type": "markdown",
   "metadata": {},
   "source": [
    "<!-- ### グラフ生成 -->\n",
    "\n",
    "### Generating Networks\n",
    "\n",
    "<!-- 大学キャンパスなど、複数の人間が形成するネットワークを模倣したグラフを作成しましょう。\n",
    "ここでは[Watts & Strogatz, 1998](https://www.nature.com/articles/30918)で提案されたsmall-worldグラフを採用します。 -->\n",
    "\n",
    "We create a graph that imitates a network formed by multiple people, such as on a college campus.\n",
    "Here we adopt the small-world graph proposed in [Watts & Strogatz(1998)](https://www.nature.com/articles/30918)."
   ]
  },
  {
   "cell_type": "code",
   "execution_count": 4,
   "metadata": {},
   "outputs": [],
   "source": [
    "import networkx as nx\n",
    "import numpy as np\n",
    "\n",
    "# set a small-world graph\n",
    "inst_V = 1000\n",
    "k = 20\n",
    "p = 0.1\n",
    "inst_G = nx.watts_strogatz_graph(inst_V, k, p)\n",
    "# set weights on the edges\n",
    "for edge in inst_G.edges:\n",
    "    inst_G[edge[0]][edge[1]]['weight'] = 1.0"
   ]
  },
  {
   "attachments": {},
   "cell_type": "markdown",
   "metadata": {},
   "source": [
    "<!-- ### JijZeptによる求解 -->\n",
    "\n",
    "### Solving with JijZept\n",
    "\n",
    "<!-- JijZeptのシミュレーテッド・アニーリング機能を用いて、最大カット問題を解きます。 -->\n",
    "\n",
    "We solve Max-Cut problem using simulated annealing approach with JijZept."
   ]
  },
  {
   "cell_type": "code",
   "execution_count": 5,
   "metadata": {},
   "outputs": [],
   "source": [
    "import jijzept as jz\n",
    "\n",
    "# set sampler\n",
    "sampler = jz.JijSASampler(config='../config.toml')\n",
    "# set multipliers\n",
    "multipliers = {}"
   ]
  },
  {
   "attachments": {},
   "cell_type": "markdown",
   "metadata": {},
   "source": [
    "<!-- 今回は制約が存在しないため、未定乗数には空の辞書を設定します。\n",
    "次に、最大カット問題を反復するための関数群を作成します。 -->\n",
    "\n",
    "In this problem, we have no constraints. \n",
    "Therefore, we set an empty dictionary for the undefined multiplier.\n",
    "Next, we write functions for iteratively performing  Max-Cut optimization."
   ]
  },
  {
   "cell_type": "code",
   "execution_count": 6,
   "metadata": {},
   "outputs": [],
   "source": [
    "# a function to prepare a graph instance for MaxCut\n",
    "def make_instance(input_c):\n",
    "    # get the number of nodes\n",
    "    inst_V = len(input_c.nodes)\n",
    "    # relavel name of nodes\n",
    "    mapping_dict = {a: b for a, b in zip(input_c.nodes, range(inst_V))}\n",
    "    c = nx.relabel_nodes(input_c, mapping_dict)\n",
    "    # get edges and weights\n",
    "    inst_E = [[edge[0], edge[1]] for edge in c.edges]\n",
    "    inst_w = np.zeros([inst_V, inst_V])\n",
    "    for k, v in nx.get_edge_attributes(c, 'weight').items():\n",
    "        inst_w[k[0], k[1]] = v\n",
    "    return {'V': inst_V, 'E': inst_E, 'w': inst_w}\n",
    "\n",
    "# a function to make two graph from JijZept results\n",
    "def make_graph(results, c):\n",
    "    # get feasible solutions\n",
    "    feasibles = results.feasible()\n",
    "    if feasibles.evaluation.objective == []:\n",
    "        print('No feasibles solution ')\n",
    "    else:\n",
    "        # get values of objective function\n",
    "        objs = feasibles.evaluation.objective\n",
    "        # get the index of minimum objective value\n",
    "        min_obj_index = np.argmin(objs)\n",
    "        # get solution\n",
    "        x = feasibles.record.solution['x'][min_obj_index]\n",
    "        # extract a subgraph (x=1) from original graph\n",
    "        c1 = c.copy()\n",
    "        c1 = c1.subgraph(x[0][0])\n",
    "        # remove a subgraph from original graph\n",
    "        c2 = c.copy()\n",
    "        c2.remove_nodes_from(x[0][0])\n",
    "        return c1, c2\n",
    "\n",
    "# execute MaxCut\n",
    "def performMaxcut(c):\n",
    "    instance_data = make_instance(c)\n",
    "    # compute SA with JijZept\n",
    "    results = sampler.sample_model(problem, instance_data, multipliers, search=True, num_reads=100)\n",
    "    return make_graph(results, c)"
   ]
  },
  {
   "attachments": {},
   "cell_type": "markdown",
   "metadata": {},
   "source": [
    "<!-- 上述の関数を用いて、繰り返し最大カット問題を解きましょう。 -->\n",
    "\n",
    "We solve Max-Cut problem iteratively using the functions described above."
   ]
  },
  {
   "cell_type": "code",
   "execution_count": 7,
   "metadata": {},
   "outputs": [
    {
     "name": "stderr",
     "output_type": "stream",
     "text": [
      "/tmp/ipykernel_7008/3764039637.py:19: DeprecationWarning: elementwise comparison failed; this will raise an error in the future.\n",
      "  if feasibles.evaluation.objective == []:\n"
     ]
    }
   ],
   "source": [
    "# set the number of cohorts\n",
    "N = 4\n",
    "currCohorts = [inst_G, ]\n",
    "# iteration\n",
    "while len(currCohorts) < N:\n",
    "    newCohorts = []\n",
    "    for c in currCohorts:\n",
    "        c1, c2 = performMaxcut(c)\n",
    "        newCohorts.extend([c1, c2])\n",
    "    currCohorts = newCohorts"
   ]
  },
  {
   "attachments": {},
   "cell_type": "markdown",
   "metadata": {},
   "source": [
    "<!-- この計算により、`N`個に分割されたグラフを得ることができます。 -->\n",
    "\n",
    "This calculation yields `N` graphs.\n",
    "\n",
    "<!-- ### 感染症モデルへの入力 -->\n",
    "\n",
    "### Input to SIR epidemic model\n",
    "\n",
    "<!-- 感染症のよく知られたモデルの一つに、[Kermack & McKendrick (1927)](https://royalsocietypublishing.org/doi/10.1098/rspa.1927.0118)で導入されたSIRモデルがあります。\n",
    "このモデルは、以下の3つの微分方程式からなるモデルです。 -->\n",
    "\n",
    "The SIR model, introduced by [Kermack & McKendrick (1927)](https://royalsocietypublishing.org/doi/10.1098/rspa.1927.0118), is one of the well-known models of infectious diseases.\n",
    "It consists of the following three differential equations:\n",
    "\n",
    "$$\n",
    "\\frac{dS}{dt} = -\\beta S I \\tag{3}\n",
    "$$\n",
    "\n",
    "$$\n",
    "\\frac{dI}{dt} = \\beta S I - \\gamma I \\tag{4}\n",
    "$$\n",
    "\n",
    "$$\n",
    "\\frac{dR}{dt} = \\gamma I \\tag{5}\n",
    "$$\n",
    "\n",
    "<!-- ここで$S$はsusceptible(未感染者: これから感染する可能性を持つ)、$I$はinfectious(感染者: 他人に移す可能性を持つ)、$R$はrecovered(既感染者: 感染から回復し免疫を持つ)を表します。またパラメータである$\\beta, \\gamma$はそれぞれ感染症の感染率と回復率を表す定数です。COVID-19においては平均の回復期間が$Tr$ = 10daysと判明していることから、大雑把に$\\gamma = 1/ Tr$と与えます。また感染者が感染している間に感染を移す平均人数を$\\alpha$のように書くと、これは -->\n",
    "\n",
    "where $S$ is susceptible (but not yet infected with the disease), $I$ is the number of infectious and $R$ is the number of indiveduals who recoverd from the disease.\n",
    "The parameters $\\beta$ and $\\gamma$ are constants that represent the infection and recovery rates, respectively.\n",
    "In COVID-19, the average recovery period is known to be $Tr$ = 10days, so $\\gamma = 1/ Tr$.\n",
    "Also we write the average number of people who transfer the infection while infected as $\\alpha$.\n",
    "It can be written as:\n",
    "\n",
    "$$\n",
    "\\alpha = \\mathrm{avg\\_deg}(G) \\times \\frac{\\beta}{\\gamma} \\tag{6}\n",
    "$$\n",
    "\n",
    "<!-- のように書くことができます。ここで$\\mathrm{avg\\_deg}(G)$は、学生の繋がりを表すグラフ$G$の平均の次数を表します。COVID-19では$1.5 \\leq \\alpha \\leq 6.7$と判明しているため、(6)式からモデル計算を行うグラフ$G$を与えれば、$\\beta$を見積もることが可能です。これらを学生の繋がりを表すグラフに合わせて解くことで、そのキャンパスで感染症がどのように広がるかをモデル化することができます。ここでは、先程のアルゴリズムにより分割された学生のコホートをこのモデルに入力し、感染者数の推移などを見ていきましょう。そのために、グラフのトポロジーも考慮してSIRモデルを解く機能を持つ[NDlibライブラリ](https://link.springer.com/article/10.1007/s41060-017-0086-6)を利用します。 -->\n",
    "\n",
    "where $\\mathrm{avg\\_deg}(G)$ denotes the degree of the average of the graph $G$.\n",
    "$\\alpha$ value for COVID-19 has been reported to range from 1.5 to 6.7. \n",
    "Using a chosen $\\alpha$ value, we can estimate $\\beta$ via equation (6).\n",
    "By solving SIR model equation in connection with the graph of student connections, we can model how infectious diseases spread on the campus.\n",
    "Now let us input the cohort of students divided by above algorithm into this model and see how the number of infections changes.\n",
    "Here, we will use [NDlib library](https://link.springer.com/article/10.1007/s41060-017-0086-6), which has the function to solve SIR model that can take into account the graph topology."
   ]
  },
  {
   "cell_type": "code",
   "execution_count": 8,
   "metadata": {},
   "outputs": [],
   "source": [
    "import ndlib.models.ModelConfig as mc\n",
    "import ndlib.models.epidemics as ep\n",
    "\n",
    "# a function for solving SIR model\n",
    "def solveSIR(g):\n",
    "    # compute average degree of a graph\n",
    "    list_degree = [g.degree[n] for n in g.nodes()]\n",
    "    avg_deg = sum(list_degree) / len(list_degree)\n",
    "    # set parameters for SIR model\n",
    "    gamma = 1.0 / 10\n",
    "    alpha = 3.0\n",
    "    beta = alpha * gamma / avg_deg\n",
    "    # set SIR model\n",
    "    model = ep.SIRModel(g)\n",
    "    # input parameters\n",
    "    cfg = mc.Configuration()\n",
    "    cfg.add_model_parameter('beta', beta)\n",
    "    cfg.add_model_parameter('gamma', gamma)\n",
    "    cfg.add_model_parameter('percentage_infected', 0.05)\n",
    "    model.set_initial_status(cfg)\n",
    "    # compute SIR model\n",
    "    iterations = model.iteration_bunch(100)\n",
    "    trends = model.build_trends(iterations)\n",
    "    return model, trends"
   ]
  },
  {
   "attachments": {},
   "cell_type": "markdown",
   "metadata": {},
   "source": [
    "<!-- 比較のために、MaxCutを用いて分割した場合と、ランダムにグラフを分割した場合の計算結果を可視化したものを以下に示します。  -->\n",
    "\n",
    "For comparison, the following is a visualization of the computation results with MaxCut and a randomly separated graph."
   ]
  },
  {
   "cell_type": "code",
   "execution_count": 11,
   "metadata": {},
   "outputs": [
    {
     "data": {
      "image/png": "[encoded data removed]",
      "text/plain": [
       "<Figure size 640x480 with 1 Axes>"
      ]
     },
     "metadata": {},
     "output_type": "display_data"
    }
   ],
   "source": [
    "from ndlib.viz.mpl.DiffusionTrend import DiffusionTrend\n",
    "from ndlib.viz.mpl.TrendComparison import DiffusionTrendComparison\n",
    "import random\n",
    "\n",
    "# solve SIR model\n",
    "model1, trends1 = solveSIR(currCohorts[0])\n",
    "\n",
    "cohort_idx = 0\n",
    "list_random_partition_nodes = []\n",
    "for i in inst_G.nodes:\n",
    "    if random.randint(0, N-1) == cohort_idx:\n",
    "        list_random_partition_nodes.append(i)\n",
    "G_temp = inst_G.copy()\n",
    "random_g = G_temp.subgraph(list_random_partition_nodes)\n",
    "# solve SIR model\n",
    "model2, trends2 = solveSIR(random_g)\n",
    "\n",
    "viz = DiffusionTrendComparison([model1, model2], [trends1, trends2], \"Infected\")\n",
    "viz.plot()"
   ]
  },
  {
   "attachments": {},
   "cell_type": "markdown",
   "metadata": {},
   "source": [
    "<!-- 青線はMaxCut、オレンジ線はランダム分割の場合の感染者数の推移を表しています。\n",
    "MaxCutを用いた場合の方が、感染者数が少ないことがわかります。\n",
    "実際に大学キャンパスにおける人同士の接触をグラフ化し、それをこの手法にしたがって分割します。\n",
    "分割により作成されたグループごとにキャンパスへの登校日を変えれば、感染拡大を防ぐことができるとわかります。 -->\n",
    "\n",
    "The blue line indicates the number of infected cases with MaxCut and the orange line shows the number of infected cases with random separation.\n",
    "We can see that the MaxCut scenario is lower than the random one.\n",
    "We embed the actual human contacts into a graph and partition according to this method. \n",
    "Then, we change the day of school attendance on campus for each group created by the partitioning, we prevent the pandemics.\n",
    "\n",
    "<!-- ## 参考文献 -->\n",
    "\n",
    "## References\n",
    "\n",
    "* [Sud & Li, 2021, \"A Quantum Annealing Approach to Reduce Covid-19 Spread on College Campuses\"](https://arxiv.org/abs/2112.01220)  \n",
    "* [Watts & Strogatz, 1998, \"Collective dynamics of 'small-world' networks\"](https://www.nature.com/articles/30918)  \n",
    "* [Kermack & McKendrick, 1927, \"A contribution to the mathematical theory of epidemics\"](https://royalsocietypublishing.org/doi/10.1098/rspa.1927.0118)  \n",
    "* [Rossetti et al., 2017, \"NDLIB: a python library to model and analyze diffusion processes over complex networks\"](https://link.springer.com/article/10.1007/s41060-017-0086-6)"
   ]
  },
  {
   "cell_type": "markdown",
   "metadata": {},
   "source": []
  }
 ],
 "metadata": {
  "kernelspec": {
   "display_name": ".venv",
   "language": "python",
   "name": "python3"
  },
  "language_info": {
   "codemirror_mode": {
    "name": "ipython",
    "version": 3
   },
   "file_extension": ".py",
   "mimetype": "text/x-python",
   "name": "python",
   "nbconvert_exporter": "python",
   "pygments_lexer": "ipython3",
   "version": "3.9.5"
  },
  "vscode": {
   "interpreter": {
    "hash": "d8bb8d8f316256c93cd9d893faf7cf943ba8f6c0b9f3d1c8a75ecb1cf0541374"
   }
  }
 },
 "nbformat": 4,
 "nbformat_minor": 4
}
