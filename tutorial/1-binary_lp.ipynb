{
 "cells": [
  {
   "cell_type": "markdown",
   "metadata": {},
   "source": [
    "--- \n",
    "description: In this section we will show you how to model binary linear programming.\n",
    "pagination_prev: null\n",
    "---"
   ]
  },
  {
   "cell_type": "markdown",
   "metadata": {},
   "source": [
    "# Binary Linear Programming"
   ]
  },
  {
   "cell_type": "markdown",
   "metadata": {},
   "source": [
    "In this section we will show you how to model binary linear programming\n",
    "$$\n",
    "\\max_{x} \\sum_i c_i x_i\\\\\n",
    "\\mathrm{s.t.}~\\sum_{i}S_{j, i}x_i = b_j,~\\forall j\\\\\n",
    "x_i \\in \\{0, 1\\}.\n",
    "$$"
   ]
  },
  {
   "cell_type": "markdown",
   "metadata": {},
   "source": [
    "## Applications\n",
    "\n",
    "Linear programming problems with discrete variables, known as 'Mixed integer programming (MIP)', have many applications.\n",
    "You may be surprised at the wide range of applications even though the objective function and constraints are all linear.\n",
    "Two applications are listed below, but there are too many applications to list here.\n",
    "\n",
    "- Capital Budgeting\n",
    "- Warehouse Location\n",
    "\n",
    "A linear programming solver based on the branch-and-bound method is useful if the size is not that large. Of course, JijModeling supports linear programming solvers.\n",
    "However, for consistency with other tutorials, we will solve it here using Simulated annealing in JijZept."
   ]
  },
  {
   "cell_type": "markdown",
   "metadata": {},
   "source": [
    "## Modeling by JijModeling"
   ]
  },
  {
   "cell_type": "code",
   "execution_count": 1,
   "metadata": {},
   "outputs": [
    {
     "data": {
      "text/latex": [
       "$$\\begin{array}{cccc}\\text{Problem:} & \\text{binary\\_lp} & & \\\\& & \\max \\quad \\displaystyle \\sum_{i = 0}^{N - 1} c_{i} \\cdot x_{i} & \\\\\\text{{s.t.}} & & & \\\\ & \\text{eq\\_const} & \\displaystyle \\sum_{i = 0}^{N - 1} S_{j, i} \\cdot x_{i} = b_{j} & \\forall j \\in \\left\\{0,\\ldots,M - 1\\right\\} \\\\\\text{{where}} & & & \\\\& x & 1\\text{-dim binary variable}\\\\\\end{array}$$"
      ],
      "text/plain": [
       "<jijmodeling.Problem at 0x27a0ae0>"
      ]
     },
     "execution_count": 1,
     "metadata": {},
     "output_type": "execute_result"
    }
   ],
   "source": [
    "import jijmodeling as jm\n",
    "\n",
    "# set problem\n",
    "problem = jm.Problem('binary_lp', sense=jm.ProblemSense.MAXIMIZE)\n",
    "\n",
    "# define variables\n",
    "S = jm.Placeholder('S', ndim=2)\n",
    "M = S.len_at(0, latex=\"M\")\n",
    "N = S.len_at(1, latex=\"N\")\n",
    "b = jm.Placeholder('b', ndim=1)\n",
    "c = jm.Placeholder('c', ndim=1)\n",
    "x = jm.BinaryVar('x', shape=(N,))\n",
    "i = jm.Element('i', belong_to=(0, N))\n",
    "j = jm.Element('j', belong_to=(0, M))\n",
    "\n",
    "\n",
    "# Objective\n",
    "problem += jm.sum(i, c[i]*x[i])\n",
    "\n",
    "# Constriants\n",
    "problem += jm.Constraint(\"eq_const\", jm.sum(i, S[j, i] * x[i]) == b[j], forall=j)\n",
    "\n",
    "problem"
   ]
  },
  {
   "attachments": {},
   "cell_type": "markdown",
   "metadata": {},
   "source": [
    "The meaning of `Problem(..., sense=jm.ProblemSense.MAXIMIZE)` is to explicitly state that the optimization problem is to be solved by maximizing the objective function.\n",
    "If `sense` is not specified, the default is to solve the problem by minimizing the objective function.\n",
    "\n",
    ":::info\n",
    "The `len_at` method can be used to override the representation of a formula in the LaTeX display on Jupyter; overriding the `shape` often results in a clean look.\n",
    "\n",
    "e.g. \n",
    "\n",
    "``` python\n",
    "S = jm.Placeholder('S', ndim=2)\n",
    "M = S.len_at(0, latex=\"M\")\n",
    "N = S.len_at(1, latex=\"N\")\n",
    "```\n",
    ":::"
   ]
  },
  {
   "cell_type": "markdown",
   "metadata": {},
   "source": [
    "## Prepare an instance"
   ]
  },
  {
   "cell_type": "code",
   "execution_count": 2,
   "metadata": {},
   "outputs": [],
   "source": [
    "# set S matrix\n",
    "inst_S = [[0, 2, 0, 2, 0], [1, 0, 1, 0, 1], [1, 2, 3, 2, 1]]\n",
    "# set b vector\n",
    "inst_b = [2, 2, 6]\n",
    "# set c vector\n",
    "inst_c = [1, 2, 3, 4, 5]\n",
    "instance_data = {'S': inst_S, 'b': inst_b, 'c': inst_c}"
   ]
  },
  {
   "cell_type": "markdown",
   "metadata": {},
   "source": [
    "$$S = \\left( \\begin{array}{ccccc}\n",
    "0 & 2 & 0 & 2 & 0 \\\\\n",
    "1 & 0 & 1 & 0 & 1 \\\\\n",
    "1 & 2 & 3 & 2 & 1 \n",
    "\\end{array}\\right), \\quad \n",
    "\\mathbf{b} = \\left( \\begin{array}{c}\n",
    "2 \\\\\n",
    "2 \\\\\n",
    "6 \n",
    "\\end{array}\\right), \\quad \n",
    "\\mathbf{c} = \\left( \\begin{array}{c}\n",
    "1 \\\\\n",
    "2 \\\\\n",
    "3 \\\\\n",
    "4 \\\\\n",
    "5 \n",
    "\\end{array}\\right)$$\n",
    "\n",
    ":::info  \n",
    "Be careful with variable names and scopes.\n",
    "Variable names such as `S`, `b`, and `c` are used when modeling with JijModeling and cannot be used when preparing instances. To avoid this problem, we use the prefix `inst_`.\n",
    ":::"
   ]
  },
  {
   "cell_type": "markdown",
   "metadata": {},
   "source": [
    "## Solve by JijZept's SA"
   ]
  },
  {
   "cell_type": "markdown",
   "metadata": {},
   "source": [
    "JijZept's SA solves the problem using SA after converting it to a quadratic unconstrained binary optimization problem called QUBO. Therefore, the constraints are assigned to the objective function as penalty terms, and we must set their strength.\n",
    "The strength of the penalty term is passed in the `multipliers` argument in dictionary form, along with the labels of the constraint conditions.\n",
    "If the `search` option is set to `True`, SA will iterate through the problem and JijZept middleware will adjust the multiplier's strength."
   ]
  },
  {
   "cell_type": "code",
   "execution_count": 3,
   "metadata": {},
   "outputs": [],
   "source": [
    "import jijzept as jz\n",
    "\n",
    "# set sampler\n",
    "sampler = jz.JijSASampler(config=\"config.toml\")\n",
    "# solve problem\n",
    "response = sampler.sample_model(problem, instance_data, multipliers={\"eq_const\": 1}, search=True)"
   ]
  },
  {
   "cell_type": "markdown",
   "metadata": {},
   "source": [
    "## Check the results\n",
    "\n",
    "`response.get_sampleset()` returns the `SampleSet` object which has solutions and information obtained from a solver.\n",
    "The data of `SampleSet` contains an array of `Sample`, each of which contains a solution obtained from a solver and its associated information.\n",
    "`eval` has information related to the evaluation of the solution, such as the value of an objective function and a degree of constraint violation.\n",
    "`eval.objective` contains a value of an objective function of a solution and `eval.constraint` contains a dictionary whose key is the name of the constraint and whose value is the `Violation` of the constraint.\n",
    "First, we check the evalutation of `SampleSet`."
   ]
  },
  {
   "cell_type": "code",
   "execution_count": 4,
   "metadata": {},
   "outputs": [
    {
     "name": "stdout",
     "output_type": "stream",
     "text": [
      "Objective values:  [12.0, 15.0, 12.0, 12.0, 12.0, 12.0, 12.0, 10.0, 12.0, 12.0, 12.0, 12.0, 10.0, 10.0, 12.0]\n",
      "Constraint vilations:  [0.0, 6.0, 0.0, 0.0, 0.0, 0.0, 0.0, 0.0, 0.0, 0.0, 0.0, 0.0, 0.0, 0.0, 0.0]\n"
     ]
    }
   ],
   "source": [
    "# get sampleset\n",
    "sampleset = response.get_sampleset()\n",
    "# extract the values of objective function and constraint violation\n",
    "objectives = [sample.eval.objective for sample in sampleset]\n",
    "violations = [sample.eval.constraints[\"eq_const\"].total_violation for sample in sampleset]\n",
    "# show these results\n",
    "print(\"Objective values: \", objectives)\n",
    "print(\"Constraint vilations: \", violations)"
   ]
  },
  {
   "cell_type": "markdown",
   "metadata": {},
   "source": [
    "### Extract feasible solutions and an index of lowest solution\n",
    "\n",
    "Next, we obtain feasible solutions using `feasibles` method and extract the index with the lowest value of the objective function from them. "
   ]
  },
  {
   "cell_type": "code",
   "execution_count": 5,
   "metadata": {},
   "outputs": [
    {
     "name": "stdout",
     "output_type": "stream",
     "text": [
      "highest solution index: 0, highest objective value: 12.0\n"
     ]
    }
   ],
   "source": [
    "import numpy as np\n",
    "\n",
    "# get feasible solutions\n",
    "feasible_samples = sampleset.feasibles()\n",
    "# get values of feasible objectives\n",
    "feasible_objectives = [sample.eval.objective for sample in feasible_samples]\n",
    "# get highest value index\n",
    "highest_index = np.argmax(feasible_objectives)\n",
    "print(f\"highest solution index: {highest_index}, highest objective value: {feasible_objectives[highest_index]}\")"
   ]
  },
  {
   "cell_type": "markdown",
   "metadata": {},
   "source": [
    "## Check the solution\n",
    "\n",
    "Finally, we get the solution from JijZept."
   ]
  },
  {
   "cell_type": "code",
   "execution_count": 6,
   "metadata": {},
   "outputs": [
    {
     "name": "stdout",
     "output_type": "stream",
     "text": [
      "{'x': array([0., 0., 1., 1., 1.])}\n"
     ]
    }
   ],
   "source": [
    "# check solution\n",
    "highest_solution = feasible_samples[highest_index].to_dense()\n",
    "print(highest_solution)"
   ]
  },
  {
   "cell_type": "markdown",
   "metadata": {},
   "source": [
    "Using `to_dense`, we obtain the decision variable as an ordinary NumPy array. "
   ]
  },
  {
   "cell_type": "code",
   "execution_count": 7,
   "metadata": {},
   "outputs": [
    {
     "name": "stdout",
     "output_type": "stream",
     "text": [
      "{'x': SparseVarValues(name=\"x\", values={(2,): 1, (3,): 1, (4,): 1}, shape=(5,), var_type=VarType.CONTINUOUS)}\n"
     ]
    }
   ],
   "source": [
    "print(feasible_samples[highest_index].var_values)"
   ]
  },
  {
   "cell_type": "markdown",
   "metadata": {},
   "source": [
    "Using `var_values`, we can get a dictionary whose key is the name of decision variable and whose value is the information of the decision variable `SparseVarValues`.\n",
    "`SparseVarValues.values` property contains the value of each index of the decision variable."
   ]
  },
  {
   "cell_type": "markdown",
   "metadata": {},
   "source": []
  }
 ],
 "metadata": {
  "kernelspec": {
   "display_name": "Python 3 (ipykernel)",
   "language": "python",
   "name": "python3"
  },
  "language_info": {
   "codemirror_mode": {
    "name": "ipython",
    "version": 3
   },
   "file_extension": ".py",
   "mimetype": "text/x-python",
   "name": "python",
   "nbconvert_exporter": "python",
   "pygments_lexer": "ipython3",
   "version": "3.9.18"
  },
  "vscode": {
   "interpreter": {
    "hash": "b0fa6594d8f4cbf19f97940f81e996739fb7646882a419484c72d19e05852a7e"
   }
  }
 },
 "nbformat": 4,
 "nbformat_minor": 4
}
