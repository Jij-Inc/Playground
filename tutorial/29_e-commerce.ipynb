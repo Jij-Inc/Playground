{
 "cells": [
  {
   "attachments": {},
   "cell_type": "markdown",
   "metadata": {},
   "source": [
    "---\n",
    "description: Here we show how to solve the item listing optimization for E-Commerce using JijZept.\n",
    "---\n",
    "\n",
    "# Item Listing Optimization for E-Commerce Websites Based on Diversity\n",
    "\n",
    "<!-- # 多様性を含めたEコマースサイトのアイテムリスト最適化 -->\n",
    "\n",
    "<!-- 商品販売・宿泊施設予約・音楽や動画配信サイトのように、課金システムを持つEコマースサイトは、私たちにとって身近なものとなりました。これらのサイトを見ると、様々なアイテムが掲載されています。掲載されるアイテムをどのように決定するか、どのような配置で並べるかは、Eコマースサイトの売り上げに直結する重要な問題です。単純に売上数などの人気順で並べてしまうと、類似性の高いアイテムが連続して配置されることが多く、特定の趣味趣向に偏る可能性があります。そこで[Nishimura et al., 2019](https://doi.org/10.3389/fcomp.2019.00002)では、類似度の高い項目が隣り合って配置されることに対するペナルティなどを用い、項目リスト問題を二次割り当て問題として定式化しました。そしてそれを量子アニーリングで解き、アイテムの人気度と多様性を考慮したアイテムリストを作成するのに成功しました。今回はこの問題を題材にして、JijModelingによる数理モデル実装と、JijZeptでの求解をしてみましょう。 -->\n",
    "\n",
    "E-commerce sites with billing systems, such as product sales, hotel reservations, and music and video streaming sites, have become familiar with us today.\n",
    "These sites list a wide variety of items.\n",
    "One of the most important issue on these websites is how to decide which items to list and how to arrange them. \n",
    "That problem directly affects sales on e-commerce sites.\n",
    "If items are simply ordered by popularity (e.g., number of sales), highly similar items are often placed consecutively, which may lead to a bias toward a specific preference.\n",
    "Therefore, [Nishimura et al. (2019)](https://doi.org/10.3389/fcomp.2019.00002) formulated the item listing problem as a quadratic assignment problem, using penalties for items with high similarity being placed next to each other.\n",
    "They then solved the problem with quantum annealing and succeeded in creating an item list that simultaneously accounts for item popularity and diversity.\n",
    "In this article, we implement the mathematical model using JijModeling, and solve it using JijZept.\n",
    "\n",
    "<!-- ## 数理モデル -->\n",
    "\n",
    "## A mathematical model\n",
    "\n",
    "<!-- ウェブサイトのどの位置にどのアイテムを掲載するかを考えましょう。\n",
    "掲載されるアイテムの集合を$I$、アイテムが掲載される位置の集合を$J$と定義します。\n",
    "アイテム$i$を$j$番目の位置に配置するとき$x_{i, j} = 1$、それ以外の場合には$x_{i, j} = 0$となるようなバイナリ変数を用います。 -->\n",
    "\n",
    "Let us consider which items are listed in which positions on a given website.\n",
    "We define the set of items to be listed as $I$ and the set of positions where items are listed as $J$.\n",
    "We use a binary variable $x_{i, j} = 1$ that represents  to assign item $i$ to position $j$, and $x_{i, j} = 0$ otherwise.\n",
    "\n",
    "<!-- ### 各アイテムはどこか一箇所に掲載されなければならない -->\n",
    "\n",
    "### Ensure that only one item is allocated to each position\n",
    "\n",
    "$$\n",
    "\\sum_{j \\in J} x_{ij} = 1 \\qquad (\\forall i) \\tag{1}\n",
    "$$\n",
    "\n",
    "<!-- ### 一つの場所には一つのアイテムしか掲載できない -->\n",
    "\n",
    "### Ensure that only one position is allocated to each item\n",
    "\n",
    "$$\n",
    "\\sum_{i \\in I} x_{ij} = 1 \\qquad (\\forall j) \\tag{2}\n",
    "$$\n",
    "\n",
    "<!-- ### 目的関数 -->\n",
    "\n",
    "### An objective function\n",
    "\n",
    "<!-- アイテム$i$を$j$番目の位置に配置したときに予想される人気や売上を$s_{ij}$のように書きます。すると -->\n",
    "\n",
    "$s_{ij}$ is the estimated sales of an item $i \\in I$ when it is placed in a position $j \\in J$, then total estimated sales for all items is\n",
    "\n",
    "\n",
    "$$\n",
    "\\max \\quad \\sum_{i \\in I} \\sum_{j \\in J} s_{ij} x_{ij} \\tag{3}\n",
    "$$\n",
    "\n",
    "<!-- が、最大化したいものです。\n",
    "しかし上述したように、この目的関数だけでは同じ趣向のアイテムばかりが掲載されることになり、最適な配置とは考えられない解を得ます。\n",
    "よって、目的関数に以下のような項を導入しましょう。 -->\n",
    "\n",
    "However, as mentioned above, the objective function (3) leads a result in listing only items of the same preference, obtaining a solution that cannot be considered an optimal arrangement.\n",
    "Therefore, we introduce the following term in the objective function.\n",
    "\n",
    "$$\n",
    "D(\\mathbf{x}) = - \\sum_{i \\in I} \\sum_{i' \\in I} \\sum_{j \\in J} \\sum_{j' \\in J} f_{ii'} d_{jj'} x_{ij} x_{i'j'} \\tag{4}\n",
    "$$\n",
    "\n",
    "<!-- ここで$f_{ii’}$はアイテム$i$とアイテム$i’$の類似度を表します。\n",
    "そして$d_{jj’}$は、$j$番目と$j’$番目の配置が隣り合うとき1、そうでないとき0となるような関数です。\n",
    "これにより、隣り合う位置に類似度が大きいアイテムが並ぶような解は、目的関数の値が小さくなります。\n",
    "以上の議論から、この最適化問題で最大化したい関数は -->\n",
    "\n",
    "where $f_{ii'}$ is the items' similarity degree between item $i$ and $i'$, and $d_{jj'}$ is the adjacent flag of the position $j$ and $j'$; $d_{jj'} = 1$ is for the adjacent positions, otherwise $d_{jj'} =0$.\n",
    "By introducing this term into above objective function, we can get results in which items with small similarity are lined up in adjacent positions.\n",
    "From the above discussion, the function we have to maximize in this optimization problem is expressed as follows:\n",
    "\n",
    "$$\n",
    "\\max \\quad \\sum_{i \\in I} \\sum_{j \\in J} s_{ij} x_{ij}- w \\sum_{i \\in I} \\sum_{i' \\in I} \\sum_{j \\in J} \\sum_{j' \\in J} f_{ii'} d_{jj'} x_{ij} x_{i'j'} \\tag{5}\n",
    "$$\n",
    "\n",
    "<!-- のように定式化されます。\n",
    "第二項の係数$w$は、第二項の重みを調整するためのものです。 -->\n",
    "\n",
    "where $w$ represents a weight of second term.\n",
    "\n",
    "<!-- ## 問題分割 -->\n",
    "\n",
    "## Decomposition Methods for Item Listing Problem\n",
    "\n",
    "<!-- 大きな問題の場合、実行可能解が求まらないことや、仮に求まったとしても最適解から遠い場合があります。\n",
    "そこで、まずは(3)式を目的関数とした最適化問題を解きます。\n",
    "その後、アイテムリストの中でも上位に表示されるアイテムに対し、(5)式を用いた最適化問題を解きます。\n",
    "これにより、閲覧頻度の高い上位のアイテムを効果的に決定することができます。 -->\n",
    "\n",
    "In the case of a large problem, it is unlikely that feasible solutions are obtained.\n",
    "Therefore, we first solve the optimization problem with equation (3) as the objective function.\n",
    "Then, we solve the problem using equation (5) for the upper positions of the item list.\n",
    "This scheme effectively determines the items that are browsed most often.\n",
    "\n",
    "![](./e-commerce_01.png)"
   ]
  },
  {
   "attachments": {},
   "cell_type": "markdown",
   "metadata": {},
   "source": [
    "<!-- ## 実装しましょう -->\n",
    "\n",
    "## Let's coding!\n",
    "\n",
    "<!-- ここからは、実際にJijModelingとJijZeptを用いて、この問題を解くスクリプトを実装しましょう。 -->\n",
    "\n",
    "Let's implement a script for solveing this problem using JijModeling and JijZept.\n",
    "\n",
    "<!-- ### 変数の定義 -->\n",
    "\n",
    "### Defining variables\n",
    "\n",
    "<!-- 以下のようにして、最適化に用いる変数を定義します。\n",
    "まずは(3)式を目的関数とした場合の数理モデルの実装を考えましょう。 -->\n",
    "\n",
    "We define the variables to be used for optimization.\n",
    "First, we consider the implementation of the mathematical model using equation (3) as the objective function."
   ]
  },
  {
   "cell_type": "code",
   "execution_count": 17,
   "metadata": {},
   "outputs": [],
   "source": [
    "import jijmodeling as jm\n",
    "\n",
    "# define variables\n",
    "I = jm.Placeholder('I')\n",
    "J = jm.Placeholder('J')\n",
    "s = jm.Placeholder('s', ndim=2)\n",
    "x = jm.BinaryVar('x', shape=(I, J))\n",
    "i = jm.Element('i', belong_to=I)\n",
    "j = jm.Element('j', belong_to=J)"
   ]
  },
  {
   "attachments": {},
   "cell_type": "markdown",
   "metadata": {},
   "source": [
    "<!-- `I`はアイテムの集合、`J`はアイテムを掲載する場所の集合、`s`は売り上げ予想を表す行列です。\n",
    "`x`は最適化に用いるバイナリ変数、そして`i`, `j`はそれぞれ数理モデルに用いる添字を表します。 -->\n",
    "\n",
    "where `I`, `J`, and `s` are the set of items, the set of positions, and the matrix representing the estimated sales, respectively.\n",
    "`x` is the binary variables, and `i`, `j` are the indices, respectively.\n",
    "\n",
    "<!-- ### 数理モデルの実装 -->\n",
    "\n",
    "### Implementation for E-commerce optimization\n",
    "\n",
    "<!-- 続いて、(1), (2)式の制約と、(3)式の目的関数で表される数理モデルを実装しましょう。 -->\n",
    "\n",
    "Then, we implement the mathematical model represented by the constraints in equation (1) and (2), and the objective function in equation (3)."
   ]
  },
  {
   "cell_type": "code",
   "execution_count": 18,
   "metadata": {},
   "outputs": [],
   "source": [
    "# make problem\n",
    "problem = jm.Problem('E-commerce', sense=jm.ProblemSense.MAXIMIZE)\n",
    "# set constraint 1: onehot constraint for items\n",
    "problem += jm.Constraint('onehot-items', jm.sum(j, x[i, j])==1, forall=i)\n",
    "# set constraint 2: onehot constraint for position\n",
    "problem += jm.Constraint('onehot-positions', jm.sum(i, x[i, j])==1, forall=j)\n",
    "# set objective function 1: maximize the sales\n",
    "problem += jm.sum([i, j], s[i, j]*x[i, j])"
   ]
  },
  {
   "attachments": {},
   "cell_type": "markdown",
   "metadata": {},
   "source": [
    "<!-- `Problem`で問題を作成します。\n",
    "引数`sense`に`ProblemSense.MAXIMIZE`を入力することで、目的関数を最大化する問題として実装することができます。\n",
    "`Constaint`で2つの制約を追加します。\n",
    "制約や目的関数の追加には、`+=`演算子を用います。  \n",
    "Jupyter Notebookであれば、実装された数理モデルを確認することができます。 -->\n",
    "\n",
    "We can implement objective functions as a problem to maximize them by inputting [`ProblemSense.MAXIMIZE` in the `sense` argument.](https://jij-inc.github.io/JijModeling-Tutorials/tutorials/creating_models.html#objective-function)\n",
    "We make two constraints with `Constraint` and use the `+=` operator to add constraints and objective functions.  \n",
    "With Jupyter Notebook, we can check the mathematical model implementaed."
   ]
  },
  {
   "cell_type": "code",
   "execution_count": 19,
   "metadata": {},
   "outputs": [
    {
     "data": {
      "text/latex": [
       "$$\\begin{array}{cccc}\\text{Problem:} & \\text{E-commerce} & & \\\\& & \\max \\quad \\displaystyle \\sum_{i = 0}^{I - 1} \\sum_{j = 0}^{J - 1} s_{i, j} \\cdot x_{i, j} & \\\\\\text{{s.t.}} & & & \\\\ & \\text{onehot-items} & \\displaystyle \\sum_{j = 0}^{J - 1} x_{i, j} = 1 & \\forall i \\in \\left\\{0,\\ldots,I - 1\\right\\} \\\\ & \\text{onehot-positions} & \\displaystyle \\sum_{i = 0}^{I - 1} x_{i, j} = 1 & \\forall j \\in \\left\\{0,\\ldots,J - 1\\right\\} \\\\\\text{{where}} & & & \\\\& x & 2\\text{-dim binary variable}\\\\\\end{array}$$"
      ],
      "text/plain": [
       "<jijmodeling.Problem at 0x22b2480>"
      ]
     },
     "execution_count": 19,
     "metadata": {},
     "output_type": "execute_result"
    }
   ],
   "source": [
    "problem"
   ]
  },
  {
   "attachments": {},
   "cell_type": "markdown",
   "metadata": {},
   "source": [
    "<!-- ### インスタンス作成 -->\n",
    "\n",
    "### Creating an instance\n",
    "\n",
    "<!-- 次に、インスタンスを作成します。\n",
    "ここではアイテム数を10、そしてアイテムを掲載する場所の数も10とします。\n",
    "また、売り上げ予想行列`s`はランダムとします。 -->\n",
    "\n",
    "Next, we create an instance.\n",
    "Here we set that the number of items is 10, and the number of positions where the items are listed is also 10.\n",
    "In addition, the estimated sales matrix `s` and similarity degree matrix `f` are assumed to be random."
   ]
  },
  {
   "cell_type": "code",
   "execution_count": 20,
   "metadata": {},
   "outputs": [],
   "source": [
    "import numpy as np\n",
    "\n",
    "# set the number of items\n",
    "inst_I = 10\n",
    "inst_J = 10\n",
    "inst_s = np.random.rand(inst_I, inst_J)\n",
    "# set instance for similarity term\n",
    "inst_f = np.random.rand(inst_I, inst_I)\n",
    "triu = np.tri(inst_J, k=1) - np.tri(inst_J, k=0)\n",
    "inst_d = triu + triu.T\n",
    "instance_data = {'I': inst_I, 'J': inst_J, 's': inst_s, 'f': inst_f, 'd': inst_d}"
   ]
  },
  {
   "attachments": {},
   "cell_type": "markdown",
   "metadata": {},
   "source": [
    "<!-- ### JijZeptによる求解 -->\n",
    "\n",
    "### Solving with JijZept\n",
    "\n",
    "<!-- JijZeptのシミュレーテッド・アニーリング機能を用いて、先程実装した問題を解きます。 -->\n",
    "\n",
    "We solve this problem using simulated annealing approach with JijZept."
   ]
  },
  {
   "cell_type": "code",
   "execution_count": 21,
   "metadata": {},
   "outputs": [],
   "source": [
    "import jijzept as jz\n",
    "\n",
    "# set sampler\n",
    "sampler = jz.JijSASampler(config='../config.toml')\n",
    "# set multipliers\n",
    "multipliers = {'onehot-items': 1.0, 'onehot-positions': 1.0}\n",
    "# solve problem\n",
    "results = sampler.sample_model(problem, instance_data, search=True, num_reads=100)"
   ]
  },
  {
   "attachments": {},
   "cell_type": "markdown",
   "metadata": {},
   "source": [
    "<!-- 制約が2つあるため、それらの重みを表す未定乗数値を辞書型で設定します。 -->\n",
    "\n",
    "The mathematical model has two constraints, so we set the hyperparameters for thier weights as a dictionary type.\n",
    "\n",
    "<!-- ### 実行可能解の抽出 -->\n",
    "\n",
    "### Extracting a fasible solution\n",
    "\n",
    "<!-- 計算結果から、実行可能解かつ最大エネルギーのものを選び出しましょう。 -->\n",
    "\n",
    "We pick out the feasible and maximum energy solution from the computation results."
   ]
  },
  {
   "cell_type": "code",
   "execution_count": 22,
   "metadata": {},
   "outputs": [
    {
     "name": "stdout",
     "output_type": "stream",
     "text": [
      "obj: -8.339805909997457\n",
      "0: item 7\n",
      "1: item 0\n",
      "2: item 5\n",
      "3: item 1\n",
      "4: item 4\n",
      "5: item 9\n",
      "6: item 6\n",
      "7: item 2\n",
      "8: item 8\n",
      "9: item 3\n"
     ]
    },
    {
     "name": "stderr",
     "output_type": "stream",
     "text": [
      "/tmp/ipykernel_4403/3332792445.py:3: DeprecationWarning: elementwise comparison failed; this will raise an error in the future.\n",
      "  if feasibles.evaluation.objective != []:\n"
     ]
    }
   ],
   "source": [
    "# get feasible solutions\n",
    "feasibles = results.feasible()    \n",
    "if feasibles.evaluation.objective != []:\n",
    "    # get values of objective function\n",
    "    objs = feasibles.evaluation.objective\n",
    "    # get the index of maximum objective value\n",
    "    max_obj_index = np.argmax(objs)\n",
    "    print('obj: {}'.format(objs[max_obj_index]))\n",
    "    # get binary array from maximum objective solution\n",
    "    item_indices, position_indices = feasibles.record.solution['x'][max_obj_index][0]\n",
    "    # initialize binary array\n",
    "    pre_binaries = np.zeros([inst_I, inst_J], dtype=int)\n",
    "    # input solution into array\n",
    "    pre_binaries[item_indices, position_indices] = 1\n",
    "    # format solution for visualization\n",
    "    pre_zip_sort = sorted(zip(np.where(np.array(pre_binaries))[1], np.where(np.array(pre_binaries))[0]))\n",
    "    for pos, item in pre_zip_sort:\n",
    "        print('{}: item {}'.format(pos, item))\n",
    "    # compute similarity for comparison later\n",
    "    A = np.dot(instance_data['f'], pre_binaries)\n",
    "    B = np.dot(pre_binaries, instance_data['d'])\n",
    "    AB = A * B\n",
    "    pre_similarity = np.sum(AB)\n",
    "else:\n",
    "    print('No feasibles solution')\n",
    "    "
   ]
  },
  {
   "attachments": {},
   "cell_type": "markdown",
   "metadata": {},
   "source": [
    "<!-- ### 問題の分割: ペナルティ項と変数固定の活用 -->\n",
    "\n",
    "### Decomposition: Leveraging penalty term and fixed variables\n",
    "\n",
    "<!-- 先ほどは全ての変数に対して組合せ最適化問題を解きました。\n",
    "次はさらに、上位のアイテムに対してアイテム類似度を考慮した目的関数(5)式で、最適化問題を解きましょう。\n",
    "そのために新しく変数を定義します。 -->\n",
    "\n",
    "Earlier, we solved the problem for all varialbes.\n",
    "Next, we further solve the problem with the objective function in equation (5), which takes into account item similarity for the top positions.\n",
    "To this purpose, we define new variables."
   ]
  },
  {
   "cell_type": "code",
   "execution_count": 23,
   "metadata": {},
   "outputs": [],
   "source": [
    "# set variables for sub-problem\n",
    "fixed_IJ = jm.Placeholder('fixed_IJ', ndim=2)\n",
    "f = jm.Placeholder('f', ndim=2)\n",
    "d = jm.Placeholder('d', ndim=2)\n",
    "k = jm.Element('k', belong_to=I)\n",
    "l = jm.Element('l', belong_to=J)\n",
    "fixed_ij = jm.Element('fixed_ij', belong_to=fixed_IJ)"
   ]
  },
  {
   "attachments": {},
   "cell_type": "markdown",
   "metadata": {},
   "source": [
    "<!-- `fixed_IJ`は次の最適化問題では解かない、変数を固定する添字の集合を表します。\n",
    "これは二次元配列として表現され、例えば$x_{5, 6} = 1, x_{7, 8} =1$のように固定する場合にはfixed_{IJ} = [[5, 6], [7, 8]]のようになります。\n",
    "`f`はアイテム類似度を表す行列、`d`は配置が隣り合うかどうかを表す行列です。\n",
    "`k`, `l`, `fixed_ij`は、新しい添字を定義しています。  \n",
    "次に、アイテムの類似度を最小化するための項を追加しましょう。 -->\n",
    "\n",
    "`fixed_IJ` represents the set of indices that fix the variables, which means they are not solved in the next execution.\n",
    "This is expressed as a two-dimensional list e.g. fixed_IJ = [[5, 6], [7, 8]] represents $x_{5, 6} = 1, x_{7, 8} = 1$.\n",
    "`f` is the item similarity matrix, `d` is the adjacent flag matrix.\n",
    "`k`, `l` and `fixed_ij` are new indices.\n",
    "Next, we add a term to minimize the sum of the similarity."
   ]
  },
  {
   "cell_type": "code",
   "execution_count": 24,
   "metadata": {},
   "outputs": [],
   "source": [
    "# set penalty term 2: minimize similarity\n",
    "problem += jm.CustomPenaltyTerm('similarity', jm.sum([i, j, k, l], f[i, k]*d[j, l]*x[i, j]*x[k, l]))"
   ]
  },
  {
   "attachments": {},
   "cell_type": "markdown",
   "metadata": {},
   "source": [
    "<!-- ここでは`CustomPenaltyTerm`を用いて、アイテム類似度の項を表現しています。\n",
    "これは、ゼロになる必要はないがなるべくゼロになってほしい、ソフト制約を表しています。  \n",
    "最後に、下位に表示されているアイテムに関しては変数を先ほどの最適化結果で固定し、上位のアイテムについてだけの最適化を行うようにしましょう。 -->\n",
    "\n",
    "Here we utilize [`CustomPenaltyTerm` to represent the penalty term for similarity.](https://jij-inc.github.io/JijModeling-Tutorials/tutorials/constraint_and_penalty.html#what-is-penalty)\n",
    "We can use this for soft constraints, where we want that to be zero as much as possible, but not necessarily zero.\n",
    "Finally, we fix the variables for the items that appear lower positions in the optimization results before.\n",
    "We only optimize for the top positions again."
   ]
  },
  {
   "cell_type": "code",
   "execution_count": 25,
   "metadata": {},
   "outputs": [],
   "source": [
    "# set fixed variables\n",
    "problem += jm.Constraint('fix', x[fixed_ij[0], fixed_ij[1]]==1, forall=fixed_ij)"
   ]
  },
  {
   "attachments": {},
   "cell_type": "markdown",
   "metadata": {},
   "source": [
    "<!-- `Constraint`を用いることで、変数固定を自明な制約として記述することができます。  \n",
    "Jupyter Notebook上で、新たに追加された項などを表示してみましょう。 -->\n",
    "\n",
    "We can describe fixing variables as a trivial constraint via `Constraint`.  \n",
    "Let's display the added terms with Jupyter Notebook."
   ]
  },
  {
   "cell_type": "code",
   "execution_count": 26,
   "metadata": {},
   "outputs": [
    {
     "data": {
      "text/latex": [
       "$$\\begin{array}{cccc}\\text{Problem:} & \\text{E-commerce} & & \\\\& & \\max \\quad \\displaystyle \\sum_{i = 0}^{I - 1} \\sum_{j = 0}^{J - 1} s_{i, j} \\cdot x_{i, j} & \\\\\\text{{s.t.}} & & & \\\\ & \\text{fix} & \\displaystyle x_{fixed_ij_{0}, fixed_ij_{1}} = 1 & \\forall fixed_ij \\in fixed_IJ \\\\ & \\text{onehot-items} & \\displaystyle \\sum_{j = 0}^{J - 1} x_{i, j} = 1 & \\forall i \\in \\left\\{0,\\ldots,I - 1\\right\\} \\\\ & \\text{onehot-positions} & \\displaystyle \\sum_{i = 0}^{I - 1} x_{i, j} = 1 & \\forall j \\in \\left\\{0,\\ldots,J - 1\\right\\} \\\\\\text{{penalty terms}} & & & \\\\ & \\text{similarity} & \\displaystyle \\sum_{i = 0}^{I - 1} \\sum_{j = 0}^{J - 1} \\sum_{k = 0}^{I - 1} \\sum_{l = 0}^{J - 1} f_{i, k} \\cdot d_{j, l} \\cdot x_{i, j} \\cdot x_{k, l} &  \\\\\\text{{where}} & & & \\\\& x & 2\\text{-dim binary variable}\\\\\\end{array}$$"
      ],
      "text/plain": [
       "<jijmodeling.Problem at 0x22b2480>"
      ]
     },
     "execution_count": 26,
     "metadata": {},
     "output_type": "execute_result"
    }
   ],
   "source": [
    "problem"
   ]
  },
  {
   "attachments": {},
   "cell_type": "markdown",
   "metadata": {},
   "source": [
    "<!-- 数理モデルの実装が完了したところで、アイテム類似度と変数固定のためのインスタンスを作成しましょう。 -->\n",
    "\n",
    "Next, we create instances for fixed variables."
   ]
  },
  {
   "cell_type": "code",
   "execution_count": 27,
   "metadata": {},
   "outputs": [],
   "source": [
    "# set instance for fixed variables\n",
    "reopt_N = 5\n",
    "fixed_indices = np.where(np.array(position_indices)>=reopt_N)\n",
    "fixed_items = np.array(item_indices)[fixed_indices]\n",
    "fixed_positions = np.array(position_indices)[fixed_indices]\n",
    "instance_data['fixed_IJ'] = [[x, y] for x, y in zip(fixed_items, fixed_positions)]"
   ]
  },
  {
   "attachments": {},
   "cell_type": "markdown",
   "metadata": {},
   "source": [
    "<!-- そして新しく追加した類似度に関するペナルティと変数固定に対する未定乗数を設定し、JijZeptで最適化計算を行います。 -->\n",
    "\n",
    "Then we set the multipliers for new penalty and constraint and perform the optimization computation with JijZept."
   ]
  },
  {
   "cell_type": "code",
   "execution_count": 28,
   "metadata": {},
   "outputs": [],
   "source": [
    "# set multipliers for fixed variables\n",
    "multipliers['similarity'] = 1.0\n",
    "multipliers['fixed'] = 1.0\n",
    "# solve sub-problem\n",
    "results = sampler.sample_model(problem, instance_data, search=True, num_reads=100)"
   ]
  },
  {
   "cell_type": "markdown",
   "metadata": {},
   "source": [
    "Again, we extract a feasible solution from the results and display it."
   ]
  },
  {
   "cell_type": "code",
   "execution_count": 29,
   "metadata": {},
   "outputs": [
    {
     "name": "stdout",
     "output_type": "stream",
     "text": [
      "obj: -7.652592783446592, penalty: 8.321844345099969\n",
      "0: item 4\n",
      "1: item 1\n",
      "2: item 5\n",
      "3: item 7\n",
      "4: item 0\n",
      "5: item 9\n",
      "6: item 6\n",
      "7: item 2\n",
      "8: item 8\n",
      "9: item 3\n"
     ]
    },
    {
     "name": "stderr",
     "output_type": "stream",
     "text": [
      "/tmp/ipykernel_4403/2014001535.py:3: DeprecationWarning: elementwise comparison failed; this will raise an error in the future.\n",
      "  if feasibles.evaluation.objective != []:\n"
     ]
    }
   ],
   "source": [
    "# get feasible solutions\n",
    "feasibles = results.feasible()\n",
    "if feasibles.evaluation.objective != []:\n",
    "    # get values of objective function\n",
    "    objs = feasibles.evaluation.objective\n",
    "    # get values of penalty term\n",
    "    penals = feasibles.evaluation.penalty['similarity']\n",
    "    # find the index of minimum objective + penalty\n",
    "    sums = objs + penals\n",
    "    max_sum_index = np.argmax(sums)\n",
    "    print('obj: {}, penalty: {}'.format(objs[max_sum_index], penals[max_sum_index]))\n",
    "    # get binary array from maximum objective solution\n",
    "    item_indices, position_indices = feasibles.record.solution['x'][max_sum_index][0]\n",
    "    # initialize binary array\n",
    "    post_binaries = np.zeros([inst_I, inst_J], dtype=int)\n",
    "    # input solution into array\n",
    "    post_binaries[item_indices, position_indices] = 1\n",
    "    # format solution for visualization\n",
    "    post_zip_sort= sorted(zip(np.where(np.array(post_binaries))[1], np.where(np.array(post_binaries))[0]))\n",
    "    for i, j in post_zip_sort:\n",
    "        print('{}: item {}'.format(i, j))\n",
    "    # get similarity \n",
    "    post_similarity = feasibles.evaluation.penalty[\"similarity\"][min_sum_index]\n",
    "else:\n",
    "    print('No feasibles solution')"
   ]
  },
  {
   "cell_type": "markdown",
   "metadata": {},
   "source": [
    "Let us compare these two results."
   ]
  },
  {
   "cell_type": "code",
   "execution_count": 30,
   "metadata": {},
   "outputs": [],
   "source": [
    "items = [\"Item {}\".format(i) for i in np.where(pre_binaries==1)[0]]\n",
    "pre_order = np.where(pre_binaries==1)[1]\n",
    "post_order = np.where(post_binaries==1)[1]"
   ]
  },
  {
   "cell_type": "markdown",
   "metadata": {},
   "source": [
    "To plot a graph, we define the following class."
   ]
  },
  {
   "cell_type": "code",
   "execution_count": 31,
   "metadata": {},
   "outputs": [],
   "source": [
    "from typing import Optional\n",
    "import matplotlib.pyplot as plt\n",
    "\n",
    "class Slope:\n",
    "    \"\"\"Class for a slope chart\"\"\"\n",
    "    def __init__(self,\n",
    "        figsize: tuple[float, float] = (6,4),\n",
    "        dpi: int = 150,\n",
    "        layout: str = 'tight',\n",
    "        show: bool =True,\n",
    "        **kwagrs):\n",
    "\n",
    "        self.fig = plt.figure(figsize=figsize, dpi=dpi, layout=layout, **kwagrs)\n",
    "        self.show = show\n",
    "\n",
    "        self._xstart: float = 0.2\n",
    "        self._xend: float = 0.8\n",
    "        self._suffix: str = ''\n",
    "        self._highlight: dict = {}\n",
    "        \n",
    "    def __enter__(self):\n",
    "        return(self)\n",
    "\n",
    "    def __exit__(self, exc_type, exc_value, exc_traceback):\n",
    "        plt.show() if self.show else None\n",
    "        \n",
    "    def highlight(self, add_highlight: dict) -> None:\n",
    "        \"\"\"Set highlight dict\n",
    "        \n",
    "        e.g.\n",
    "            {'Group A': 'orange', 'Group B': 'blue'}\n",
    "        \n",
    "        \"\"\"\n",
    "        self._highlight.update(add_highlight)\n",
    "        \n",
    "    def config(self, xstart: float =0, xend: float =0, suffix: str ='') -> None:\n",
    "        \"\"\"Config some parameters\n",
    "        \n",
    "            Args:\n",
    "                xstart (float): x start point, which can take 0.0〜1.0        \n",
    "                xend (float): x end point, which can take 0.0〜1.0\n",
    "                suffix (str): Suffix for the numbers of chart e.g. '%'\n",
    "        \n",
    "            Return:\n",
    "                None\n",
    "                \n",
    "        \"\"\"\n",
    "        self._xstart = xstart if xstart else self._xstart\n",
    "        self._xend = xend if xend else self._xend\n",
    "        self._suffix = suffix if suffix else self._suffix\n",
    "    \n",
    "    def plot(self, time0: list[float], time1: list[float], \n",
    "             names: list[float], xticks: Optional[tuple[str,str]] = None, \n",
    "             title: str ='', subtitle: str ='', ):\n",
    "        \"\"\"Plot a slope chart\n",
    "        \n",
    "        Args:\n",
    "            time0 (list[float]): Values of start period\n",
    "            time1 (list[float]): Values of end period\n",
    "            names (list[str]): Names of each items\n",
    "            xticks (tuple[str, str]): xticks, default to 'Before' and 'After'\n",
    "            title (str): Title of the chart\n",
    "            subtitle (str): Subtitle of the chart, it might be x labels\n",
    "        \n",
    "        Return:\n",
    "            None\n",
    "        \n",
    "        \"\"\"\n",
    "        \n",
    "        xticks = xticks if xticks else ('Before', 'After')\n",
    "        \n",
    "        xmin, xmax = 0, 4\n",
    "        xstart = xmax * self._xstart\n",
    "        xend = xmax * self._xend\n",
    "        ymax = max(*time0, *time1)\n",
    "        ymin = min(*time0, *time1)\n",
    "        ytop = ymax * 1.2\n",
    "        ybottom = ymin - (ymax * 0.2)\n",
    "        yticks_position = ymin - (ymax * 0.1)\n",
    "        \n",
    "        text_args = {'verticalalignment':'center', 'fontdict':{'size':10}}\n",
    "        \n",
    "        for t0, t1, name in zip(time0, time1, names):\n",
    "            color = self._highlight.get(name, 'gray') if self._highlight else None\n",
    "            \n",
    "            left_text = f'{name} {str(round(t0))}{self._suffix}'\n",
    "            right_text = f'{str(round(t1))}{self._suffix}'\n",
    "            \n",
    "            plt.plot([xstart, xend], [t0, t1], lw=2, color=color, marker='o', markersize=5)\n",
    "            plt.text(xstart-0.1, t0, left_text, horizontalalignment='right', **text_args)\n",
    "            plt.text(xend+0.1, t1, right_text, horizontalalignment='left', **text_args)\n",
    "        \n",
    "        plt.xlim(xmin, xmax)\n",
    "        plt.ylim(ytop, ybottom)\n",
    "    \n",
    "        plt.text(0, ytop, title, horizontalalignment='left', fontdict={'size':15})\n",
    "        plt.text(0, ytop*0.95, subtitle, horizontalalignment='left', fontdict={'size':10})\n",
    "        \n",
    "        plt.text(xstart, yticks_position, xticks[0], horizontalalignment='center', **text_args)\n",
    "        plt.text(xend, yticks_position, xticks[1], horizontalalignment='center', **text_args)\n",
    "        plt.axis('off')\n",
    "        \n",
    "        \n",
    "def slope(\n",
    "    figsize=(6,4),\n",
    "    dpi: int = 150,\n",
    "    layout: str = 'tight',\n",
    "    show: bool =True,\n",
    "    **kwargs\n",
    "    ):\n",
    "    \"\"\"Context manager for a slope chart\"\"\"\n",
    "    \n",
    "    slp = Slope(figsize=figsize, dpi=dpi, layout=layout, show=show, **kwargs)\n",
    "\n",
    "    return slp"
   ]
  },
  {
   "cell_type": "markdown",
   "metadata": {},
   "source": [
    "Then, we display a graph for comparison."
   ]
  },
  {
   "cell_type": "code",
   "execution_count": 32,
   "metadata": {},
   "outputs": [
    {
     "data": {
      "image/png": "[encoded data removed]",
      "text/plain": [
       "<Figure size 900x600 with 1 Axes>"
      ]
     },
     "metadata": {},
     "output_type": "display_data"
    }
   ],
   "source": [
    "pre_string = \"Similarity: {:.2g}\".format(pre_similarity)\n",
    "post_string = \"Similarity: {:.2g}\".format(post_similarity)\n",
    "with slope() as slp:\n",
    "    slp.plot(pre_order, post_order, items, (pre_string, post_string))"
   ]
  },
  {
   "attachments": {},
   "cell_type": "markdown",
   "metadata": {},
   "source": [
    "<!-- 最初の最適化結果と比較すると、下位部分は変数固定により変化はありません。\n",
    "しかし、上位部分は類似度を考慮したことで、順番に変動が見られます。 -->\n",
    "\n",
    "The left and right columns show the results without and with similarity term, respectively.\n",
    "The lower positions remain unchanged due to fixing variables.\n",
    "However, we can see the change in upper positions due to the similarity."
   ]
  },
  {
   "attachments": {},
   "cell_type": "markdown",
   "metadata": {},
   "source": [
    "## References\n",
    "\n",
    "* [Nishimura et al., 2019, \"Item Listing Optimization for E-Commerce Websites Based on Diversity\"](https://www.frontiersin.org/articles/10.3389/fcomp.2019.00002/full)  "
   ]
  },
  {
   "cell_type": "markdown",
   "metadata": {},
   "source": []
  }
 ],
 "metadata": {
  "kernelspec": {
   "display_name": "Python 3 (ipykernel)",
   "language": "python",
   "name": "python3"
  },
  "language_info": {
   "codemirror_mode": {
    "name": "ipython",
    "version": 3
   },
   "file_extension": ".py",
   "mimetype": "text/x-python",
   "name": "python",
   "nbconvert_exporter": "python",
   "pygments_lexer": "ipython3",
   "version": "3.9.18"
  },
  "vscode": {
   "interpreter": {
    "hash": "d8bb8d8f316256c93cd9d893faf7cf943ba8f6c0b9f3d1c8a75ecb1cf0541374"
   }
  }
 },
 "nbformat": 4,
 "nbformat_minor": 4
}
