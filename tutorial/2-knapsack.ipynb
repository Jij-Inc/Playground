{
 "cells": [
  {
   "cell_type": "markdown",
   "metadata": {},
   "source": [
    "--- \n",
    "description: Here we show how to solve the knapsack problem using JijZept and JijModeling.\n",
    "---"
   ]
  },
  {
   "cell_type": "markdown",
   "metadata": {},
   "source": [
    "# Knapsack Problem\n",
    "\n",
    "Here we show how to solve the knapsack problem using JijZept and [JijModeling](https://www.ref.documentation.jijzept.com/jijmodeling/). \n",
    "This problem is also mentioned in 5.2. Knapsack with Integer Weights on [Lucas, 2014, \"Ising formulations of many NP problems\"](https://www.frontiersin.org/articles/10.3389/fphy.2014.00005/full)"
   ]
  },
  {
   "cell_type": "markdown",
   "metadata": {},
   "source": [
    "## What is the knapsack problem?\n",
    "\n",
    "The knapsack problem is the problem of finding the optimal solution in the following situation.\n",
    "Also, it is known as one of the most famous NP-hard integer programming problems. \n",
    "\n",
    "### Example\n",
    "\n",
    "As a concrete example of this problem, we consider the following story: \n",
    "\n",
    "> An explorer was exploring a cave. After walking in the cave for a while, he unexpectedly found some treasures. \n",
    "\n",
    "||Treasure A|Treasure B|Treasure C|Treasure D|Treasure E|Treasure F|\n",
    "|-|-|-|-|-|-|-|\n",
    "|Price|$5000|$7000|$2000|$1000|$4000|$3000|\n",
    "|weight|800g|1000g|600g|400g|500g|300g|\n",
    "\n",
    "> Unfortunately, the explorer only had a small knapsack to carry these treasures. This knapsack can only hold 2 kg. The explorer wants the value of the treasures in this knapsack to be as valuable as possible. Which treasures should the explorer choose to bring back most efficiently?\n",
    "\n",
    "### The knapsack problem\n",
    "\n",
    "We consider generalization above problem. \n",
    "Let $\\{ 0, 1, \\dots, i, \\dots, N-1 \\}$ be the set of items to put in the knapsack.\n",
    "Lists of the cost $\\bm{v}$ and weight $\\bm{w}$ of each item $i$ allow us to represent the problem.\n",
    "\n",
    "$$\n",
    "\\bm{v} = \\{v_0, v_1, \\dots, v_i, \\dots, v_{N-1}\\}\n",
    "$$\n",
    "$$\n",
    "\\bm{w} = \\{w_0, w_1, \\dots, w_i, \\dots, w_{N-1}\\}\n",
    "$$\n",
    "\n",
    "Furthermore, we define a binary variable $x_i$ that represents the selection of the $i$th item. \n",
    "This binary is 1 if we choose $i$th item to put into the knapsack, and 0 otherwise.\n",
    "Finally, we denote $W$ to be the capacity of the knapsack.  \n",
    "We want to maximize the total cost of item put into the knapsack.\n",
    "Therefore, let us express this requirement as an objective function.\n",
    "In addition, we should take into account the constraint for knapsack capacity limitation.\n",
    "Finally, the mathematical model of this problem is as follows.\n",
    "\n",
    "\n",
    "$$\n",
    "\\max \\quad \\sum_{i=0}^{N-1} v_i x_i \\tag{1}\n",
    "$$\n",
    "$$\n",
    "\\mathrm{s.t.} \\quad \\sum_{i=0}^{N-1} w_i x_i \\leq W \\tag{2}\n",
    "$$\n",
    "$$\n",
    "x_i \\in \\{0, 1\\} \\quad (\\forall i \\in \\{0, 1, \\dots, N-1\\}) \\tag{3}\n",
    "$$"
   ]
  },
  {
   "cell_type": "markdown",
   "metadata": {},
   "source": [
    "## Modeling by JijModeling\n",
    "\n",
    "Next, we show an implementation of the above mathematical model in JijModeling. We first define variables for the mathematical model."
   ]
  },
  {
   "cell_type": "code",
   "execution_count": 1,
   "metadata": {},
   "outputs": [],
   "source": [
    "import jijmodeling as jm\n",
    "\n",
    "# define variables\n",
    "v = jm.Placeholder('v', ndim=1)\n",
    "N = v.len_at(0, latex=\"N\")\n",
    "w = jm.Placeholder('w', ndim=1)\n",
    "W = jm.Placeholder('W')\n",
    "x = jm.BinaryVar('x', shape=(N,))\n",
    "i = jm.Element('i', belong_to=(0, N))"
   ]
  },
  {
   "attachments": {},
   "cell_type": "markdown",
   "metadata": {},
   "source": [
    "`v=jm.Placeholder('v', ndim=1)` represents a one-dimensional list of values of items.\n",
    "The number of items `N` is obtained from the length of `v`.\n",
    "Using `N`, we can define a one-dimensional list of weights of items as `w=jm.Placeholder('w', ndim=1)`.\n",
    "Such a definition ensures that `v` and `w` have the same length.\n",
    "`W = jm.Placeholder('W')` is a scalar $W$ representing the knapsack capacity.\n",
    "We define a list of binary variables `x` of the same length as `v`, `w` by writing `x=jm.BinaryVar('x', shape=(N,))`.\n",
    "Finally, `i=jm.Element('i', belong_to=(0, N))` represents the index of $v_i, w_i, x_i$. \n",
    "This denotes `i` is an integer in the range $0 \\leq i < N$.\n",
    "`.set_latex` allow us to set the character when it is displayed in Jupyter Notebook."
   ]
  },
  {
   "cell_type": "markdown",
   "metadata": {},
   "source": [
    "### Objective function\n",
    "\n",
    "We implement an objective function Equation (1). "
   ]
  },
  {
   "cell_type": "code",
   "execution_count": 2,
   "metadata": {},
   "outputs": [],
   "source": [
    "# set problem\n",
    "problem = jm.Problem('Knapsack', sense=jm.ProblemSense.MAXIMIZE)\n",
    "# set objective function\n",
    "problem += jm.sum(i, v[i]*x[i])"
   ]
  },
  {
   "attachments": {},
   "cell_type": "markdown",
   "metadata": {},
   "source": [
    "We create a problem `problem=jm.Problem('Knapsack')` and add an objective function.\n",
    "`sum(i, formula)` represents the sum from $i=0$ to $i=N-1$ of formula."
   ]
  },
  {
   "cell_type": "markdown",
   "metadata": {},
   "source": [
    "### Constraint \n",
    "\n",
    "Next, we implement a constraint Equation (2)."
   ]
  },
  {
   "cell_type": "code",
   "execution_count": 3,
   "metadata": {},
   "outputs": [],
   "source": [
    "# set total weight constarint\n",
    "const = jm.sum(i, w[i]*x[i])\n",
    "problem += jm.Constraint('weight', const<=W)"
   ]
  },
  {
   "cell_type": "markdown",
   "metadata": {},
   "source": [
    "`Constraint('name', formula)` allows us to set the constraint and name it."
   ]
  },
  {
   "cell_type": "markdown",
   "metadata": {},
   "source": [
    "Let's display the implemented mathematical model in Jupyter Notebook."
   ]
  },
  {
   "cell_type": "code",
   "execution_count": 4,
   "metadata": {},
   "outputs": [
    {
     "data": {
      "text/latex": [
       "$$\\begin{array}{cccc}\\text{Problem:} & \\text{Knapsack} & & \\\\& & \\max \\quad \\displaystyle \\sum_{i = 0}^{N - 1} v_{i} \\cdot x_{i} & \\\\\\text{{s.t.}} & & & \\\\ & \\text{weight} & \\displaystyle \\sum_{i = 0}^{N - 1} w_{i} \\cdot x_{i} \\leq W &  \\\\\\text{{where}} & & & \\\\& x & 1\\text{-dim binary variable}\\\\\\end{array}$$"
      ],
      "text/plain": [
       "<jijmodeling.Problem at 0x1267e0ef0>"
      ]
     },
     "execution_count": 4,
     "metadata": {},
     "output_type": "execute_result"
    }
   ],
   "source": [
    "problem"
   ]
  },
  {
   "cell_type": "markdown",
   "metadata": {},
   "source": [
    "## Prepare an instance\n"
   ]
  },
  {
   "cell_type": "code",
   "execution_count": 5,
   "metadata": {},
   "outputs": [],
   "source": [
    "import numpy as np\n",
    "# set a list of values & weights \n",
    "inst_v = np.random.randint(5,30,100)\n",
    "inst_w = inst_v + np.random.randint(-2,20,100)\n",
    "# set maximum weight\n",
    "inst_W = 100\n",
    "instance_data = {'v': inst_v, 'w': inst_w, 'W': inst_W}    "
   ]
  },
  {
   "cell_type": "markdown",
   "metadata": {},
   "source": [
    "## Solve by JijZept's SA\n",
    "\n",
    "We solve this problem using JijZept `JijSASampler`. We also use the parameter search function by setting `search=True`."
   ]
  },
  {
   "cell_type": "code",
   "execution_count": 6,
   "metadata": {},
   "outputs": [],
   "source": [
    "import jijzept as jz\n",
    "\n",
    "# set sampler\n",
    "sampler = jz.JijSASampler(config='config.toml')\n",
    "# solve problem\n",
    "response = sampler.sample_model(problem, instance_data, multipliers={\"weight\": 1.0}, num_reads=100, search=True)"
   ]
  },
  {
   "cell_type": "markdown",
   "metadata": {},
   "source": [
    "## Visualize the solution\n",
    "\n",
    "In the end, we extract the highest energy solution among the feasible solutions and visualize it."
   ]
  },
  {
   "cell_type": "code",
   "execution_count": 7,
   "metadata": {},
   "outputs": [
    {
     "name": "stdout",
     "output_type": "stream",
     "text": [
      "Values of chosen items:  [11 23 18 15 22 19]\n",
      "Weights of chosen items:  [10 22 16 13 21 18]\n",
      "Total value from objective:  108.0\n",
      "Total weight:  100\n"
     ]
    }
   ],
   "source": [
    "# get feasible samples\n",
    "sampleset = response.get_sampleset()\n",
    "feasible_samples = sampleset.feasibles()\n",
    "# get the values of feasible objective function\n",
    "feasible_objectives = [sample.eval.objective for sample in feasible_samples]\n",
    "# get the index of the highest objective value \n",
    "highest_index = np.argmax(feasible_objectives)\n",
    "# get a dictionary {index of x=1: 1}\n",
    "highest_solution = feasible_samples[highest_index].var_values[\"x\"].values\n",
    "# initialize\n",
    "sum_w = 0\n",
    "chosen_items_list = []\n",
    "# compute sum of weights and store the indices\n",
    "for j in highest_solution.keys():\n",
    "    sum_w += inst_w[j[0]]\n",
    "    chosen_items_list.append(j[0])\n",
    "# show results\n",
    "print(\"Values of chosen items: \", inst_v[chosen_items_list])\n",
    "print(\"Weights of chosen items: \", inst_w[chosen_items_list])\n",
    "print(\"Total value from objective: \", feasible_objectives[highest_index])\n",
    "print(\"Total weight: \", sum_w)"
   ]
  },
  {
   "cell_type": "markdown",
   "metadata": {},
   "source": [
    "The kanpsack is well packed as much as possible and the items which are light and valuable are chosen to put in the knapsack."
   ]
  }
 ],
 "metadata": {
  "kernelspec": {
   "display_name": "Python 3 (ipykernel)",
   "language": "python",
   "name": "python3"
  },
  "language_info": {
   "codemirror_mode": {
    "name": "ipython",
    "version": 3
   },
   "file_extension": ".py",
   "mimetype": "text/x-python",
   "name": "python",
   "nbconvert_exporter": "python",
   "pygments_lexer": "ipython3",
   "version": "3.9.18"
  },
  "vscode": {
   "interpreter": {
    "hash": "36cf16204b8548560b1c020c4e8fb5b57f0e4c58016f52f2d4be01e192833930"
   }
  }
 },
 "nbformat": 4,
 "nbformat_minor": 4
}
