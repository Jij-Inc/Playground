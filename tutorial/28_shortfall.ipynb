{
 "cells": [
  {
   "attachments": {},
   "cell_type": "markdown",
   "metadata": {},
   "source": [
    "---\n",
    "description: Here we show how to solve the portfolio optimization with a measure of expected shortfall risk using JijZept.\n",
    "---\n",
    "\n",
    "# Dynamic Asset Allocation with Expected Shortfall\n",
    "\n",
    "<!-- # ショートフォールを考慮したポートフォリオ最適化 -->\n",
    "\n",
    "<!-- ## 導入 -->\n",
    "\n",
    "## Introduction\n",
    "\n",
    "<!-- 投資において目標とする資産額あるいは投資リターンに到達しない確率を、ショートフォールリスクと呼びます。ポートフォリオ最適化に期待ショートフォールのリスク指標を導入すると、ダイナミックに市場が動くような極端なモデルでもリターンを考えることが可能になります。目標リターンは[Markowitzのポートフォリオ最適化モデル](https://doi.org/10.2307/2975974)の制約条件として扱い、目標とするショートフォールを満たすように目標リターンを動的に調整する反復アルゴリズムが、[Xu et al., 2023](https://doi.org/10.3390/e25030541)により提案されました。今回はこれを題材に、JijModelingとJijZeptの使い方を学びましょう。 -->\n",
    "\n",
    "The probability of not reaching a target asset amount or investment return on an investment is called shortfall risk.\n",
    "Introducing a measure of expected shortfall risk in portfolio optimization makes it possible to consider returns even in extreme models where the market moves dynamically.\n",
    "[Xu et al. (2023)](https://doi.org/10.3390/e25030541) treated target returns as constraints in the [Markowitz portfolio optimization model](https://doi.org/10.2307/2975974) and proposed an iterative algorithm that dynamically adjusts target returns to meet target shortfalls.\n",
    "In this article, we use JijModeling and JijZept to implement this algorithm.\n",
    "\n",
    "<!-- ## 動的資産配分 (Dynamic Asset Allocation) -->\n",
    "\n",
    "## Dynamic Asset Allocation\n",
    "\n",
    "<!-- 動的資産配分問題とは、リスクを所定の閾値以下に抑えながら期待リターンを満たすように、$N$個の資産に資金を配分/投資する問題です。この問題の入力には次のようなものが用いられます。これまでのリターンを表した行列$R$をファイナンスデータから取得します。この行列は$N$行$D_\\mathrm{total}$列で表されます。ここで$N$は対象とする銘柄数、$D_\\mathrm{total}$は対象とする日数です。これを$T$の期間に分け、各期間のデータにインデックスを振り分けます。例えば$R_t$は、$t$番目の期間のリターンを表します。そしてその$R_t$から計算される平均を$\\mu_t$とすると、$t$番目の共分散行列は -->\n",
    "\n",
    "The dynamic asset allocation problem is the problem of allocating/investing funds in $N$ assets to meet expected returns while keeping risk below a given threshold.\n",
    "A $N \\times D_\\mathrm{total}$ matrix $R$ representing the returns are obtained from the finance data.\n",
    "$N$ is the number of stocks to be covered and $D_\\mathrm{total}$ is the number of days data are collected. \n",
    "We divide $R$ into the period of $T$ days and index the data for each time period.\n",
    "For example, $R_t$ represents the return data from $t$-th period.\n",
    "$\\mu_t$ is the mean value calculated from $R_t$.\n",
    "Using these quantities, the covariance matrix of $t$-th period $C_t$ is calculated as \n",
    "\n",
    "$$\n",
    "C_{t, i, j} = \\frac{(\\mathbf{e}_i^\\top R_t - \\mu^\\top_{t, i} \\mathbf{1}) \\cdot  (\\mathbf{e}_j^\\top R_t - \\mu^\\top_{t, j} \\mathbf{1})}{T-1} \\tag{1}\n",
    "$$\n",
    "\n",
    "<!-- のように計算されます。ここで$\\mathbf{e}_i$は、$i$番目の成分は1、それ以外の成分は0となるような列ベクトルです。  \n",
    "資産配分では、予測不可能な市場の乱高下がある時期には困難なものとなります。そのため、その時期のリスクを回避するための閾値を設けておかなければなりません。リスク閾値は、例えば2008年のリーマンショック時の市場暴落のような不安定な時期から求められた市場指標を用いて設定するなどの例があります。その閾値を上回っているかどうかのリスク測定手法の代表的なものには、以下のようなものがあります。 -->\n",
    "\n",
    "where $\\mathbf{e}_i$ is a column vector of all zeros except with a one at the $j$-th position.\n",
    "Asset allocation could be a challenging problem during periods of unpredictable market turbulence.\n",
    "Therefore, we should set a threshold to avoid risk during those periods.\n",
    "The risk threshold can be set using observed market metrics from a volatile time period, for example, the 2008 market crash.\n",
    "Major methods of risk measurement include:\n",
    "\n",
    "<!-- - ボラティリティ: ポートフォリオリターンの標準偏差\n",
    "- $\\alpha$レベルにおけるバリュー・アット・リスク: ポートフォリオが総予算の$y$%以上を失わない確率が、少なくとも$1-\\alpha$となるような最小の$y$\n",
    "- $\\alpha$レベルにおける期待ショートフォール: 最悪の$\\alpha$%のケースから得られる期待収益 -->\n",
    "\n",
    "- Volatility: the standard deviation of the portfolio return.\n",
    "- Value-at-Risk at level $\\alpha$:  the smallest number $y$ such that the probability that a portfolio does not lose more than $y$ of total budget is at least $1−α$.\n",
    "- Expected Shortfall at level $\\alpha$: the expected return from the worst $\\alpha$% cases.\n",
    "\n",
    "<!-- 以降では、期待ショートフォールを用いた定式化を考えていきましょう。 -->\n",
    "\n",
    "In the following sections, we focus on the expected shortfall as our risk measurement and consider a formulation for portfolio optimization problem.\n",
    "\n",
    "<!-- ## 期待ショートフォールを考慮したポートフォリオ最適化 -->\n",
    "\n",
    "## Expected Shortfall based Portfolio Optimization\n",
    "\n",
    "<!-- 期待ショートフォール$\\mathrm{ES}_\\alpha$は以下のように計算されます。 -->\n",
    "\n",
    "The expected shortfall al level $\\alpha$ is defined as:\n",
    "\n",
    "$$\n",
    "\\mathrm{ES}_\\alpha (w_t, R_t) = \\mathrm{mean}(\\mathrm{lowest} \\ \\alpha \\% \\ \\mathrm{from} \\ w_t^\\top R_t) \\tag{2}\n",
    "$$\n",
    "\n",
    "<!-- ここで$w_t$は、$t$番目の期間において予算の何割を各資産に投資するかを表す重み付けベクトルです。最悪ケースの平均である期待ショートフォールは最小化したい対象となります。よって、これを考慮した場合のポートフォリオ最適化は、「全資産を投資するという制約下で$\\mathrm{ES}_\\alpha$を最小化しつつ、期待リターンを満足し、ポートフォリオ分散も小さくする」という問題となります。しかし、この期待ショートフォールは2次形式で表現することができないため、もしこれをQUBOにしようとすると補助変数などを新たに導入する必要が生まれます。\n",
    "よってこの困難を回避するために、ここでは期待ショートフォールを収束基準として用いることにしましょう。\n",
    "またその基準計算のために、これまでのリターンがガウス分布に従うと仮定し、与えられたポートフォリオ$P$の期待ショートフォールを以下のように近似して求めることにします。 -->\n",
    "\n",
    "where the weight vector $w_t$ indicates what fraction of the budget is invested in each asset in the $t$th period.\n",
    "We minimize the expected shortfall, which is the worst-case average.\n",
    "Therefore, portfolio optimization considering expected shortfall becomes a problem of minimizing the expected shortfall $\\mathrm{ES}_\\alpha$ under the constraints that the expected return is satisfied, the variance of the portfolio is small, and all assets are invested.\n",
    "However, the expected shortfall cannot be expressed by a quadratic formulation natively.\n",
    "If we reformulate it to QUBO, it is necessary to introduce new auxiliary variables.\n",
    "Therefore, to avoid this difficulty, we treat the expected shortfall as the convergence criterion.\n",
    "To do this approach, assuming that the assets’ historical returns follow a Gaussian distribution, we can approximate the expected shortfall of a given portfolio $P$ by\n",
    "\n",
    "$$\n",
    "\\mathrm{ES}_\\alpha (P) \n",
    "= \\mu + \\sigma \\frac{\\phi (\\Phi^{-1} (\\alpha))}{1-\\alpha} \\tag{3}\n",
    "$$\n",
    "\n",
    "<!-- $\\mu$は期待されるリターン、$\\sigma$はポートフォリオのボラティリティ、$\\phi(x)$と$\\Phi(x)$はそれぞれガウス分布と累積分布関数を表します。  \n",
    "市場のリスクの大小を、この基準を用いて判定することにします。例えばリスクが小さい場合には、投資額を少し大きくしてその分大きなリターンを得たいと思うはずです。同様に、市場が不安定でリスクが大きい時期には、リターンを小さくする代わりに損をするリスクを下げる方法が取られるでしょう。このように、その時期の期待ショートフォールに合わせて動的にリターンを変動させるために、[Xu et al., 2023](https://doi.org/10.3390/e25030541)では次のようなアルゴリズムを開発しました。 -->\n",
    "\n",
    "where $\\mu$ is the expected return, $\\sigma$ is the volatility of the portfolio, and $\\phi(x)$ and $\\Phi(x)$ are the Gaussian probability distribution and cumulative distribution functions, respectively.  \n",
    "We use this criterion as the market risk.\n",
    "For example, if the risk is small, we make a slightly larger investment to get a larger return.\n",
    "Conversely, during periods of market turbulence and high risk, we take a lower risk of losing money in exchange for a smaller return.\n",
    "In order to dynamically vary returns in accordance with the expected shortfall for a given period, [Xu et al. (2023)](https://www.mdpi.com/1099-4300/25/3/541) proposed the following algorithm.\n",
    "\n",
    "<!-- アルゴリズム: 期待ショートフォールをベースとした$t$番目の時期における動的資産配分  \n",
    "入力: $\\mu_t, R_t, \\sigma_\\mathrm{ref}, \\sigma_{\\mathrm{ref}, t}, \\mathrm{ES}_\\mathrm{ref}, \\alpha$  \n",
    "出力: $w_t$  \n",
    "1: $p_t = \\mathrm{mean} (\\mu_t)$.   // リターンを初期化  \n",
    "2: $\\mathrm{EST}_t = \\frac{\\sigma_\\mathrm{ref}}{\\sigma_{\\mathrm{ref}, t}} \\mathrm{ES}_\\mathrm{ref}$.   // 目標とする期待ショートフォールを初期化  \n",
    "3: $C_t = \\mathrm{cov}(R_t)$    // 共分散行列を計算  \n",
    "4: while True do:   \n",
    "5: &emsp; if $p_t > \\max (\\mu_t)$:   \n",
    "6: &emsp; &emsp; return 0.   // 制約が満たされていない  \n",
    "7: &emsp; $w_t$ = Markowitz($\\mu_t, C_t, p_t$).   // Markowitzの定式化をアニーリングで解く  \n",
    "8: &emsp; $\\mathrm{ES}_t = \\mathrm{ES}_\\alpha (w_t, R_t)$.   // 定義式(2)から期待ショートフォールを計算  \n",
    "9: &emsp; if $\\frac{\\mathrm{ES}_t}{\\mathrm{EST}_t} > 1 + \\epsilon$:  \n",
    "10:&emsp; &emsp; $p_t = p_t (1-\\delta)$.   // もし期待ショートフォールが大きいなら、リターンを小さくして損するリスクを下げる  \n",
    "11:&emsp; else if: $\\frac{\\mathrm{ES}_t}{\\mathrm{EST}_t} < 1-\\epsilon$  \n",
    "12:&emsp; &emsp; $p_t = p_t (1+\\delta)$.   // もし期待ショートフォールが小さいなら、リターンを大きくする余裕がある  \n",
    "13:&emsp; else:   \n",
    "14:&emsp; &emsp; return $w_t$   -->\n",
    "\n",
    "Algorithm: Expected Shortfall based Dynamic Asset Allocation during period $t$  \n",
    "Input: $\\mu_t, R_t, \\sigma_\\mathrm{ref}, \\sigma_{\\mathrm{ref}, t}, \\mathrm{ES}_\\mathrm{ref}, \\alpha$  \n",
    "Output: $w_t$  \n",
    "1: $p_t = \\mathrm{mean} (\\mu_t)$.   // Initialize the target return  \n",
    "2: $\\mathrm{EST}_t = \\frac{\\sigma_\\mathrm{ref}}{\\sigma_{\\mathrm{ref}, t}} \\mathrm{ES}_\\mathrm{ref}$.   // Initialize the target expected shortfall  \n",
    "3: $C_t = \\mathrm{cov}(R_t)$    // Compute the co-variance matrix from the returns  \n",
    "4: while True do:  \n",
    "5: &emsp; if $p_t > \\max (\\mu_t)$:   \n",
    "6: &emsp; &emsp; return 0.   // Return constraint cannot be satisfied  \n",
    "7: &emsp; $w_t$ = Markowitz($\\mu_t, C_t, p_t$).   // Solve Markowitz formulation with annealing  \n",
    "8: &emsp; $\\mathrm{ES}_t = \\mathrm{ES}_\\alpha (w_t, R_t)$.   // Compute the expected shortfall using eq.(2)  \n",
    "9: &emsp; if $\\frac{\\mathrm{ES}_t}{\\mathrm{EST}_t} > 1 + \\epsilon$:  \n",
    "10:&emsp; &emsp; $p_t = p_t (1-\\delta)$.   // Decrease target return for lower risks  \n",
    "11:&emsp; else if: $\\frac{\\mathrm{ES}_t}{\\mathrm{EST}_t} < 1-\\epsilon$  \n",
    "12:&emsp; &emsp; $p_t = p_t (1+\\delta)$.   // Increase target return as there is room for more risks  \n",
    "13:&emsp; else:   \n",
    "14:&emsp; &emsp; return $w_t$\n",
    "\n",
    "<!-- ここで$\\sigma_\\mathrm{ref}$は2008年の市場暴落時のボラティリティ、$\\sigma_{\\mathrm{ref}, t}$は$t$番目の時期におけるボラティリティです。そして$\\mathrm{ES}_\\mathrm{ref}$は同じく2008年の市場暴落時の期待ショートフォールを表し、$\\mathrm{EST}_t$は$t$番目の時期における目標とする期待ショートフォールです。$\\alpha$はリスクパラメータで、$\\mathrm{ES}_t$は$t$番目の時期において[Markowitz定式化](https://doi.org/10.2307/2975974)の最適化結果から計算される期待ショートフォール、$\\epsilon$はエラー許容パラメータ、$\\delta$は調整されるモメンタムパラメータを表します。途中で解いている[Markowitzの定式化](https://doi.org/10.2307/2975974)とは、以下のようなものです。 -->\n",
    "\n",
    "where $\\sigma_\\mathrm{ref}$ is the volatility of a reference asset's returns during the market crash in 2008.\n",
    "$\\sigma_{\\mathrm{ref}, t}$ is the volatility of the reference asset's returns during the $t$-th period.\n",
    "$\\mathrm{ES}_\\mathrm{ref}$ is the reference asset's expected shortfall during the market crash.\n",
    "$\\mathrm{EST}_t$ is the target expected shortfall at the $t$-th period.\n",
    "$\\alpha$ is the risk level parameter.\n",
    "$\\mathrm{ES}_t$ is the expected shortfall for the computed portfolio during [the optimization process](https://doi.org/10.2307/2975974) at $t$-th period.\n",
    "$\\epsilon$ is the error tolerance parameter, and $\\delta$ is the momentum parameter that is adjusted dynamically.\n",
    "[The Markowitz optimization problem](https://doi.org/10.2307/2975974) can be expressed by the quadratic optimization problem as:\n",
    "\n",
    "$$\n",
    "\\begin{align}\n",
    "\\min_w & \\quad w_t^\\top C_t w_t \\notag \\\\\n",
    "\\mathrm{s.t.} & \\quad \\mu_t^\\top w_t \\geq \n",
    "p_t \\\\\n",
    "& \\quad \\sum_i w_{t, i} = 1, \\quad w_{t, i} \\geq 0 \\quad (\\forall i)\n",
    "\\end{align} \\tag{4}\n",
    "$$\n",
    "\n",
    "<!-- ここでは簡単のため、$w_{t, i}$は$\\{0, 1\\}$のバイナリ変数であるとします。\n",
    "制約条件$\\sum_i w_{t, i} = 1$から、自分の持っている資産をある一つの銘柄に集中させ、リターンは常に$p_t$より大きくなるようにしています。 -->\n",
    "\n",
    "For simplicity, we set $w_{t, i}$ are binary variables in $\\{0, 1\\}$.\n",
    "From the constraint $\\sum_i w_{t, i} = 1$, we concentrate our assets in one stock, and aim the return is always greater than $p_t$."
   ]
  },
  {
   "attachments": {},
   "cell_type": "markdown",
   "metadata": {},
   "source": [
    "<!-- ## 実装しましょう -->\n",
    "\n",
    "## Let's coding!\n",
    "\n",
    "<!-- ここからは実際にJijModelingとJijZeptを用いて、この問題を解くスクリプトを実装しましょう。 -->\n",
    "\n",
    "Here, we implement a script that solves this problem using JijModeling and JijZept.\n",
    "\n",
    "<!-- ### 変数の定義 -->\n",
    "\n",
    "### Defining variables\n",
    "\n",
    "<!-- 以下のようにして、(4)式の最適化問題を解くのに用いる変数を定義します。 -->\n",
    "\n",
    "We define the variables for eq.(4)."
   ]
  },
  {
   "cell_type": "code",
   "execution_count": 12,
   "metadata": {},
   "outputs": [],
   "source": [
    "import jijmodeling as jm\n",
    "\n",
    "# define variables\n",
    "N = jm.Placeholder('N')\n",
    "p = jm.Placeholder('p')\n",
    "mu = jm.Placeholder('mu', ndim=1)\n",
    "C = jm.Placeholder('C', ndim=2)\n",
    "w = jm.BinaryVar('w', shape=(N, ))\n",
    "i = jm.Element('i', belong_to=N)\n",
    "j = jm.Element('j', belong_to=N)"
   ]
  },
  {
   "attachments": {},
   "cell_type": "markdown",
   "metadata": {},
   "source": [
    "<!-- `N`は購入を検討している銘柄数、`p`はリターンの下限値$p_t$、`mu`は各銘柄のリターン$\\mu_t$、`C`は共分散行列$C_t$です。\n",
    "そして`w`は最適化に用いるバイナリ変数、`i`, `j`はそれぞれ添字に用いる変数です。 -->\n",
    "\n",
    "`N` is the total number of stocks, `p` is the lower liimit of return $p_t$, `mu` is the return $\\mu_t$ for each stock, and `C` is the covariance matrix $C_t$.\n",
    "`w` is the binary variable for optimization, and `i` and `j` are the indices, respectively."
   ]
  },
  {
   "attachments": {},
   "cell_type": "markdown",
   "metadata": {},
   "source": [
    "<!-- ### Markowitz定式化の実装 -->\n",
    "\n",
    "### Implementing Markowitz formulation\n",
    "\n",
    "<!-- (3)式で表現される、Markowitzのポートフォリオ最適化の数理モデルを実装しましょう。 -->\n",
    "\n",
    "Next, we implement [Markowitz mathematical model](https://doi.org/10.2307/2975974) eq.(3)."
   ]
  },
  {
   "cell_type": "code",
   "execution_count": 13,
   "metadata": {},
   "outputs": [],
   "source": [
    "# set a problem\n",
    "problem = jm.Problem('shortfall')\n",
    "# constraint 1: ensure the target return\n",
    "problem += jm.Constraint('return', jm.sum(i, mu[i]*w[i])>=p)\n",
    "# constraint 2: buy a stock\n",
    "problem += jm.Constraint('onehot', jm.sum(i, w[i])==1)\n",
    "# objective function: minimize variance\n",
    "problem += jm.sum([i, j], C[i, j]*w[i]*w[j])"
   ]
  },
  {
   "attachments": {},
   "cell_type": "markdown",
   "metadata": {},
   "source": [
    "<!-- `Problem`で問題を作成し、その次に`Constraint`で2つの制約を実装します。\n",
    "目的関数の$\\sum_i \\sum_j C_{i, j} w_i w_j$では、一つの`sum([i, j], ...)`のようにすることで2つの添字での総和を一度に計算することができます。  \n",
    "Jupyter Notebookであれば、実装された数理モデルを確認することができます。 -->\n",
    "\n",
    "We generate a problem with `Problem` and then implement two constraints with `Constraint`.\n",
    "We can implement the sum in two subscripts at once by using `sum([i, j], ...)`.  \n",
    "With Jupyter Notebook, we can check the mathematical model implemented.  "
   ]
  },
  {
   "cell_type": "code",
   "execution_count": 14,
   "metadata": {},
   "outputs": [
    {
     "data": {
      "text/latex": [
       "$$\\begin{array}{cccc}\\text{Problem:} & \\text{shortfall} & & \\\\& & \\min \\quad \\displaystyle \\sum_{i = 0}^{N - 1} \\sum_{j = 0}^{N - 1} C_{i, j} \\cdot w_{i} \\cdot w_{j} & \\\\\\text{{s.t.}} & & & \\\\ & \\text{onehot} & \\displaystyle \\sum_{i = 0}^{N - 1} w_{i} = 1 &  \\\\ & \\text{return} & \\displaystyle \\sum_{i = 0}^{N - 1} mu_{i} \\cdot w_{i} \\geq p &  \\\\\\text{{where}} & & & \\\\& w & 1\\text{-dim binary variable}\\\\\\end{array}$$"
      ],
      "text/plain": [
       "<jijmodeling.Problem at 0x16db470>"
      ]
     },
     "execution_count": 14,
     "metadata": {},
     "output_type": "execute_result"
    }
   ],
   "source": [
    "problem"
   ]
  },
  {
   "attachments": {},
   "cell_type": "markdown",
   "metadata": {},
   "source": [
    "<!-- ### JijZeptによる求解 -->\n",
    "\n",
    "### Solving with JijZept\n",
    "\n",
    "<!-- JijZeptのシミュレーテッド・アニーリング機能を用いて、先ほど実装したMarkowitzのポートフォリオ最適化問題を解きます。 -->\n",
    "\n",
    "We solve [Markowitz portfolio optimization](https://doi.org/10.2307/2975974) using simulated annealing approach with JijZept."
   ]
  },
  {
   "cell_type": "code",
   "execution_count": 15,
   "metadata": {},
   "outputs": [],
   "source": [
    "import jijzept as jz\n",
    "\n",
    "# set sampler\n",
    "sampler = jz.JijSASampler(config='../config.toml')\n",
    "# set multipliers\n",
    "multipliers = {'return': 1.0, 'onehot': 1.0}"
   ]
  },
  {
   "attachments": {},
   "cell_type": "markdown",
   "metadata": {},
   "source": [
    "<!-- 2つの制約が存在するため、それぞれに対する未定乗数を辞書型で指定します。  \n",
    "続いて、[Xu et al, 2023](https://doi.org/10.3390/e25030541)で提案されたアルゴリズムを実行するための、サブルーチンを実装していきましょう。 -->\n",
    "\n",
    "In this problem, we have two constraints. \n",
    "Therefore, we specify each multiplier in dictionary type.  \n",
    "Next, we implement subroutines to execute the algorithm proposed by [Xu et al. (2023)](https://doi.org/10.3390/e25030541)."
   ]
  },
  {
   "cell_type": "code",
   "execution_count": 16,
   "metadata": {},
   "outputs": [],
   "source": [
    "import numpy as np\n",
    "from scipy.stats import norm\n",
    "\n",
    "# a function to compute reference vlatility and expected shortfall\n",
    "def compute_reference(ref_asset, ref_start_date, ref_end_date, alpha):\n",
    "    ref_data = web.DataReader(ref_asset, ref_start_date, ref_end_date)['Close']\n",
    "    ref_volatility = ref_data.std()\n",
    "    ref_mean = ref_data.mean()\n",
    "    ref_expected_shortfall = ref_mean + ref_volatility * norm.pdf(norm.ppf(alpha)) / (1-alpha)\n",
    "    return ref_volatility, ref_expected_shortfall\n",
    "\n",
    "# a function to extract a solution from results\n",
    "def extract_solution(results, N):\n",
    "    # get feasible solutions\n",
    "    feasibles = results.feasible()\n",
    "    if feasibles.evaluation.objective == []:\n",
    "        print('No feasibles solution')\n",
    "    else:\n",
    "        # get values of objective function\n",
    "        objs = feasibles.evaluation.objective\n",
    "        # get the index of minimum objective value\n",
    "        min_obj_index = np.argmin(objs)\n",
    "        # get solution\n",
    "        w = feasibles.record.solution['w'][min_obj_index]\n",
    "        # convert solution to binary vector\n",
    "        list_index = w[0][0]\n",
    "        list_binary = np.zeros(N, dtype=int)\n",
    "        list_binary[list_index] = 1\n",
    "        return list_binary\n",
    "\n",
    "# solve Markowitz optimization problem\n",
    "def solve_markowitz(instance_data):\n",
    "    # compute SA with JijZept\n",
    "    results = sampler.sample_model(problem, instance_data, multipliers, search=True, num_reads=100)\n",
    "    w_t = extract_solution(results, instance_data['N'])\n",
    "    return w_t\n",
    "\n",
    "# compute expected shortfall from result of Markowitz optimization\n",
    "def compute_shortfall(alpha, w, ret, vol):\n",
    "    es = np.dot(w, ret) + np.dot(w, vol) * norm.pdf(norm.ppf(alpha)) / (1-alpha)\n",
    "    return es"
   ]
  },
  {
   "attachments": {},
   "cell_type": "markdown",
   "metadata": {},
   "source": [
    "<!-- `compute_reference`は参照データのボラティリティ$\\sigma_\\mathrm{ref}$と期待ショートフォール$\\mathrm{ES}_\\mathrm{ref}$を計算する関数、`solve_markowitz`は(3)式の最適化を解く関数です。\n",
    "`extract_solution`は`solve_markowitz`の結果から目的関数が最小かつ実行可能解であるものを抽出し、それをバイナリのベクトルに変換する関数です。\n",
    "最後に、`compute_shortfall`は`solve_markowitz`から得られたポートフォリオを用いて、期待ショートフォールを計算します。\n",
    "これらのサブルーチンを用いて、Xu et al., 2023で提案されたアルゴリズムを実装すると以下のようになります。 -->\n",
    "\n",
    "`compute_reference` is a function that computes the volatility $\\sigma_\\mathrm{ref}$ and expected shortfall $\\mathrm{ES}_\\mathrm{ref}$ of the reference data, \n",
    "`solve_markowitz` is for solving the otimization problem eq.(3).\n",
    "`extract_solution` is a function that extracts the feasible and smallest objective solution from the result of `solve_markowitz`, and converts that solution to a binary vector. \n",
    "Lastly, `compute_shortfall` computes the expected shortfall using the portfolio obtained from `solve_markowitz`.\n",
    "Utilizing these subroutines, we implement the algorithm from [Xu et al. (2023)](https://www.mdpi.com/1099-4300/25/3/541)."
   ]
  },
  {
   "cell_type": "code",
   "execution_count": 30,
   "metadata": {},
   "outputs": [
    {
     "name": "stdout",
     "output_type": "stream",
     "text": [
      "[*********************100%***********************]  1 of 1 completed\n",
      "[*********************100%***********************]  1 of 1 completed\n",
      "[*********************100%***********************]  1 of 1 completed\n",
      "[*********************100%***********************]  1 of 1 completed\n",
      "[*********************100%***********************]  1 of 1 completed\n",
      "[*********************100%***********************]  1 of 1 completed\n",
      "[*********************100%***********************]  1 of 1 completed\n",
      "[*********************100%***********************]  1 of 1 completed\n",
      "[*********************100%***********************]  1 of 1 completed\n",
      "[*********************100%***********************]  1 of 1 completed\n",
      "[*********************100%***********************]  1 of 1 completed\n",
      "[*********************100%***********************]  1 of 1 completed\n",
      "[*********************100%***********************]  1 of 1 completed\n",
      "[*********************100%***********************]  1 of 1 completed\n",
      "[*********************100%***********************]  1 of 1 completed\n",
      "[*********************100%***********************]  1 of 1 completed"
     ]
    },
    {
     "name": "stderr",
     "output_type": "stream",
     "text": [
      "/tmp/ipykernel_2291/1762517325.py:16: DeprecationWarning: elementwise comparison failed; this will raise an error in the future.\n",
      "  if feasibles.evaluation.objective == []:\n"
     ]
    },
    {
     "name": "stdout",
     "output_type": "stream",
     "text": [
      "\n",
      "[*********************100%***********************]  1 of 1 completed\n",
      "[*********************100%***********************]  1 of 1 completed\n",
      "[*********************100%***********************]  1 of 1 completed\n",
      "[*********************100%***********************]  1 of 1 completed\n",
      "[*********************100%***********************]  1 of 1 completed\n",
      "[*********************100%***********************]  1 of 1 completed\n",
      "[*********************100%***********************]  1 of 1 completed\n",
      "[*********************100%***********************]  1 of 1 completed\n",
      "[*********************100%***********************]  1 of 1 completed\n",
      "[*********************100%***********************]  1 of 1 completed\n",
      "[*********************100%***********************]  1 of 1 completed\n",
      "[*********************100%***********************]  1 of 1 completed\n",
      "[*********************100%***********************]  1 of 1 completed"
     ]
    },
    {
     "name": "stderr",
     "output_type": "stream",
     "text": [
      "/tmp/ipykernel_2291/1762517325.py:16: DeprecationWarning: elementwise comparison failed; this will raise an error in the future.\n",
      "  if feasibles.evaluation.objective == []:\n"
     ]
    },
    {
     "name": "stdout",
     "output_type": "stream",
     "text": [
      "\n",
      "[*********************100%***********************]  1 of 1 completed\n",
      "[*********************100%***********************]  1 of 1 completed\n",
      "[*********************100%***********************]  1 of 1 completed\n",
      "[*********************100%***********************]  1 of 1 completed\n",
      "[*********************100%***********************]  1 of 1 completed\n",
      "[*********************100%***********************]  1 of 1 completed\n",
      "[*********************100%***********************]  1 of 1 completed\n",
      "[*********************100%***********************]  1 of 1 completed\n",
      "[*********************100%***********************]  1 of 1 completed\n",
      "[*********************100%***********************]  1 of 1 completed\n",
      "[*********************100%***********************]  1 of 1 completed\n",
      "[*********************100%***********************]  1 of 1 completed\n",
      "[*********************100%***********************]  1 of 1 completed"
     ]
    },
    {
     "name": "stderr",
     "output_type": "stream",
     "text": [
      "/tmp/ipykernel_2291/1762517325.py:16: DeprecationWarning: elementwise comparison failed; this will raise an error in the future.\n",
      "  if feasibles.evaluation.objective == []:\n"
     ]
    },
    {
     "name": "stdout",
     "output_type": "stream",
     "text": [
      "\n",
      "[*********************100%***********************]  1 of 1 completed\n",
      "[*********************100%***********************]  1 of 1 completed\n",
      "[*********************100%***********************]  1 of 1 completed\n",
      "[*********************100%***********************]  1 of 1 completed\n",
      "[*********************100%***********************]  1 of 1 completed\n",
      "[*********************100%***********************]  1 of 1 completed\n",
      "[*********************100%***********************]  1 of 1 completed\n",
      "[*********************100%***********************]  1 of 1 completed\n",
      "[*********************100%***********************]  1 of 1 completed\n",
      "[*********************100%***********************]  1 of 1 completed\n",
      "[*********************100%***********************]  1 of 1 completed\n",
      "[*********************100%***********************]  1 of 1 completed\n",
      "[*********************100%***********************]  1 of 1 completed"
     ]
    },
    {
     "name": "stderr",
     "output_type": "stream",
     "text": [
      "/tmp/ipykernel_2291/1762517325.py:16: DeprecationWarning: elementwise comparison failed; this will raise an error in the future.\n",
      "  if feasibles.evaluation.objective == []:\n"
     ]
    },
    {
     "name": "stdout",
     "output_type": "stream",
     "text": [
      "\n",
      "[*********************100%***********************]  1 of 1 completed\n",
      "[*********************100%***********************]  1 of 1 completed\n",
      "[*********************100%***********************]  1 of 1 completed\n",
      "[*********************100%***********************]  1 of 1 completed\n",
      "[*********************100%***********************]  1 of 1 completed\n",
      "[*********************100%***********************]  1 of 1 completed\n",
      "[*********************100%***********************]  1 of 1 completed\n",
      "[*********************100%***********************]  1 of 1 completed\n",
      "[*********************100%***********************]  1 of 1 completed\n",
      "[*********************100%***********************]  1 of 1 completed\n",
      "[*********************100%***********************]  1 of 1 completed\n",
      "[*********************100%***********************]  1 of 1 completed\n",
      "[*********************100%***********************]  1 of 1 completed"
     ]
    },
    {
     "name": "stderr",
     "output_type": "stream",
     "text": [
      "/tmp/ipykernel_2291/1762517325.py:16: DeprecationWarning: elementwise comparison failed; this will raise an error in the future.\n",
      "  if feasibles.evaluation.objective == []:\n"
     ]
    },
    {
     "name": "stdout",
     "output_type": "stream",
     "text": [
      "\n",
      "[*********************100%***********************]  1 of 1 completed\n",
      "[*********************100%***********************]  1 of 1 completed\n",
      "[*********************100%***********************]  1 of 1 completed\n",
      "[*********************100%***********************]  1 of 1 completed\n",
      "[*********************100%***********************]  1 of 1 completed\n",
      "[*********************100%***********************]  1 of 1 completed\n",
      "[*********************100%***********************]  1 of 1 completed\n",
      "[*********************100%***********************]  1 of 1 completed\n",
      "[*********************100%***********************]  1 of 1 completed\n",
      "[*********************100%***********************]  1 of 1 completed\n",
      "[*********************100%***********************]  1 of 1 completed\n"
     ]
    },
    {
     "name": "stderr",
     "output_type": "stream",
     "text": [
      "/tmp/ipykernel_2291/1762517325.py:16: DeprecationWarning: elementwise comparison failed; this will raise an error in the future.\n",
      "  if feasibles.evaluation.objective == []:\n"
     ]
    }
   ],
   "source": [
    "import datetime\n",
    "import yfinance as yf\n",
    "import pandas as pd\n",
    "import pandas_datareader.data as web\n",
    "yf.pdr_override()\n",
    "\n",
    "# set input parameters, alpha, delta and eps\n",
    "alpha = 0.99\n",
    "delta = 0.1\n",
    "eps = 0.25\n",
    "# set start and end date for reference data\n",
    "ref_start_date = datetime.date(year=2008, month=1, day=1)\n",
    "ref_end_date = datetime.date(year=2009, month=1, day=1)\n",
    "# compute volatility and expected shortfall from reference data\n",
    "ref_volatility, ref_expected_shortfall = compute_reference('SPY', ref_start_date, ref_end_date, alpha)\n",
    "# set the name of assets\n",
    "list_assets = ['SPY', 'EEM', 'QQQ', 'SLV', 'SQQQ', 'XLF', \n",
    "                'AUDUSD=X', 'EURUSD=X', 'GBPUSD=X', 'CNYUSD=X', 'INRUSD=X', 'JPYUSD=X']\n",
    "ref_asset_t = list_assets[0]\n",
    "# set start date for data and date interval\n",
    "start_date_t = datetime.date(year=2022, month=1, day=1)\n",
    "dt = 14\n",
    "# set the number of iteration\n",
    "iteration = 6\n",
    "# initialize lists for final results\n",
    "list_results = []\n",
    "list_shortfall = []\n",
    "list_return = []\n",
    "list_target = []\n",
    "# main loop\n",
    "for _ in range(iteration):\n",
    "    # set end date\n",
    "    end_date_t = start_date_t + datetime.timedelta(days=dt)\n",
    "    # get reference stock data\n",
    "    ref_data_for_volatility_t = web.DataReader(ref_asset_t, start_date_t, end_date_t)['Close']\n",
    "    # compute volatility\n",
    "    ref_volatility_t = ref_data_for_volatility_t.std()\n",
    "    # compute target expected shortfall\n",
    "    target_expected_shortfall_t = ref_volatility / ref_volatility_t * ref_expected_shortfall\n",
    "    # initialize dataframe\n",
    "    data_assets = pd.DataFrame()\n",
    "    for asset in list_assets:\n",
    "        # get stock data and concat \n",
    "        data = web.DataReader(asset, start_date_t, end_date_t).rename(columns={'Close': asset})\n",
    "        data_assets = pd.concat([data_assets, data[asset]], axis=1)\n",
    "    # if nan exists, drop\n",
    "    data_assets_dropna = data_assets.dropna(how='any')\n",
    "    # compute mean\n",
    "    mean_t = data_assets_dropna.mean(axis=0).values\n",
    "    # compute covariant matrix\n",
    "    cov_t = data_assets_dropna.cov().values\n",
    "    # compute volatility\n",
    "    volatility_t = data_assets.std().values\n",
    "    # get the number of assets\n",
    "    N = len(list_assets)\n",
    "    # normalize mean, covariant matrix, and pt\n",
    "    mean_t_normalize = mean_t / mean_t.max()\n",
    "    cov_t_normalize = cov_t / cov_t.max()\n",
    "    p_t_normalize = mean_t_normalize.mean()\n",
    "    instance_data = {'N': N, 'p': p_t_normalize, 'mu': mean_t_normalize, 'C': cov_t_normalize}\n",
    "    while True:\n",
    "        w_t = solve_markowitz(instance_data)\n",
    "        if p_t_normalize > max(mean_t_normalize):\n",
    "            print('Caution!!! Return constraint cannot be satisfied!!!')\n",
    "            break\n",
    "        expected_shortfall_from_markowitz = compute_shortfall(alpha, w_t, mean_t, volatility_t)\n",
    "        if abs(expected_shortfall_from_markowitz) / abs(target_expected_shortfall_t) > 1 + eps:\n",
    "            instance_data['p'] *= 1 - delta\n",
    "        # elif abs(expected_shortfall_from_markowitz) / abs(target_expected_shortfall_t) < 1 - eps:\n",
    "        #     instance_data['p'] *= 1 + delta\n",
    "        else:\n",
    "            break\n",
    "    start_date_t = end_date_t\n",
    "    list_results.append(w_t)\n",
    "    list_shortfall.append(expected_shortfall_from_markowitz)\n",
    "    list_target.append(target_expected_shortfall_t)\n",
    "    list_return.append(mean_t)"
   ]
  },
  {
   "attachments": {},
   "cell_type": "markdown",
   "metadata": {},
   "source": [
    "<!-- ### 結果の可視化 -->\n",
    "\n",
    "### Visualizing result\n",
    "\n",
    "<!-- 先程得た結果を可視化してみましょう。 -->\n",
    "\n",
    "We plot the obtained result."
   ]
  },
  {
   "cell_type": "code",
   "execution_count": 41,
   "metadata": {},
   "outputs": [
    {
     "data": {
      "text/plain": [
       "<matplotlib.legend.Legend at 0x7f73f0d81eb0>"
      ]
     },
     "execution_count": 41,
     "metadata": {},
     "output_type": "execute_result"
    },
    {
     "data": {
      "image/png": "[encoded data removed]",
      "text/plain": [
       "<Figure size 640x480 with 2 Axes>"
      ]
     },
     "metadata": {},
     "output_type": "display_data"
    }
   ],
   "source": [
    "import matplotlib.pyplot as plt\n",
    "\n",
    "list_final_ret = [np.dot(x, y) for x, y in zip(list_results, list_return)]\n",
    "fig = plt.figure()\n",
    "ax1 = fig.add_subplot(111)\n",
    "ax1.set_xlabel('Period')\n",
    "ax1.set_ylabel('Return')\n",
    "ln1 = ax1.plot(list_final_ret, color='green', label='Return')\n",
    "ax2 = ax1.twinx()\n",
    "ax2.set_ylabel('Shortfall')\n",
    "ln2 = ax2.plot(list_shortfall, color='indigo', label='Expected shortfall')\n",
    "ln3 = ax2.plot(list_target, color='dodgerblue', label='Target shortfall')\n",
    "h1, l1 = ax1.get_legend_handles_labels()\n",
    "h2, l2 = ax2.get_legend_handles_labels()\n",
    "ax1.legend(h1+h2, l1+l2, loc='lower left')"
   ]
  },
  {
   "attachments": {},
   "cell_type": "markdown",
   "metadata": {},
   "source": [
    "<!-- 一番最後のperiodでは、目標とするショーフォール(target shortfall)が減少しています。\n",
    "それに合わせて期待ショートフォールが下がるようにポートフォリオを選んだ結果、得られるリターンが小さくなっています。 -->\n",
    "\n",
    "In the last period 5, the target shortfall is decreasing.\n",
    "The portfolio is chosen so that the expected shortfall decrease accordingly, resulting in a smaller return."
   ]
  },
  {
   "attachments": {},
   "cell_type": "markdown",
   "metadata": {},
   "source": [
    "<!-- ## 参考文献 -->\n",
    "\n",
    "## References\n",
    "\n",
    "* [Xu et al., 2023, \"Dynamical Asset Allocation with Expected Shortfall via Quantum Annealing\"](https://www.mdpi.com/1099-4300/25/3/541)  \n",
    "* [Markowitz, 1952, \"Portfolio Selection\"](https://doi.org/10.2307/2975974)  "
   ]
  },
  {
   "cell_type": "markdown",
   "metadata": {},
   "source": []
  }
 ],
 "metadata": {
  "kernelspec": {
   "display_name": ".venv",
   "language": "python",
   "name": "python3"
  },
  "language_info": {
   "codemirror_mode": {
    "name": "ipython",
    "version": 3
   },
   "file_extension": ".py",
   "mimetype": "text/x-python",
   "name": "python",
   "nbconvert_exporter": "python",
   "pygments_lexer": "ipython3",
   "version": "3.9.5"
  },
  "vscode": {
   "interpreter": {
    "hash": "d8bb8d8f316256c93cd9d893faf7cf943ba8f6c0b9f3d1c8a75ecb1cf0541374"
   }
  }
 },
 "nbformat": 4,
 "nbformat_minor": 4
}
