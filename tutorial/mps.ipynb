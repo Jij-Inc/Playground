{
 "cells": [
  {
   "cell_type": "markdown",
   "metadata": {},
   "source": [
    "--- \n",
    "description: JijModeling can read mathematical models and their instances defined in MPS files.\n",
    "pagination_next: null\n",
    "---"
   ]
  },
  {
   "cell_type": "markdown",
   "metadata": {},
   "source": [
    "# Data Loader for MPS format files\n",
    "\n",
    "<!-- [Mathematical Programming System (MPS)](https://www.ibm.com/docs/en/icos/22.1.1?topic=cplex-mps-file-format-industry-standard)は線形計画問題や混合整数計画問題で用いられるファイル形式の一つです。\n",
    "JijModelingは[MPS](https://www.ibm.com/docs/en/icos/22.1.1?topic=cplex-mps-file-format-industry-standard)ファイルに定義されている数理モデルとそのインスタンスを読み込む機能を持ちます。\n",
    "以下ではその簡単な利用方法をご紹介します。 -->\n",
    "\n",
    "[Mathematical Programming System (MPS)](https://www.ibm.com/docs/en/icos/22.1.1?topic=cplex-mps-file-format-industry-standard) is one of the file formats used in linear programming (LP) and mixed-integer programming (MIP) problems.\n",
    "JijModeling can read mathematical models and their instances defined in [MPS files](https://www.ibm.com/docs/en/icos/22.1.1?topic=cplex-mps-file-format-industry-standard).\n",
    "We describe a brief use of a function for [MPS files](https://www.ibm.com/docs/en/icos/22.1.1?topic=cplex-mps-file-format-industry-standard)."
   ]
  },
  {
   "cell_type": "markdown",
   "metadata": {},
   "source": [
    "<!-- ## MIPLIBデータセットの取得 -->\n",
    "\n",
    "## Getting MIPLIB Dataset\n",
    "\n",
    "<!-- ここでは以下のようにして、[MIPLIB benchmark set](https://miplib.zib.de/tag_benchmark.html)を取得してみましょう。 -->\n",
    "\n",
    "We can get MIPLIB benchmark set as follows: "
   ]
  },
  {
   "cell_type": "code",
   "execution_count": 1,
   "metadata": {},
   "outputs": [],
   "source": [
    "import jijmodeling.dataset\n",
    "\n",
    "miplib = jijmodeling.dataset.Miplib()"
   ]
  },
  {
   "cell_type": "markdown",
   "metadata": {},
   "source": [
    "<!-- `instance_statistics`を用いることで、[MIPLIB benchmark set](https://miplib.zib.de/tag_benchmark.html)の統計データを取得することができます。\n",
    "制約数やバイナリ変数の数、整数変数の数などの情報の閲覧が可能です。\n",
    "ここでは、連続変数の数が0個、そして制約の数が500個未満のデータのみを表示しています。 -->\n",
    "\n",
    "We can also use `instance_statistics` to obtain statistics on [MIPLIB benchmark set](https://miplib.zib.de/tag_benchmark.html).\n",
    "We check information such as the number of constraints, the number of binary variables, and the number of integer variables.\n",
    "Here, only data with zero number of continuous variables and less than 500 constraints are displayed."
   ]
  },
  {
   "cell_type": "code",
   "execution_count": 4,
   "metadata": {},
   "outputs": [
    {
     "data": {
      "text/html": [
       "<div>\n",
       "<style scoped>\n",
       "    .dataframe tbody tr th:only-of-type {\n",
       "        vertical-align: middle;\n",
       "    }\n",
       "\n",
       "    .dataframe tbody tr th {\n",
       "        vertical-align: top;\n",
       "    }\n",
       "\n",
       "    .dataframe thead th {\n",
       "        text-align: right;\n",
       "    }\n",
       "</style>\n",
       "<table border=\"1\" class=\"dataframe\">\n",
       "  <thead>\n",
       "    <tr style=\"text-align: right;\">\n",
       "      <th></th>\n",
       "      <th>variable</th>\n",
       "      <th>constraint</th>\n",
       "      <th>binary</th>\n",
       "      <th>integer</th>\n",
       "      <th>continuous</th>\n",
       "      <th>non_zero</th>\n",
       "    </tr>\n",
       "  </thead>\n",
       "  <tbody>\n",
       "    <tr>\n",
       "      <th>air05</th>\n",
       "      <td>7195</td>\n",
       "      <td>426</td>\n",
       "      <td>7195</td>\n",
       "      <td>0</td>\n",
       "      <td>0</td>\n",
       "      <td>52121</td>\n",
       "    </tr>\n",
       "    <tr>\n",
       "      <th>supportcase18</th>\n",
       "      <td>13410</td>\n",
       "      <td>240</td>\n",
       "      <td>13410</td>\n",
       "      <td>0</td>\n",
       "      <td>0</td>\n",
       "      <td>28920</td>\n",
       "    </tr>\n",
       "    <tr>\n",
       "      <th>nw04</th>\n",
       "      <td>87482</td>\n",
       "      <td>36</td>\n",
       "      <td>87482</td>\n",
       "      <td>0</td>\n",
       "      <td>0</td>\n",
       "      <td>636666</td>\n",
       "    </tr>\n",
       "    <tr>\n",
       "      <th>irp</th>\n",
       "      <td>20315</td>\n",
       "      <td>39</td>\n",
       "      <td>20315</td>\n",
       "      <td>0</td>\n",
       "      <td>0</td>\n",
       "      <td>98254</td>\n",
       "    </tr>\n",
       "  </tbody>\n",
       "</table>\n",
       "</div>"
      ],
      "text/plain": [
       "               variable  constraint  binary  integer  continuous  non_zero\n",
       "air05              7195         426    7195        0           0     52121\n",
       "supportcase18     13410         240   13410        0           0     28920\n",
       "nw04              87482          36   87482        0           0    636666\n",
       "irp               20315          39   20315        0           0     98254"
      ]
     },
     "execution_count": 4,
     "metadata": {},
     "output_type": "execute_result"
    }
   ],
   "source": [
    "import pandas as pd\n",
    "\n",
    "df = pd.DataFrame(miplib.instance_statistics).T\n",
    "df[(df[\"integer\"]==0)&(df[\"continuous\"]==0)&(df[\"constraint\"]<500)]"
   ]
  },
  {
   "cell_type": "markdown",
   "metadata": {},
   "source": [
    "<!-- ## MPS形式データの読み込み -->\n",
    "\n",
    "## Loading MPS format files\n",
    "\n",
    "<!-- 先ほど取得したデータセットの中から\"air05\"を読み込んでみましょう。\n",
    "それには`load`を用います。 -->\n",
    "\n",
    "We load \"air05\" from MIPLIB dataset."
   ]
  },
  {
   "cell_type": "code",
   "execution_count": 3,
   "metadata": {},
   "outputs": [],
   "source": [
    "problem, instance_data = miplib.load(\"air05\")"
   ]
  },
  {
   "cell_type": "markdown",
   "metadata": {},
   "source": [
    "<!-- この`load`は、[JijModelingの`Problem`](https://jij-inc.github.io/JijModeling-Tutorials/apis/jijmodeling/#class-problem)と、それに対応したインスタンスデータを戻り値として返します。そのため、Jupyter Notebook上であれば、実際にどのような数理モデルが読み込まれたかを確認することができます。 -->\n",
    "\n",
    "`load` returns [JijModeling `Problem`](https://jij-inc.github.io/JijModeling-Tutorials/apis/jijmodeling/#class-problem) and the corresponding instance data.  \n",
    "With Jupyter Notebook, we can check the mathematical model loaded."
   ]
  },
  {
   "cell_type": "code",
   "execution_count": 4,
   "metadata": {},
   "outputs": [
    {
     "data": {
      "text/latex": [
       "$$\\begin{array}{cccc}\\text{Problem:} & \\text{air05} & & \\\\& & \\min \\quad \\displaystyle \\sum_{i = 0}^{N^B - 1} c^B_{i} \\cdot x^B_{i} & \\\\\\text{{s.t.}} & & & \\\\ & \\text{Equality constraint} & \\displaystyle \\sum_{i = 0}^{\\mathrm{len}\\left(e^B_{eq_{j}}, 0\\right) - 1} e^B_{eq_{j}, i} \\cdot x^B_{col^B_{eq_{j}, i}} = b_{eq_{j}} & \\forall j \\in \\left\\{0,\\ldots,\\mathrm{len}\\left(eq, 0\\right) - 1\\right\\} \\\\ & \\text{Inequality constraint (<=)} & \\displaystyle \\sum_{i = 0}^{\\mathrm{len}\\left(e^B_{lte_{j}}, 0\\right) - 1} e^B_{lte_{j}, i} \\cdot x^B_{col^B_{lte_{j}, i}} \\leq b_{lte_{j}} & \\forall j \\in \\left\\{0,\\ldots,\\mathrm{len}\\left(lte, 0\\right) - 1\\right\\} \\\\ & \\text{Inequality constraint (>=)} & \\displaystyle \\sum_{i = 0}^{\\mathrm{len}\\left(e^B_{gte_{j}}, 0\\right) - 1} e^B_{gte_{j}, i} \\cdot x^B_{col^B_{gte_{j}, i}} \\geq b_{gte_{j}} & \\forall j \\in \\left\\{0,\\ldots,\\mathrm{len}\\left(gte, 0\\right) - 1\\right\\} \\\\\\text{{where}} & & & \\\\& x^B & 1\\text{-dim binary variable}& \\text{Binary variables}\\\\\\end{array}$$"
      ],
      "text/plain": [
       "<jijmodeling.Problem at 0x2ca0770>"
      ]
     },
     "execution_count": 4,
     "metadata": {},
     "output_type": "execute_result"
    }
   ],
   "source": [
    "problem"
   ]
  },
  {
   "cell_type": "markdown",
   "metadata": {},
   "source": [
    "<!-- この問題を、JijZeptで解いてみましょう。 -->\n",
    "\n",
    "We solve this problem using JijZept."
   ]
  },
  {
   "cell_type": "code",
   "execution_count": 6,
   "metadata": {},
   "outputs": [],
   "source": [
    "import jijzept as jz\n",
    "\n",
    "# set sampler\n",
    "sampler = jz.JijSASampler(config='config.toml')\n",
    "# solve problem\n",
    "response = sampler.sample_model(problem, instance_data, max_wait_time=600)"
   ]
  },
  {
   "cell_type": "markdown",
   "metadata": {},
   "source": [
    "<!-- 出力された結果の中から、実行可能解を選び出しましょう。 -->\n",
    "\n",
    "We select feasible solutions from the output results."
   ]
  },
  {
   "cell_type": "code",
   "execution_count": 7,
   "metadata": {},
   "outputs": [
    {
     "name": "stdout",
     "output_type": "stream",
     "text": [
      "objective: 42087.0\n",
      "Equality constraint: 17.0\n",
      "Inequality constraint (<=): 0.0\n",
      "Inequality constraint (>=): 0.0\n"
     ]
    }
   ],
   "source": [
    "# get sample\n",
    "sampleset = response.get_sampleset()\n",
    "sample = sampleset[0]\n",
    "# check the value of objective function\n",
    "print(f\"objective: {sample.eval.objective}\")\n",
    "# check the violations\n",
    "constraints = sample.eval.constraints\n",
    "print(f\"Equality constraint: {constraints['Equality constraint'].total_violation}\")\n",
    "print(f\"Inequality constraint (<=): {constraints['Inequality constraint (<=)'].total_violation}\")\n",
    "print(f\"Inequality constraint (>=): {constraints['Inequality constraint (>=)'].total_violation}\")"
   ]
  },
  {
   "cell_type": "markdown",
   "metadata": {},
   "source": [
    "<!-- JijModelingの機能を用いることで、[MIPLIBデータセット](https://miplib.zib.de/index.html)や外部出力された[MPSファイル](https://www.ibm.com/docs/en/icos/22.1.1?topic=cplex-mps-file-format-industry-standard)の読み込みをすることができます。 -->\n",
    "\n",
    "Using JijModeling function, it is possible to read in [MIPLIB data set](https://miplib.zib.de/index.html) and [MPS files](https://www.ibm.com/docs/en/icos/22.1.1?topic=cplex-mps-file-format-industry-standard)."
   ]
  },
  {
   "cell_type": "markdown",
   "metadata": {},
   "source": [
    "<!-- ## 参考文献 -->\n",
    "\n",
    "## References\n",
    "\n",
    "[1] [MPS file format](https://www.ibm.com/docs/en/icos/22.1.1?topic=cplex-mps-file-format-industry-standard)  \n",
    "[2] [MIPLIB 2017](https://miplib.zib.de/index.html)  "
   ]
  },
  {
   "cell_type": "markdown",
   "metadata": {},
   "source": []
  }
 ],
 "metadata": {
  "kernelspec": {
   "display_name": ".venv",
   "language": "python",
   "name": "python3"
  },
  "language_info": {
   "codemirror_mode": {
    "name": "ipython",
    "version": 3
   },
   "file_extension": ".py",
   "mimetype": "text/x-python",
   "name": "python",
   "nbconvert_exporter": "python",
   "pygments_lexer": "ipython3",
   "version": "3.11.3"
  },
  "vscode": {
   "interpreter": {
    "hash": "d8bb8d8f316256c93cd9d893faf7cf943ba8f6c0b9f3d1c8a75ecb1cf0541374"
   }
  }
 },
 "nbformat": 4,
 "nbformat_minor": 4
}
