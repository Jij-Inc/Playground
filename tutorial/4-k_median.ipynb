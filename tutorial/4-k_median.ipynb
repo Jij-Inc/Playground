{
 "cells": [
  {
   "cell_type": "markdown",
   "metadata": {},
   "source": [
    "--- \n",
    "description: The k-median problem is the problem of clustering data points into k clusters, aiming to minimize the sum of distances...\n",
    "---"
   ]
  },
  {
   "attachments": {},
   "cell_type": "markdown",
   "metadata": {},
   "source": [
    "# The K-Median Problem\n",
    "\n",
    "The k-median problem is the problem of clustering data points into k clusters, aiming to minimize the sum of distances between points belonging to a particular cluster and the data point that is the center of the cluster.\n",
    "This can be considered a variant of k-means clustering.\n",
    "For k-means clustering, we determine the mean value of each cluster whereas for k-median we use the median value.\n",
    "This problem is known as NP-hard.\n",
    "We describe how to implement the mathematical model of k-median problem with JijModeling and solve it with JijZept.\n",
    "\n",
    "<!-- k-median問題は、例えばあるデータ点を$k$個のクラスタに分割するとき、そのクラスタに属する点とクラスタ中心となるデータ点との距離の合計を最小にすることを目指す問題のことです。\n",
    "これはk-meansクラスタリングの派生系とも呼べるものです。k-meansクラスタリングでは、各クラスタの平均値を計算することでクラスタの重心を決定していましたが、k-medianでは中央値を計算します。\n",
    "この問題はNP困難として知られています。今回はk-median問題の数理モデルをJijModelingで実装し、JijZeptで解いてみましょう。 -->"
   ]
  },
  {
   "attachments": {},
   "cell_type": "markdown",
   "metadata": {},
   "source": [
    "## Mathematical Model\n",
    "\n",
    "Let us consider a mathematical model for k-median problem.\n",
    "\n",
    "<!-- では数理モデルを考えていきましょう。 -->\n",
    "\n",
    "### Decisioin variables\n",
    "\n",
    "We denote $x_{i, j}$ to be a binary variable which is 1 if $i$-th data point belongs to the $j$-th median data point and 0 otherwise.\n",
    "We also use a binary variable $y_j$ which is 1 if $j$-th data point is the median and 0 otherwise.\n",
    "\n",
    "<!-- $i$番目のデータ点が$j$番目の中央値となるデータ点に属するとき$x_{i, j}=1$、そうでないとき$x_{i, j}=0$となるバイナリ変数を定めます。\n",
    "また$j$番目のデータ点が中央値となるとき$y_j=1$、そうでないとき$y_j = 0$となるバイナリ変数を用います。数式で表すと -->\n",
    "\n",
    "$$\n",
    "x_{i,j} = \\begin{cases}\n",
    "1,~\\text{Node $i$ is covered by median $j$}\\\\\n",
    "0,~\\text{Otherwise}\n",
    "\\end{cases}\n",
    "$$\n",
    "\n",
    "$$\n",
    "y_j = \\begin{cases}\n",
    "1,~\\text{Node $j$ is a median.}\\\\\n",
    "0,~\\text{Otherwise}\n",
    "\\end{cases}\n",
    "$$\n",
    "\n",
    "<!-- のようになります。 -->\n",
    "\n",
    "### Mathematical Model\n",
    "\n",
    "Our goal is to find a solution that minimizes the sum of the distance between $i$-th data point and $j$-th median point.\n",
    "We also set three constraints: \n",
    "1. A data point must belong to some single median data point, \n",
    "2. the number of median points is $k$, \n",
    "3. the data points must belong to a median point.\n",
    "\n",
    "These can be expressed in a mathematical model as follows.\n",
    "\n",
    "<!-- $i$番目のデータ点と$j$番目の中央値となる点の距離$d_{i, j}$の合計を最小化することを目的関数にします。\n",
    "また 1. データ点はどこか1つの中央値となるデータ点に属さなければならない、2. 中央値となるデータ点を$k$個決定しなければならない、3. データ点は中央値となる点に属さなければならない という3つの制約を満たす必要があります。\n",
    "これらを数式で表現すると、以下のようになります。 -->\n",
    "\n",
    "$$\n",
    "\\begin{aligned}\n",
    "\\min_x &\\sum_{i}\\sum_j d_{i,j}x_{i,j} \\\\\n",
    "\\mathrm{s.t.}~&\\sum_{j} x_{i,j} = 1,~\\forall i\\\\\n",
    "&\\sum_j y_j = k\\\\\n",
    "&x_{i,j} \\leq y_j, ~\\forall i, j\\\\\n",
    "&x_{i,j} \\in \\{0, 1\\} ~\\forall i, j\\\\\n",
    "&y_j \\in \\{0, 1\\}~\\forall j\n",
    "\\end{aligned} \\tag{1}\n",
    "$$"
   ]
  },
  {
   "attachments": {},
   "cell_type": "markdown",
   "metadata": {},
   "source": [
    "## Modeling by JijModeling\n",
    "\n",
    "Here, we show an implementation using JijModeling. We first define variables for the mathematical model described above.\n",
    "\n",
    "<!-- それでは先程の数理モデル実装に必要となる変数を定義しましょう。 -->"
   ]
  },
  {
   "cell_type": "code",
   "execution_count": 1,
   "metadata": {},
   "outputs": [],
   "source": [
    "import jijmodeling as jm\n",
    "\n",
    "d = jm.Placeholder(\"d\", ndim=2)\n",
    "N = d.len_at(0, latex=\"N\")\n",
    "J = jm.Placeholder(\"J\", ndim=1)\n",
    "k = jm.Placeholder(\"k\")\n",
    "i = jm.Element(\"i\", belong_to=(0, N))\n",
    "j = jm.Element(\"j\", belong_to=J)\n",
    "x = jm.BinaryVar(\"x\", shape=(N, J.shape[0]))\n",
    "y = jm.BinaryVar(\"y\", shape=(J.shape[0],))"
   ]
  },
  {
   "attachments": {},
   "cell_type": "markdown",
   "metadata": {},
   "source": [
    "`d` is a two-dimensional array representing the distance between each data point and the median point.\n",
    "The number of data points `N` is extracted from the number of elements in `d`.\n",
    "`J` is a one-dimensional array representing the candidate indices of the median point.\n",
    "`k` is the number of median points. \n",
    "`i` and `j` denote the indices used in the binary variables, respectively.\n",
    "Finally, we define the binary variables `x` and `y`.\n",
    "\n",
    "<!-- `d`は各データ点と中央値点との距離を表す2次元配列です。\n",
    "`d`の要素数からデータ点の数`N`の情報を抽出しています。\n",
    "`J`は中央値となる点のインデックスの候補を表した1次元配列です。\n",
    "`k`が最終的に決定される中央値点の数を表します。\n",
    "`i`, `j`はそれぞれ、バイナリ変数で用いる添字を表します。\n",
    "最後に、この最適化問題を解くために必要なバイナリ変数`x`, `y`を定義しています。 -->\n",
    "\n",
    "Then, we implement (1).\n",
    "\n",
    "<!-- 続いて、式(1)を実装します。 -->"
   ]
  },
  {
   "cell_type": "code",
   "execution_count": 2,
   "metadata": {},
   "outputs": [],
   "source": [
    "problem = jm.Problem(\"k-median\")\n",
    "problem += jm.sum([i, j], d[i, j]*x[i, j])\n",
    "problem += jm.Constraint(\"onehot\", x[i, :].sum() == 1, forall=i)\n",
    "problem += jm.Constraint(\"k-median\", y[:].sum() == k)\n",
    "problem += jm.Constraint(\"cover\", x[i, j] <= y[j], forall=[i, j])"
   ]
  },
  {
   "attachments": {},
   "cell_type": "markdown",
   "metadata": {},
   "source": [
    "With `jm.Constraint(\"onehot\", x[i, :].sum() == 1, forall=i)`, we insert as a constraint that $\\sum_j x_{i, j} = 1$ for all $i$.\n",
    "`jm.Constraint(\"k-median\", y[:].sum() == k)` represents $\\sum_j y_j = k$.\n",
    "`jm.Constraint(\"cover\", x[i, j] <= y[j], forall=[i, j])` requires that $x_{i, j} \\leq y_j$ must be for all $i, j$.\n",
    "\n",
    "<!-- `jm.Constraint(\"onehot\", x[i, :] == 1, forall=i)`で、全ての$i$に対して$\\sum_j x_{i, j} = 1$が成り立つことを制約として挿入しています。\n",
    "`jm.Constraint(\"k-median\", y[:] == k)`は$\\sum_j y_j = k$を表します。\n",
    "`jm.Constraint(\"cover\", x[i, j] <= y[j], forall=[i, j])`は、全ての$i, j$に対して$x_{i, j} \\leq y_j$でなければならないことを要請しています。 -->\n",
    "\n",
    "We can check the implementation of the mathematical model on Jupyter Notebook."
   ]
  },
  {
   "cell_type": "code",
   "execution_count": 3,
   "metadata": {},
   "outputs": [
    {
     "data": {
      "text/latex": [
       "$$\\begin{array}{cccc}\\text{Problem:} & \\text{k-median} & & \\\\& & \\min \\quad \\displaystyle \\sum_{i = 0}^{N - 1} \\sum_{j \\in J} d_{i, j} \\cdot x_{i, j} & \\\\\\text{{s.t.}} & & & \\\\ & \\text{cover} & \\displaystyle x_{i, j} \\leq y_{j} & \\forall i \\in \\left\\{0,\\ldots,N - 1\\right\\} \\forall j \\in J \\\\ & \\text{k-median} & \\displaystyle \\sum_{\\ast_{0} = 0}^{\\mathrm{len}\\left(J, 0\\right) - 1} y_{\\ast_{0}} = k &  \\\\ & \\text{onehot} & \\displaystyle \\sum_{\\ast_{1} = 0}^{\\mathrm{len}\\left(J, 0\\right) - 1} x_{i, \\ast_{1}} = 1 & \\forall i \\in \\left\\{0,\\ldots,N - 1\\right\\} \\\\\\text{{where}} & & & \\\\& y & 1\\text{-dim binary variable}\\\\& x & 2\\text{-dim binary variable}\\\\\\end{array}$$"
      ],
      "text/plain": [
       "<jijmodeling.Problem at 0x2a1b570>"
      ]
     },
     "execution_count": 3,
     "metadata": {},
     "output_type": "execute_result"
    }
   ],
   "source": [
    "problem"
   ]
  },
  {
   "attachments": {},
   "cell_type": "markdown",
   "metadata": {},
   "source": [
    "## Prepare instance\n",
    "\n",
    "We prepare and visualize data points.\n",
    "\n",
    "<!-- 必要となるデータ点を準備しましょう。 -->"
   ]
  },
  {
   "cell_type": "code",
   "execution_count": 4,
   "metadata": {},
   "outputs": [
    {
     "data": {
      "text/plain": [
       "[<matplotlib.lines.Line2D at 0x7f1a6b7463d0>]"
      ]
     },
     "execution_count": 4,
     "metadata": {},
     "output_type": "execute_result"
    },
    {
     "data": {
      "image/png": "[encoded data removed]",
      "text/plain": [
       "<Figure size 640x480 with 1 Axes>"
      ]
     },
     "metadata": {},
     "output_type": "display_data"
    }
   ],
   "source": [
    "import matplotlib.pyplot as plt\n",
    "import numpy as np\n",
    "\n",
    "num_nodes = 30\n",
    "X, Y = np.random.uniform(0, 1, (2, num_nodes))\n",
    "\n",
    "plt.plot(X, Y, \"o\")"
   ]
  },
  {
   "attachments": {},
   "cell_type": "markdown",
   "metadata": {},
   "source": [
    "We need to calculate the distance between each data point.\n",
    "\n",
    "<!-- 各データ点どうしの距離を計算しましょう。 -->"
   ]
  },
  {
   "cell_type": "code",
   "execution_count": 5,
   "metadata": {},
   "outputs": [],
   "source": [
    "XX, XX_T = np.meshgrid(X, X)\n",
    "YY, YY_T = np.meshgrid(Y, Y)\n",
    "distance = np.sqrt((XX - XX_T)**2 + (YY - YY_T)**2)\n",
    "\n",
    "ph_value = {\n",
    "    \"d\": distance,\n",
    "    \"J\": np.arange(0, num_nodes),\n",
    "    \"k\": 4\n",
    "}"
   ]
  },
  {
   "attachments": {},
   "cell_type": "markdown",
   "metadata": {},
   "source": [
    "## Solve with JijZept\n",
    "\n",
    "We solve the problems implemented so far using JijZept `JijSASampler`.\n",
    "We also use the parameter search function by setting `search=True` here.\n",
    "\n",
    "<!-- JijZeptの`JijSASampler`を用いて、これまでに実装された問題を解いてみましょう。\n",
    "またここでは`search=True`とすることで、パラメータサーチ機能を用います。 -->"
   ]
  },
  {
   "cell_type": "code",
   "execution_count": 7,
   "metadata": {},
   "outputs": [],
   "source": [
    "import jijzept as jz\n",
    "\n",
    "sampler = jz.JijSASampler(config=\"config.toml\")\n",
    "response = sampler.sample_model(problem, ph_value, multipliers={\"onehot\": 1.0, \"k-median\": 1.0, \"cover\": 1.0}, search=True)"
   ]
  },
  {
   "attachments": {},
   "cell_type": "markdown",
   "metadata": {},
   "source": [
    "From the results, we extract the feasible solutions and show the smallest value of the objective function among them.\n",
    "\n",
    "<!-- 結果から実行可能解を抽出し、その中で目的関数値が最小のものを表示してみましょう。 -->"
   ]
  },
  {
   "cell_type": "code",
   "execution_count": 8,
   "metadata": {},
   "outputs": [
    {
     "name": "stdout",
     "output_type": "stream",
     "text": [
      "0 6.622000297366702\n"
     ]
    }
   ],
   "source": [
    "# get sampleset\n",
    "sampleset = response.get_sampleset()\n",
    "# extract feasible solutions\n",
    "feasible_samples = sampleset.feasibles()\n",
    "# get the value of feasible objective function\n",
    "feasible_objectives = [sample.eval.objective for sample in feasible_samples]\n",
    "# get the lowest value of objective function\n",
    "lowest_index = np.argmin(feasible_objectives)\n",
    "# show the result\n",
    "print(lowest_index, feasible_objectives[lowest_index])"
   ]
  },
  {
   "attachments": {},
   "cell_type": "markdown",
   "metadata": {},
   "source": [
    "From the binary variable $y_j$, which data point is used as the median, we get the indices of the data points that are actually used as the median.\n",
    "\n",
    "<!-- どのデータ点を中央値として用いるかというバイナリ変数$y_i$から、実際に中央値として使われたデータ点のインデックスを抽出してみます。 -->"
   ]
  },
  {
   "cell_type": "code",
   "execution_count": 11,
   "metadata": {},
   "outputs": [
    {
     "name": "stdout",
     "output_type": "stream",
     "text": [
      "[25  1 19 20]\n"
     ]
    }
   ],
   "source": [
    "# check the solution\n",
    "y_indices = feasible_samples[lowest_index].var_values[\"y\"].values.keys()\n",
    "median_indices = np.array([index[0] for index in y_indices])\n",
    "print(median_indices)"
   ]
  },
  {
   "attachments": {},
   "cell_type": "markdown",
   "metadata": {},
   "source": [
    "This information allows us to visualize how data points are clustered.\n",
    "\n",
    "<!-- これらの情報をもとに、実際にデータ点がクラスタリングされた様子を可視化してみましょう。 -->"
   ]
  },
  {
   "cell_type": "code",
   "execution_count": 12,
   "metadata": {},
   "outputs": [
    {
     "data": {
      "image/png": "[encoded data removed]",
      "text/plain": [
       "<Figure size 640x480 with 1 Axes>"
      ]
     },
     "metadata": {},
     "output_type": "display_data"
    }
   ],
   "source": [
    "median_X, median_Y = X[median_indices], Y[median_indices]\n",
    "\n",
    "d_from_m = []\n",
    "for m in median_indices:\n",
    "    d_from_m.append(np.sqrt((X - X[m])**2 + (Y - Y[m])**2))\n",
    "\n",
    "cover_median = median_indices[np.argmin(d_from_m, axis=0)]\n",
    "\n",
    "plt.plot(X, Y, \"o\")\n",
    "plt.plot(X[median_indices], Y[median_indices], \"o\", markersize=10)\n",
    "for index in range(len(X)):\n",
    "    j_value = cover_median[index]\n",
    "    i_value = index\n",
    "    plt.plot(X[[i_value, j_value]], Y[[i_value, j_value]], c=\"gray\")"
   ]
  },
  {
   "attachments": {},
   "cell_type": "markdown",
   "metadata": {},
   "source": [
    "Orange and blue points show the median and other data points respectively. \n",
    "The gray line connects the median and the data points belonging to that cluster.\n",
    "This figure shows how they are into clusters.\n",
    "\n",
    "<!-- クラスタの中央値となるデータ点を橙色、その他のデータ点を青色で表示しています。また中央値とそのクラスタに属するデータ点を灰色線で結んでいます。\n",
    "綺麗にクラスタに分類されている様子がわかります。 -->"
   ]
  },
  {
   "attachments": {},
   "cell_type": "markdown",
   "metadata": {},
   "source": []
  }
 ],
 "metadata": {
  "kernelspec": {
   "display_name": "Python 3.9.5 64-bit",
   "language": "python",
   "name": "python3"
  },
  "language_info": {
   "codemirror_mode": {
    "name": "ipython",
    "version": 3
   },
   "file_extension": ".py",
   "mimetype": "text/x-python",
   "name": "python",
   "nbconvert_exporter": "python",
   "pygments_lexer": "ipython3",
   "version": "3.9.5"
  },
  "orig_nbformat": 4,
  "vscode": {
   "interpreter": {
    "hash": "36cf16204b8548560b1c020c4e8fb5b57f0e4c58016f52f2d4be01e192833930"
   }
  }
 },
 "nbformat": 4,
 "nbformat_minor": 2
}
