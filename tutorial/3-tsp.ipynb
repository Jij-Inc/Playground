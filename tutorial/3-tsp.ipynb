{
 "cells": [
  {
   "cell_type": "markdown",
   "metadata": {},
   "source": [
    "--- \n",
    "description: The Travelling Salesman Problem (TSP) is the problem of finding the shortest tour salesman to visit every city.\n",
    "---"
   ]
  },
  {
   "cell_type": "markdown",
   "metadata": {},
   "source": [
    "# Traveling Salesman Problem"
   ]
  },
  {
   "cell_type": "markdown",
   "metadata": {},
   "source": [
    "The Travelling Salesman Problem (TSP) is the problem of finding the shortest tour salesman to visit every city. \n",
    "It is known as an NP-hard problem. \n",
    "There are several well-known linear formulations for TSP.\n",
    "However, here we show a quadratic formulation for TSP because it is more suitable for Annealing."
   ]
  },
  {
   "cell_type": "markdown",
   "metadata": {},
   "source": [
    "## Mathematical model\n",
    "\n",
    "Let's consider $n$-city TSP.\n",
    "\n",
    "### Decision variable\n",
    "\n",
    "A binary variables $x_{i,t}$ are defined as:\n",
    "$$\n",
    "x_{i,t} = \\begin{cases}\n",
    "1~\\text{the salesman visits $t$-th city $i$,}\\\\\n",
    "0~\\text{otherwise}\\\\\n",
    "\\end{cases}\n",
    "$$\n",
    "for all $i \\in \\{0, ..., n-1\\}$ and $t \\in \\{0, ..., n-1\\}$.\n",
    "$x_{i,t}$ represents the salesman visits city $i$ at $t$ when it is 1.\n",
    "\n",
    "### Constraints\n",
    "\n",
    "We have to consider two constraints;\n",
    "\n",
    "1. A city is visited only once.\n",
    "$$\n",
    "\\sum_t x_{i, t} = 1, ~\\forall i\n",
    "$$\n",
    "\n",
    "2. The salesman visits only one city at a time.\n",
    "$$\n",
    "\\sum_i x_{i, t} = 1, ~\\forall t \n",
    "$$\n",
    "\n",
    "The following figure illustrates why these two constraints are needed for $x_{i,t}$ to represent a tour.\n",
    "\n",
    "![](./assets/tsp_variable.png)\n",
    "\n",
    "### Objective function\n",
    "\n",
    "The total distance of the tour, which is an objective function to be minimized, can be written as follows using the product of $x$ representing the edges used between $t$ and $t+1$.\n",
    "\n",
    "$$\n",
    "\\sum_{i,j,t} d_{i, j}x_{i, t}x_{j, (t+1)\\mod n}\n",
    "$$\n",
    "where $d_{i, j} \\geq 0$ is a distance between city $i$ and city $j$.\n",
    "\"$\\mod n$\" is used to include in the sum the distance from the last city visited back to the first city visited. For example, when $n$ is equal to 5 and node $0$ is the first city visited, $x_{0, (4+1)\\mod 5}$ means $x_{0, 0}$.\n",
    "\n",
    "\n",
    "## $n$-city TSP.\n",
    "$$\n",
    "\\begin{aligned}\n",
    "\\min_x \\sum_{i, j} &d_{i,j} \\sum_t x_{i,t} x_{j, (t+1) \\mod n}\\\\\n",
    "\\mathrm{s.t.}~&\\sum_i x_{i, t} = 1,~\\forall t\\\\\n",
    "&\\sum_t x_{i, t} = 1, ~\\forall i\\\\\n",
    "&x_{i, t} \\in \\{0, 1\\}\n",
    "\\end{aligned}\n",
    "$$\n",
    "where $d_{i,j}$ is distance between city $i$ and city $j$."
   ]
  },
  {
   "cell_type": "markdown",
   "metadata": {},
   "source": [
    "## Modeling by JijModeling\n",
    "\n",
    "Next, we show an implementation using JijModeling. We first define variables for the mathematical model described above."
   ]
  },
  {
   "cell_type": "code",
   "execution_count": 1,
   "metadata": {},
   "outputs": [],
   "source": [
    "import jijmodeling as jm\n",
    "\n",
    "# define variables\n",
    "d = jm.Placeholder('d', ndim=2)\n",
    "N = d.len_at(0, latex=\"N\")\n",
    "i = jm.Element('i', belong_to=(0, N))\n",
    "j = jm.Element('j', belong_to=(0, N))\n",
    "t = jm.Element('t', belong_to=(0, N))\n",
    "x = jm.BinaryVar('x', shape=(N, N))"
   ]
  },
  {
   "cell_type": "markdown",
   "metadata": {},
   "source": [
    "`d` is a two-dimensional array representing the distance between each city.\n",
    "`N` denotes the number of cities. This can be obtained from the number of rows in `d`.\n",
    "`i`, `j` and `t` are subscripts used in the mathematical model described above.\n",
    "Finally, we define the binary variable `x` to be used in this optimization problem.\n",
    "\n",
    "\n",
    "<!-- `d`は2次元の距離行列で、都市間の距離を表すものです。`N`は都市数で、これは`d`の行数から得ることができます。`i, j, t`は上述の数理モデルで使われている添字です。\n",
    "最後に、この最適化問題で用いるバイナリ変数`x`を定義しています。 -->"
   ]
  },
  {
   "cell_type": "code",
   "execution_count": 2,
   "metadata": {},
   "outputs": [],
   "source": [
    "# set problem\n",
    "problem = jm.Problem('TSP')\n",
    "problem += jm.sum([i, j], d[i, j] * jm.sum(t, x[i, t]*x[j, (t+1) % N]))\n",
    "problem += jm.Constraint(\"one-city\", x[:, t].sum() == 1, forall=t)\n",
    "problem += jm.Constraint(\"one-time\", x[i, :].sum() == 1, forall=i)"
   ]
  },
  {
   "attachments": {},
   "cell_type": "markdown",
   "metadata": {},
   "source": [
    "`jm.sum([i, j], d[i, j] * jm.sum(t, x[i, t]*x[j, (t+1) % N]))` represents objective function $\\sum_{i,j,t} d_{i, j}x_{i, t}x_{j, (t+1)\\mod n}$. \n",
    "The following `jm.Constraint(\"one-city\", x[:, t] == 1, forall=t)` represents a constraint to visit one city at one time.\n",
    "`x[:, t]` allows us to express $\\sum_i x_{i, t}$ concisely.\n",
    "\n",
    "\n",
    "<!-- `jm.Sum([i, j], d[i, j] * jm.Sum(t, x[i, t]*x[j, (t+1) % N]))`は目的関数$\\sum_{i,j,t} d_{i, j}x_{i, t}x_{j, (t+1)\\mod n}$を表します。\n",
    "次の`jm.Constraint(\"one-city\", x[:, t] == 1, forall=t)`は一つの時刻に一つの都市を訪れる制約を表します。`x[:, t]`とすることで$\\sum_i x_{i, t}$を簡潔に表現することができます。 -->\n",
    "\n",
    "We can check the implementation of the mathematical model on the Jupyter Notebook."
   ]
  },
  {
   "cell_type": "code",
   "execution_count": 3,
   "metadata": {},
   "outputs": [
    {
     "data": {
      "text/latex": [
       "$$\\begin{array}{cccc}\\text{Problem:} & \\text{TSP} & & \\\\& & \\min \\quad \\displaystyle \\sum_{i = 0}^{N - 1} \\sum_{j = 0}^{N - 1} d_{i, j} \\cdot \\sum_{t = 0}^{N - 1} x_{i, t} \\cdot x_{j, \\left(t + 1\\right) \\bmod N} & \\\\\\text{{s.t.}} & & & \\\\ & \\text{one-city} & \\displaystyle \\sum_{\\ast_{0} = 0}^{N - 1} x_{\\ast_{0}, t} = 1 & \\forall t \\in \\left\\{0,\\ldots,N - 1\\right\\} \\\\ & \\text{one-time} & \\displaystyle \\sum_{\\ast_{1} = 0}^{N - 1} x_{i, \\ast_{1}} = 1 & \\forall i \\in \\left\\{0,\\ldots,N - 1\\right\\} \\\\\\text{{where}} & & & \\\\& x & 2\\text{-dim binary variable}\\\\\\end{array}$$"
      ],
      "text/plain": [
       "<jijmodeling.Problem at 0x19f36f0>"
      ]
     },
     "execution_count": 3,
     "metadata": {},
     "output_type": "execute_result"
    }
   ],
   "source": [
    "problem"
   ]
  },
  {
   "cell_type": "markdown",
   "metadata": {},
   "source": [
    "## Prepare an instance\n",
    "\n",
    "We prepare the number of cities and their coordinates. \n",
    "Here we select a metropolitan area in Japan using `geocoder`.\n",
    "\n",
    "<!-- 都市の数と座標を準備しましょう。ここでは日本の首都圏を`geocoder`を用いて選び出します。 -->"
   ]
  },
  {
   "cell_type": "code",
   "execution_count": 4,
   "metadata": {},
   "outputs": [],
   "source": [
    "from geopy.geocoders import Nominatim\n",
    "import numpy as np\n",
    "\n",
    "geolocator = Nominatim(user_agent='python')\n",
    "\n",
    "# set the name list of traveling points\n",
    "points = ['茨城県', '栃木県', '群馬県', '埼玉県', '千葉県', '東京都', '神奈川県']\n",
    "\n",
    "# get the latitude and longitude\n",
    "latlng_list = []\n",
    "for point in points:\n",
    "    location = geolocator.geocode(point)\n",
    "    if location is not None:\n",
    "        latlng_list.append([ location.latitude, location.longitude ])\n",
    "# make distance matrix\n",
    "num_points = len(points)\n",
    "inst_d = np.zeros((num_points, num_points))\n",
    "for i in range(num_points):\n",
    "    for j in range(num_points):\n",
    "        a = np.array(latlng_list[i])\n",
    "        b = np.array(latlng_list[j])\n",
    "        inst_d[i][j] = np.linalg.norm(a-b)\n",
    "# normalize distance matrix\n",
    "inst_d = (inst_d-inst_d.min()) / (inst_d.max()-inst_d.min())\n",
    "\n",
    "geo_data = {'points': points, 'latlng_list': latlng_list}\n",
    "instance_data = {'d': inst_d}"
   ]
  },
  {
   "cell_type": "markdown",
   "metadata": {},
   "source": [
    "## Solve by JijZept's SA\n",
    "\n",
    "We solve this problem using JijZept `JijSASampler`. We also use the parameter search function by setting `search=True`."
   ]
  },
  {
   "cell_type": "code",
   "execution_count": 5,
   "metadata": {},
   "outputs": [],
   "source": [
    "import jijzept as jz\n",
    "\n",
    "# set sampler\n",
    "sampler = jz.JijSASampler(config=\"config.toml\")\n",
    "# solve problem\n",
    "multipliers = {\"one-city\": 0.5, \"one-time\": 0.5}\n",
    "response = sampler.sample_model(problem, instance_data, multipliers, num_reads=100, search=True)"
   ]
  },
  {
   "cell_type": "markdown",
   "metadata": {},
   "source": [
    "## Check the results\n",
    "\n",
    "First, check the results of the evaluation."
   ]
  },
  {
   "cell_type": "code",
   "execution_count": 7,
   "metadata": {},
   "outputs": [
    {
     "name": "stdout",
     "output_type": "stream",
     "text": [
      "Objective:  [1.9436576668549268, 1.045598017309573, 1.045598017309573, 1.8834731017537, 1.9436576668549268]\n",
      "One-city violation:  [1.0, 2.0, 3.0, 1.0, 1.0]\n",
      "One-time violation:  [1.0, 2.0, 1.0, 1.0, 1.0]\n"
     ]
    }
   ],
   "source": [
    "# get sampleset\n",
    "sampleset = response.get_sampleset()\n",
    "# get the values of objective function\n",
    "# The number of samples is the same as num_reads multiplied by num_search (If search=True)\n",
    "objectives = [sample.eval.objective for sample in sampleset]\n",
    "# get the values of constraint vlolation\n",
    "one_city_violations = [sample.eval.constraints[\"one-city\"].total_violation for sample in sampleset]\n",
    "one_time_violations = [sample.eval.constraints[\"one-time\"].total_violation for sample in sampleset]\n",
    "# set the number of showing result\n",
    "# resutls are not sorted, so the lower objective value does not always come first\n",
    "max_show_num = 5\n",
    "# show the results\n",
    "print(\"Objective: \", objectives[:max_show_num])\n",
    "print(\"One-city violation: \", one_city_violations[:max_show_num])\n",
    "print(\"One-time violation: \", one_time_violations[:max_show_num])"
   ]
  },
  {
   "cell_type": "markdown",
   "metadata": {},
   "source": [
    "### Extract feasible solutions and an index of the lowest solution\n",
    "\n",
    "From the results, we extract the feasible solutions and show the lowest value of the objective function among them.\n",
    "\n",
    "Note: There is a possibility that the solutions which violates constraints are included in the results."
   ]
  },
  {
   "cell_type": "code",
   "execution_count": 8,
   "metadata": {},
   "outputs": [
    {
     "name": "stdout",
     "output_type": "stream",
     "text": [
      "Lowest solution index: 0, Lowest objective value: 2.8774493667284857\n"
     ]
    }
   ],
   "source": [
    "import numpy as np\n",
    "\n",
    "# extract feasible solutions\n",
    "feasible_samples = sampleset.feasibles()\n",
    "# get the value of feasible objective function\n",
    "feasible_objectives = [sample.eval.objective for sample in feasible_samples]\n",
    "# get the lowest value of objective function\n",
    "lowest_index = np.argmin(feasible_objectives)\n",
    "# show the result\n",
    "print(f\"Lowest solution index: {lowest_index}, Lowest objective value: {feasible_objectives[lowest_index]}\")"
   ]
  },
  {
   "cell_type": "markdown",
   "metadata": {},
   "source": [
    "## Draw tour"
   ]
  },
  {
   "cell_type": "code",
   "execution_count": 28,
   "metadata": {},
   "outputs": [
    {
     "data": {
      "text/plain": [
       "[6, 5, 4, 0, 1, 2, 3, 6]"
      ]
     },
     "execution_count": 28,
     "metadata": {},
     "output_type": "execute_result"
    }
   ],
   "source": [
    "# get the indices of x == 1\n",
    "x_indices = feasible_samples[lowest_index].var_values[\"x\"].values.keys()\n",
    "# sort by time step\n",
    "tour = [index for index, _ in sorted(x_indices, key=lambda x: x[1])]\n",
    "tour.append(tour[0])\n",
    "tour"
   ]
  },
  {
   "cell_type": "markdown",
   "metadata": {},
   "source": [
    "We check the salesman’s route."
   ]
  },
  {
   "cell_type": "code",
   "execution_count": 24,
   "metadata": {},
   "outputs": [
    {
     "name": "stdout",
     "output_type": "stream",
     "text": [
      "[[140.4703384 139.8096549 139.033483  139.4160114 140.2647303 139.762221\n",
      "  139.374753 ]\n",
      " [ 36.2869536  36.6782167  36.52198    35.9754168  35.549399   35.6821936\n",
      "   35.4342935]]\n"
     ]
    },
    {
     "data": {
      "image/png": "[encoded data removed]",
      "text/plain": [
       "<Figure size 640x480 with 1 Axes>"
      ]
     },
     "metadata": {},
     "output_type": "display_data"
    },
    {
     "name": "stdout",
     "output_type": "stream",
     "text": [
      "['神奈川県' '東京都' '千葉県' '茨城県' '栃木県' '群馬県' '埼玉県' '神奈川県']\n"
     ]
    }
   ],
   "source": [
    "import matplotlib.pyplot as plt\n",
    "\n",
    "position = np.array(geo_data['latlng_list']).T[[1, 0]]\n",
    "\n",
    "print(position)\n",
    "\n",
    "plt.axes().set_aspect('equal')\n",
    "plt.plot(*position, \"o\")\n",
    "plt.plot(position[0][tour], position[1][tour], \"-\")\n",
    "plt.show()\n",
    "\n",
    "print(np.array(geo_data['points'])[tour])"
   ]
  },
  {
   "cell_type": "code",
   "execution_count": null,
   "metadata": {},
   "outputs": [],
   "source": []
  }
 ],
 "metadata": {
  "kernelspec": {
   "display_name": "Python 3.10.8 64-bit",
   "language": "python",
   "name": "python3"
  },
  "language_info": {
   "codemirror_mode": {
    "name": "ipython",
    "version": 3
   },
   "file_extension": ".py",
   "mimetype": "text/x-python",
   "name": "python",
   "nbconvert_exporter": "python",
   "pygments_lexer": "ipython3",
   "version": "3.9.5"
  },
  "vscode": {
   "interpreter": {
    "hash": "b0fa6594d8f4cbf19f97940f81e996739fb7646882a419484c72d19e05852a7e"
   }
  }
 },
 "nbformat": 4,
 "nbformat_minor": 4
}
