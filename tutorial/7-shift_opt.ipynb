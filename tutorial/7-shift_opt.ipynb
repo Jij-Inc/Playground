{
 "cells": [
  {
   "cell_type": "markdown",
   "metadata": {},
   "source": [
    "--- \n",
    "description: The shift optimization problem is the problem of finding the optimal cost under several constraints.\n",
    "---"
   ]
  },
  {
   "cell_type": "markdown",
   "metadata": {},
   "source": [
    "# Shift Optimization Problem\n",
    "\n",
    "The shift optimization problem is the problem of finding the optimal cost under several constraints.\n",
    "Here we show an example of shift optimization based on [This formulation](https://scmopt.github.io/opt100/81shift-minimization.html).\n",
    "\n",
    "## Problem Description\n",
    "\n",
    "### Overview\n",
    "\n",
    "Suppose that we want to allocate multiple jobs to multiple workers.\n",
    "You have to pay a cost per worker.\n",
    "Given the start time and end time of each job and the costs of each worker, minimize the workers' cost under the constraints;\n",
    "\n",
    "* Each job needs one worker\n",
    "* A worker cannot do multiple jobs at the same time\n",
    "\n",
    "The figure below is a picture of the shift optimization problem.\n",
    "\n",
    "![](./assets/shift_opt01.png)\n",
    "\n",
    "There are three jobs and three workers in this situation.\n",
    "Since job A and B have no overlap. One worker can do these jobs, costing a total $300."
   ]
  },
  {
   "cell_type": "markdown",
   "metadata": {},
   "source": [
    "## Pre-process\n",
    "\n",
    "Before constructing a mathematical model, we list overlapping jobs from the given job schedule.\n",
    "First, we prepare the job scheduling data (list of (start_time, end_time)):"
   ]
  },
  {
   "cell_type": "code",
   "execution_count": 1,
   "metadata": {},
   "outputs": [],
   "source": [
    "from datetime import time\n",
    "job_list = [\n",
    "        (time(17, 0), time(18, 0)), # job 0\n",
    "        (time(13, 0), time(14, 0)), # job 1\n",
    "        (time(13, 30), time(14, 30)), # job 2\n",
    "        (time(13, 40), time(14, 40)), # job 3\n",
    "        (time(16, 40), time(17, 40)), # job 4\n",
    "        (time(11, 40), time(13, 40)), # job 5\n",
    "        (time(18, 40), time(19, 40)), # job 6\n",
    "        (time(18, 40), time(19, 40)), # job 7\n",
    "        (time(18, 00), time(19, 00)), # job 8\n",
    "    ]"
   ]
  },
  {
   "cell_type": "markdown",
   "metadata": {},
   "source": [
    "To find overlapping jobs, we first create a graph whose node `i` corresponds to each job `job_list[i],` and the edge connects overlapping jobs.\n",
    "\n",
    "We need the networkx library to run the below code."
   ]
  },
  {
   "cell_type": "code",
   "execution_count": 2,
   "metadata": {},
   "outputs": [],
   "source": [
    "import networkx as nx\n",
    "\n",
    "def has_overlap(t1start: time, t1end: time, t2start: time, t2end: time):\n",
    "    return (t1start <= t2start <= t1end) or (t2start <= t1start <= t2end)\n",
    "\n",
    "def gen_index_graph(time_list: list[tuple[time, time]]) -> nx.Graph:\n",
    "    G = nx.Graph()\n",
    "    for j in range(len(time_list)):\n",
    "        for k in range(j + 1, len(time_list)):\n",
    "            if has_overlap(\n",
    "                time_list[j][0], time_list[j][1], time_list[k][0], time_list[k][1]\n",
    "            ):\n",
    "                G.add_edge(j, k)\n",
    "\n",
    "    return G"
   ]
  },
  {
   "cell_type": "markdown",
   "metadata": {},
   "source": [
    "We can get the list of overlapping jobs by finding cliques from the graph. The function `nx.find_cliques` can be used for extracting cliques."
   ]
  },
  {
   "cell_type": "code",
   "execution_count": 3,
   "metadata": {},
   "outputs": [
    {
     "name": "stdout",
     "output_type": "stream",
     "text": [
      "[[0, 8], [0, 4], [1, 2, 3, 5], [8, 6, 7]]\n"
     ]
    }
   ],
   "source": [
    "g = gen_index_graph(job_list)\n",
    "job_cliques = []\n",
    "for c in nx.find_cliques(g):\n",
    "    job_cliques.append(list(set(c)))\n",
    "\n",
    "print(job_cliques)"
   ]
  },
  {
   "cell_type": "markdown",
   "metadata": {},
   "source": [
    "For example, job 0 (from 17:00 to 18:00) and job 8 (from 18:00 to 19:00) has overlap at 18:00 hence it listed as `[0, 8]`.\n",
    "Job 1, 2, 3, 5 are overlapped each other hence it is also listed."
   ]
  },
  {
   "cell_type": "markdown",
   "metadata": {},
   "source": [
    "## Mathematical Model\n",
    "\n",
    "### Constants\n",
    "\n",
    "We use the following constants:\n",
    "\n",
    "* $W$: The number of workers (e.g. `5`)\n",
    "* $J$: The number of jobs (e.g. `5`)\n",
    "* $b_w$: Costs of the worker w. (e.g. `[1,2,3,2,1]`)\n",
    "* $C$: List of overlapped jobs (e.g. `[[1,4], [4,2,3,5], [2,3]]`. Note that $C_0$ = `[1,4]`, $C_1$ = `[4,2,3,5]`, $C_2$ = `[2,3]`)\n",
    "* $Nc$: The number of overlapped jobs (=`len(C)`)\n",
    "\n",
    "### Decision Variables\n",
    "\n",
    "A binary variables $x_{j,w}$ and $y_{w}$ are defined as:\n",
    "$$\n",
    "x_{j,w} = \\begin{cases}\n",
    "1~\\text{the worker {\\it w} is assigned to the job {\\it j}}\\\\\n",
    "0~\\text{otherwise}\\\\\n",
    "\\end{cases}\n",
    "$$\n",
    "\n",
    "$$\n",
    "y_{w} = \\begin{cases}\n",
    "1~\\text{the worker {\\it w} is assigned}\\\\\n",
    "0~\\text{the worker {\\it w} is not assigned}\\\\\n",
    "\\end{cases}\n",
    "$$\n",
    "\n",
    "for all $j \\in \\{0, ..., J-1\\}$ and $w \\in \\{0, ..., W-1\\}$.\n",
    "\n",
    "### Objective Functions\n",
    "\n",
    "The cost function to be minimized is the total cost of workers:\n",
    "\n",
    "$$\n",
    "\\min \\sum_w b_{w} y_{w}\n",
    "$$\n",
    "\n",
    "### Constraints\n",
    "\n",
    "We first consider two constraints;\n",
    "\n",
    "* Each job needs one worker\n",
    "$$\n",
    "\\sum_w x_{j, w} = 1, ~\\forall j \\in \\{0, ..., J-1\\}\n",
    "$$\n",
    "\n",
    "* A worker cannot do multiple jobs at the same time. In other words, the number of jobs in $C_c$ that the worker $w$ is assigned is 0 (if $y_{w}$ is 0) or 1 (if $y_{w}$ is 1).\n",
    "\n",
    "$$\n",
    "\\sum_{l \\in C_{c}} x_{l, w} \\leq y_{w}, ~\\forall w \\in \\{0, ..., W-1\\}, c \\in \\{0, ..., Nc-1\\}\n",
    "$$"
   ]
  },
  {
   "cell_type": "markdown",
   "metadata": {},
   "source": [
    "## Modeling by JijModeling"
   ]
  },
  {
   "cell_type": "code",
   "execution_count": 4,
   "metadata": {},
   "outputs": [
    {
     "data": {
      "text/latex": [
       "$$\\begin{array}{cccc}\\text{Problem:} & \\text{shift schedule} & & \\\\& & \\min \\quad \\displaystyle \\sum_{w = 0}^{W - 1} b_{w} \\cdot y_{w} & \\\\\\text{{s.t.}} & & & \\\\ & \\text{const\\_do\\_all\\_jobs} & \\displaystyle \\sum_{w = 0}^{W - 1} x_{j, w} = 1 & \\forall j \\in \\left\\{0,\\ldots,J - 1\\right\\} \\\\ & \\text{const\\_worker\\_limit} & \\displaystyle \\sum_{l \\in C_{c}} x_{l, w} \\leq y_{w} & \\forall w \\in \\left\\{0,\\ldots,W - 1\\right\\} \\forall c \\in \\left\\{0,\\ldots,Nc - 1\\right\\} \\\\\\text{{where}} & & & \\\\& y & 1\\text{-dim binary variable}\\\\& x & 2\\text{-dim binary variable}\\\\\\end{array}$$"
      ],
      "text/plain": [
       "<jijmodeling.Problem at 0x142e9ce60>"
      ]
     },
     "execution_count": 4,
     "metadata": {},
     "output_type": "execute_result"
    }
   ],
   "source": [
    "import jijmodeling as jm\n",
    "\n",
    "W = jm.Placeholder(\"W\")\n",
    "w = jm.Element(\"w\", belong_to=W)\n",
    "# jobs\n",
    "J = jm.Placeholder(\"J\")\n",
    "j = jm.Element(\"j\", belong_to=J)\n",
    "\n",
    "# workers cost\n",
    "b = jm.Placeholder(\"b\", ndim=1)\n",
    "\n",
    "# list of overlapped jobs\n",
    "C = jm.Placeholder(\"C\", ndim=2)\n",
    "# number of cliques\n",
    "Nc = jm.Placeholder(\"Nc\")\n",
    "# index for clique\n",
    "c = jm.Element(\"c\", belong_to=Nc)\n",
    "l = jm.Element(\"l\", belong_to=C[c])\n",
    "\n",
    "# decision variables\n",
    "# 1 if the worker w is assigned, otherwise 0.\n",
    "y = jm.BinaryVar(\"y\", shape=(W,))\n",
    "# 1 if the worker w is assigned to job j.\n",
    "x = jm.BinaryVar(\"x\", shape=(J, W))\n",
    "\n",
    "problem = jm.Problem(\"shift schedule\")\n",
    "\n",
    "problem += jm.sum(w, b[w] * y[w])\n",
    "\n",
    "problem += jm.Constraint(\"const_do_all_jobs\", jm.sum(w, x[j, w]) == 1, forall=[j])\n",
    "\n",
    "problem += jm.Constraint(\n",
    "    \"const_worker_limit\", jm.sum(l, x[l, w]) <= y[w], forall=[w, c]\n",
    ")\n",
    "\n",
    "problem"
   ]
  },
  {
   "cell_type": "markdown",
   "metadata": {},
   "source": [
    "## Solve by JijZept\n",
    "\n",
    "Let us calculate with five workers and five jobs.\n",
    "We can use [parameter search algorithm](https://www.documentation.jijzept.com/docs/jijzept_docs/parameter_search) to solve the problem."
   ]
  },
  {
   "cell_type": "code",
   "execution_count": 5,
   "metadata": {},
   "outputs": [
    {
     "name": "stdout",
     "output_type": "stream",
     "text": [
      "APIStatus.SUCCESS\n"
     ]
    }
   ],
   "source": [
    "import jijzept as jz\n",
    "\n",
    "workers_costs = [1, 4, 3, 2, 5]\n",
    "job_list = [\n",
    "        (time(17, 0), time(18, 0)),\n",
    "        (time(13, 0), time(14, 0)),\n",
    "        (time(13, 30), time(14, 30)),\n",
    "        (time(13, 40), time(14, 40)),\n",
    "        (time(16, 40), time(16, 50)),\n",
    "    ]\n",
    "\n",
    "# Pre-process to job_list\n",
    "g = gen_index_graph(job_list)\n",
    "job_cliques = []\n",
    "for c in nx.find_cliques(g):\n",
    "    job_cliques.append(list(set(c)))\n",
    "\n",
    "instance_data = {\n",
    "            \"W\": len(workers_costs),\n",
    "            \"J\": len(job_list),\n",
    "            \"b\": workers_costs,\n",
    "            \"C\": job_cliques,\n",
    "            \"Nc\": len(job_cliques),\n",
    "        }\n",
    "\n",
    "config_path = \"config.toml\"\n",
    "sampler = jz.JijSASampler(config=config_path)\n",
    "response = sampler.sample_model(\n",
    "    problem, instance_data, search=True, num_search=15\n",
    "    )\n",
    "\n",
    "print(response.status)"
   ]
  },
  {
   "cell_type": "markdown",
   "metadata": {},
   "source": [
    "## Visualization\n",
    "\n",
    "First, let us check the objective (the cost function) from feasible solutions."
   ]
  },
  {
   "cell_type": "code",
   "execution_count": 6,
   "metadata": {},
   "outputs": [
    {
     "data": {
      "text/plain": [
       "[6.0, 6.0, 6.0, 6.0, 6.0, 6.0]"
      ]
     },
     "execution_count": 6,
     "metadata": {},
     "output_type": "execute_result"
    }
   ],
   "source": [
    "# get sampleset\n",
    "sampleset = response.get_sampleset()\n",
    "# extract feasible samples\n",
    "feasible_samples = sampleset.feasibles()\n",
    "# get the values of feasible objectives\n",
    "feasible_objectives = [sample.eval.objective for sample in feasible_samples]\n",
    "feasible_objectives"
   ]
  },
  {
   "cell_type": "markdown",
   "metadata": {},
   "source": [
    "The lowest solution is 6.\n",
    "\n",
    "Next, we will plot the generated job schedule from the feasible lowest solution."
   ]
  },
  {
   "cell_type": "code",
   "execution_count": 7,
   "metadata": {},
   "outputs": [
    {
     "data": {
      "image/png": "[encoded data removed]",
      "text/plain": [
       "<Figure size 640x480 with 1 Axes>"
      ]
     },
     "metadata": {},
     "output_type": "display_data"
    }
   ],
   "source": [
    "import matplotlib.pyplot as plt\n",
    "import numpy as np\n",
    "\n",
    "def plot_sol(job_list: list[tuple[time, time]], y: list[int], x: list[list[int]]):\n",
    "\n",
    "    # convert time to sec\n",
    "\n",
    "    factor = 24 / 86400\n",
    "\n",
    "    bar_job_list = [((e1.hour*3600 + e1.minute*60 + e1.second) * factor, ((e2.hour*3600 + e2.minute*60 + e2.second) - (e1.hour*3600 + e1.minute*60 + e1.second)) * factor) for e1, e2 in job_list]\n",
    "\n",
    "    # Horizontal bar plot with gaps\n",
    "    fig, ax = plt.subplots()\n",
    "    for i,val in enumerate(y):\n",
    "        if val == 1:\n",
    "            bar = []\n",
    "            for j in range(len(bar_job_list)):\n",
    "                if x[j, i] == 1:\n",
    "                    bar.append(bar_job_list[j])\n",
    "\n",
    "            ax.broken_barh(bar, (10*(i+1)-2.5, 5))\n",
    "\n",
    "    ax.set_xlim(0, 24)\n",
    "    ax.set_xlabel(\"job schedule time [Hour]\")\n",
    "    ax.set_yticks([10*(i+1) for i,_ in enumerate(y)], labels=[f\"workers {i}\" for i,_ in enumerate(y)])  # Modify y-axis tick labels\n",
    "    ax.grid(True)  # Make grid lines visible\n",
    "\n",
    "    plt.show()\n",
    "\n",
    "# get the index of lowest feasible objective\n",
    "lowest_index = np.argmin(feasible_objectives)\n",
    "# get the indices of y == 1\n",
    "solution_y = feasible_samples[lowest_index].var_values[\"y\"].to_dense()\n",
    "# get the indices of x == 1\n",
    "solution_x = feasible_samples[lowest_index].var_values[\"x\"].to_dense()\n",
    "plot_sol(job_list, solution_y, solution_x)"
   ]
  },
  {
   "cell_type": "markdown",
   "metadata": {},
   "source": [
    "The blue area shows each job. You can see that only three workers can do the jobs, and the total cost is 1+2+3=6."
   ]
  },
  {
   "cell_type": "markdown",
   "metadata": {},
   "source": [
    "## Other Cases\n",
    "\n",
    "Let us consider if all jobs are overlapped."
   ]
  },
  {
   "cell_type": "code",
   "execution_count": 8,
   "metadata": {},
   "outputs": [
    {
     "data": {
      "image/png": "[encoded data removed]",
      "text/plain": [
       "<Figure size 640x480 with 1 Axes>"
      ]
     },
     "metadata": {},
     "output_type": "display_data"
    }
   ],
   "source": [
    "import jijzept as jz\n",
    "\n",
    "workers_costs = [1, 4, 3, 2, 5]\n",
    "job_list = [\n",
    "        (time(10, 10), time(19, 0)),\n",
    "        (time(10, 20), time(19, 0)),\n",
    "        (time(10, 30), time(19, 30)),\n",
    "        (time(10, 0), time(19, 40)),\n",
    "        (time(10, 0), time(19, 50)),\n",
    "    ]\n",
    "\n",
    "# Pre-process to job_list\n",
    "g = gen_index_graph(job_list)\n",
    "job_cliques = []\n",
    "for c in nx.find_cliques(g):\n",
    "    job_cliques.append(list(set(c)))\n",
    "\n",
    "instance_data = {\n",
    "            \"W\": len(workers_costs),\n",
    "            \"J\": len(job_list),\n",
    "            \"b\": workers_costs,\n",
    "            \"C\": job_cliques,\n",
    "            \"Nc\": len(job_cliques),\n",
    "        }\n",
    "\n",
    "sampler = jz.JijSASampler(config=config_path)\n",
    "res = sampler.sample_model(\n",
    "    problem, instance_data, search=True, num_search=15\n",
    "    )\n",
    "\n",
    "# get the index of lowest feasible objective\n",
    "lowest_index = np.argmin(feasible_objectives)\n",
    "# get the indices of y == 1\n",
    "solution_y = feasible_samples[lowest_index].var_values[\"y\"].to_dense()\n",
    "# get the indices of x == 1\n",
    "solution_x = feasible_samples[lowest_index].var_values[\"x\"].to_dense()\n",
    "plot_sol(job_list, solution_y, solution_x)"
   ]
  },
  {
   "cell_type": "markdown",
   "metadata": {},
   "source": [
    "In this case, we need all workers to finish jobs."
   ]
  },
  {
   "cell_type": "markdown",
   "metadata": {},
   "source": []
  }
 ],
 "metadata": {
  "kernelspec": {
   "display_name": "Python 3.8.10 64-bit",
   "language": "python",
   "name": "python3"
  },
  "language_info": {
   "codemirror_mode": {
    "name": "ipython",
    "version": 3
   },
   "file_extension": ".py",
   "mimetype": "text/x-python",
   "name": "python",
   "nbconvert_exporter": "python",
   "pygments_lexer": "ipython3",
   "version": "3.11.3"
  },
  "vscode": {
   "interpreter": {
    "hash": "31f2aee4e71d21fbe5cf8b01ff0e069b9275f58929596ceb00d14d90e3e16cd6"
   }
  }
 },
 "nbformat": 4,
 "nbformat_minor": 4
}
