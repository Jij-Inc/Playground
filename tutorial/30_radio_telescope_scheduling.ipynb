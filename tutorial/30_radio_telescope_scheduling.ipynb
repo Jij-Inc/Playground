{
 "cells": [
  {
   "attachments": {},
   "cell_type": "markdown",
   "metadata": {},
   "source": [
    "---\n",
    "description: Here we show how to solve the Deep Space Network scheduling problem introduced by [Guillaume et al. (2022)] using JijZept.\n",
    "---\n",
    "\n",
    "# Deep Space Network Scheduling \n",
    "\n",
    "<!-- # 電波望遠鏡ネットワークのスケジュール最適化 -->\n",
    "\n",
    "<!-- ## 導入: Deep Space Network (DSN) -->\n",
    "\n",
    "## Introduction: Deep Space Network (DSN)\n",
    "\n",
    "<!-- NASAのDeep Space Network（以下DSNと呼称します）は、オーストラリア・スペイン・アメリカにまたがる電波望遠鏡を繋いだネットワークです。\n",
    "これらの電波望遠鏡は主に、宇宙に打ち上げられた宇宙探査機との交信、そして電波波長帯域での惑星観測ミッションに役立てられています。\n",
    "探査機数そして交信の複雑さが増す昨今では、どのアンテナをどの探査機との交信に用いるか（あるいはどのミッションに割り当てるか）のスケジュール決定は困難を極めます。\n",
    "近年では複数台の電波望遠鏡をネットワークで繋ぎ、これをあるパターンに従って操作することで信号間の干渉を利用した、電波干渉計技術が注目を集めています。\n",
    "Event Horizon Telescopeが行ったM87、そして私たちの住む天の川銀河中心の超巨大ブラックホールの直接撮像などが、その際たる例です。  \n",
    "[Guillaume et al., 2022](https://ieeexplore.ieee.org/stamp/stamp.jsp?arnumber=9863923)では、DNSのスケジューリング問題をQUBO定式化し、D-Waveのハイブリッドソルバーを用いて解きました。\n",
    "今回はその定式化を理解した上でJijModelingで実装し、JijZeptで求解してみましょう。 -->\n",
    "\n",
    "NASA's Deep Space Network (hereafter referred to as DSN) is a network of radio telescopes. \n",
    "These sites are Australia, Spain, and the United States.\n",
    "These radio telescopes are used primarily for communication with spacecraft launched into space and for planetary observation missions in the radio wavelength band.\n",
    "With the increasing number and complexity of spacecraft, communication scheduling with spacecraft is an extremely difficult problem.\n",
    "In recent years, radio interferometry, a technique that uses interference between signals by networking multiple radio telescopes and manipulating them according to a pattern, has attracted much attention.\n",
    "The most notable example is [Event Horizon Telescope](https://eventhorizontelescope.org/) which took the direct imaging of the supermassive black hole at the center of M87 and Milky Way Galaxy.  \n",
    "[Guillaume et al. (2022)](https://ieeexplore.ieee.org/stamp/stamp.jsp?arnumber=9863923) formulated the DNS scheduling problem into QUBO and solved using D-Wave's hybrid solver.\n",
    "Here, we implement this problem using JijModeling and solve it with JijZept.\n",
    "\n",
    "<!-- ## DSNのスケジュール問題 -->\n",
    "\n",
    "## DSN scheduling problem\n",
    "\n",
    "<!-- ### 問題設定-->\n",
    "\n",
    "### Problem setting\n",
    "\n",
    "<!-- $N$個のリクエストがあり、これを$\\mathcal{Q} = \\{Q_1, Q_2, \\dots, Q_N\\}$とします。\n",
    "あるリクエスト$Q_n$が$M$個の(アンテナや装置などの地上の)リソースに割り当てられることを考えます。\n",
    "このリソースの集合を$\\mathcal{S} = \\{S_1, S_2, \\dots, S_M\\}$のように書きます。\n",
    "各地上のリソース$S_m$に対し、宇宙にある衛星が見える期間を$\\mathcal{V} = \\{V_1, V_2, \\dots, V_K\\}$とします。\n",
    "衛星が見える期間の開始(rise time)と終了(set time)をそれぞれrt, stのように定義します。\n",
    "実際に衛星に信号を送信が開始できるようになるのは、rtからわずかに遅れた時間となります。また送信ができるのはstから少し早い時間までです。\n",
    "このように、実際に送信が開始できる時間と送信が終了する時間をtn, tfのように書きます。\n",
    "各リクエストに対して、要求された装置を準備し、またそれを撤去するための時間がかかります。\n",
    "それらをsu, tdとします。\n",
    "これらはrt, stの間ならば、いつでも発生します。\n",
    "さらに各リクエストには、トラッキングの継続時間drが定められます。\n",
    "これらの定義から、各リクエストはsu+dr+tdだけアクションに時間を取ります。\n",
    "この時間の間、アンテナや装置は衛星をトラッキングし、衛星と通信を行うことができます。  \n",
    "これらをインスタンスとして、最適化を行います。\n",
    "DSNスケジュール最適化の目的は、全てのリクエストを満たすこと、言い換えればリクエストごとに正確に一つのアクションをスケジュールすることです。\n",
    "そのために、$x_{n, m, k, t}$のようなバイナリ変数を用意しましょう。\n",
    "これは時刻$t$からトラッキングを開始し、衛星が見える期間$k$の間にリソース$m$を用いてリクエスト$n$を処理する場合に1、そうでない場合に0となるようなバイナリ変数です。 -->\n",
    "\n",
    "A schedule is generated after processing $N$ requests $\\mathcal{Q} = \\{Q_1, Q_2, \\dots, Q_N\\}$.\n",
    "A given request $Q_n$ can utilize any of the $M$ resources (antennas or equipments) prescribed for this request $\\mathcal{S} = \\{S_1, S_2, \\dots, S_M\\}$.\n",
    "In turn, periods of visibility of a spacecraft from a particular ground station are calculated and define a set of $K$ viewperiods $\\mathcal{V} = \\{V_1, V_2, \\dots, V_K \\}$ for each resource $S_m$.\n",
    "The times when a spacecraft becomes visible or invisible, respectively, the rise and set times, $t^\\mathrm{rt}$ and $t^\\mathrm{st}$, define the outer boundaries of a viewperiod.\n",
    "The transmission to the spacecraft can begin (end) slightly later (earlier) than the rise and set time (respectively). \n",
    "This transmission on and off times, $t^\\mathrm{tn}$ and $t^\\mathrm{tf}$, delimit the inner boundaries within which a track can be scheduled.\n",
    "For each request, a setup and tear-down time period, $\\Delta t^\\mathrm{su}$ and $\\Delta t^\\mathrm{td}$, are given to prepare and remove (respectively) the equipment requested.\n",
    "Those times can occur anywhere between the rise and set times. \n",
    "In addition, a track duration $\\Delta t^\\mathrm{dr}$ is prescribed for each request.\n",
    "An activity is defined as the period of time equal to the sum of the setup, track, and tear-down times, $\\Delta t^\\mathrm{su}+\\Delta t^\\mathrm{dr}+\\Delta t^\\mathrm{td}$.\n",
    "It is the period of time during which an antenna can track a spacecraft and communicate with it.\n",
    "The goal of DSN schedule optimization is to process all requests, in other words, to schedule exactly one action per request.\n",
    "To this end, we use binary variables $x_{n, m, k, t}$.\n",
    "These are equal to 1 when a track starts at time $t$  within the viewperiod $k$ calculated for resource $m$ of request $n$, and $0$ otherwise.\n",
    "\n",
    "![](assets/radio_telescope_scheduling_en_01.png)\n",
    "\n",
    "<!-- ### 制約1: 全てのリクエストはどれかのアンテナで処理されなければならない -->\n",
    "\n",
    "### Constraint 1: Each request must be processed by one of the resources\n",
    "\n",
    "<!-- これを数式で表現すると、以下のようになります。 -->\n",
    "\n",
    "$$\n",
    "\\sum_{m=1}^M \\sum_{k=1}^K \\sum_{t} x_{n, m, k, t} = 1 \\qquad \\forall n, t^\\mathrm{tn} \\leq t \\leq t^\\mathrm{tf}-\\Delta t^\\mathrm{dr} \\tag{1}\n",
    "$$\n",
    "\n",
    "<!-- 実際にリクエスト送信を開始できるtnから、tf-drまでにリクエストの送信を終える必要があります。\n",
    "drだけトラッキング継続時間がかかるため、その分早くリクエストを送信しておかなければなりません。 -->\n",
    "\n",
    "Each request must be processed by one of the resources.\n",
    "The request must be completed by $t^\\mathrm{tf}- \\Delta t^\\mathrm{dr}$ from the time $t^\\mathrm{tn}$ actually starts sending the request.\n",
    "The tracking time $\\Delta t^\\mathrm{dr}$ must be taken into account.\n",
    "\n",
    "<!-- ### 制約2: 競合が起きてはならない -->\n",
    "\n",
    "### Constraint 2: Avoiding conflicts\n",
    "\n",
    "<!-- 次の図はあるアンテナでのリクエスト処理のスケジュールの一例です。 -->\n",
    "\n",
    "In addition, the schedule should be devoid of conflicts as the figure below.\n",
    "\n",
    "![](assets/radio_telescope_scheduling_en_02.png)\n",
    "\n",
    "<!-- リクエスト$i$と$j$, $i$と$k$は競合していませんが、$j$と$k$は時間が被っており、競合を起こしていることがわかります。\n",
    "このような競合は避ける必要があります。\n",
    "これを数式で表すと、以下のようになります。 -->\n",
    "\n",
    "The figure shows requests $i$ and $j$, $i$ and $k$ do not conflict, but $j$ and $k$ are overlapped, indicating that they are in conflict.\n",
    "We have to avoid such conflicts.\n",
    "This can be expressed in the formula as follows:\n",
    "\n",
    "$$\n",
    "\\begin{align}\n",
    "& x_{n, m, k, t} x_{n', m', k', t'} = 0 \\\\\n",
    "& \\quad (Q_n \\neq Q_{n'}, S_m = S_{m'}, t-\\Delta t^\\mathrm{su} \\leq t'-\\Delta t^\\mathrm{su'} \\leq t + \\Delta t^\\mathrm{dr} + \\Delta t^\\mathrm{td} \\ \\mathrm{or} \\ t' - \\Delta t^\\mathrm{su'} \\leq t-\\Delta t^\\mathrm{su} \\leq t' + \\Delta t^\\mathrm{dr'} + \\Delta t^\\mathrm{td'})\n",
    "\\end{align} \\tag{2}\n",
    "$$\n",
    "\n",
    "<!-- $$\n",
    "\\begin{align}\n",
    "& x_{n, m, k, t} x_{n', m', k', t'} = 0 \\\\\n",
    "& \\quad (Q_n \\neq Q_{n'}, S_m = S_{m'}, t-\\Delta t^\\mathrm{su} \\leq t'-\\Delta t^\\mathrm{su}' \\leq t + \\Delta t^\\mathrm{dr} + \\Delta t^\\mathrm{td} \\ \\mathrm{or} \\ t' - \\Delta t^\\mathrm{su}' \\leq t-\\Delta t^\\mathrm{su} \\leq t' + \\Delta t^\\mathrm{dr}' + \\Delta t^\\mathrm{td}')\n",
    "\\end{align} \\tag{2}\n",
    "$$ -->"
   ]
  },
  {
   "attachments": {},
   "cell_type": "markdown",
   "metadata": {},
   "source": [
    "<!-- ## 実装しましょう -->\n",
    "\n",
    "## Let's coding!\n",
    "\n",
    "<!-- ここからは、実際にJijModelingとJijZeptを用いて、この問題を解くスクリプトを実装しましょう。 -->\n",
    "\n",
    "Here, we implement a script that solve this problem using JijModeling and JijZept.\n",
    "\n",
    "<!-- ### 変数の定義 -->\n",
    "\n",
    "### Defining variables\n",
    "\n",
    "<!-- 以下のようにして、最適化に用いる変数を定義します。 -->\n",
    "\n",
    "We define the variables for eq.(1) and (2)."
   ]
  },
  {
   "cell_type": "code",
   "execution_count": 1,
   "metadata": {},
   "outputs": [],
   "source": [
    "import jijmodeling as jm\n",
    "\n",
    "# define variables\n",
    "AT = jm.Placeholder('AT', ndim=4)\n",
    "max_AT = jm.Placeholder('max_AT')\n",
    "N = jm.Placeholder('N')\n",
    "M = jm.Placeholder('M')\n",
    "K = jm.Placeholder('K')\n",
    "su = jm.Placeholder('su', ndim=1)\n",
    "dr = jm.Placeholder('dr', ndim=1)\n",
    "td = jm.Placeholder('td', ndim=1)\n",
    "x = jm.BinaryVar('x', shape=(N, M, K, max_AT))\n",
    "n1 = jm.Element('n1', belong_to=N)\n",
    "n2 = jm.Element('n2', belong_to=N)\n",
    "m = jm.Element('m', belong_to=M)\n",
    "k1 = jm.Element('k1', belong_to=K)\n",
    "k2 = jm.Element('k2', belong_to=K)\n",
    "t1 = jm.Element('t1', belong_to=AT[n1, m, k1])\n",
    "t2 = jm.Element('t2', belong_to=AT[n2, m, k2])"
   ]
  },
  {
   "cell_type": "markdown",
   "metadata": {},
   "source": [
    "<!-- `AT`はリクエスト処理を開始できる時間、`max_AT`は`AT`の最大値、`N`はリクエスト数、`M`は地上のリソース数, `K`は地上のリソースから衛星が見える回数を表します。\n",
    "`su`, `dr`, `td`はそれぞれ、各リクエストのセットアップ時間、リクエスト処理時間、ティアダウン時間です。\n",
    "最適化に用いる変数として`x`を定義し、$x_{n, m, k, t}$を表現するのに用いる添字を`n1`, `n2`, `m`, `k1`, `k2`, `t1`, `t2`として定義しています。\n",
    "添字`t1`, `t2`の取りうる範囲を`AT[n1, m, k1], AT[n2, m, k2]`のように記述しています。\n",
    "このようにすることで$t_1 \\in \\mathrm{AT}_{n1, m, k1}, t_2 \\in \\mathrm{AT}_{n2, m, k2}$を表現しています。 -->\n",
    "\n",
    "`AT` is the starting time of processing requests, `max_AT` is the maximum value of `AT`, `N` is the number of requests, `M` is the number of ground resources, and `K` is the number of viewperiods.\n",
    "`su`, `dr`, and `td` are the setup time $\\Delta t^\\mathrm{su}$, tracking duration $\\Delta t^\\mathrm{dr}$, and teardown time $\\Delta t^\\mathrm{td}$ for each request, respectively.\n",
    "Also, we define binary variables `x` and the subscripts used to represent $x_{n, m, k, t}$ as `n1`, `n2`, `m`, `k1`, `k2`, `t1`, `t2`.\n",
    "The possible ranges of the subscripts `t1` and `t2` are described as `AT[n1, m, k1], AT[n2, m, k2]`.\n",
    "In other word, $t_1 \\in \\mathrm{AT}_{n1, m, k1}, t_2 \\in \\mathrm{AT}_{n2, m, k2}$.\n",
    "\n",
    "<!-- ### 問題の実装 -->\n",
    "\n",
    "### Implementation for DSN scheduling\n",
    "\n",
    "<!-- 次に、(1), (2)式の制約を実装しましょう。 -->\n",
    "\n",
    "Then, we implement eq.(1) and (2) as constraints."
   ]
  },
  {
   "cell_type": "code",
   "execution_count": 2,
   "metadata": {},
   "outputs": [],
   "source": [
    "# make problem\n",
    "problem = jm.Problem('Radio_telescope_scheduling')\n",
    "# set constraint 1: onehot constraint\n",
    "problem += jm.Constraint('onehot', jm.sum([m, k1, t1], x[n1, m, k1, t1])==1, forall=n1)\n",
    "# set constraint 2: avoid conflict\n",
    "problem += jm.Constraint('conflict', x[n1, m, k1, t1]*x[n2, m, k2, t2]==0, \n",
    "                         forall=[n1, (n2, n2!=n1), m, k1, k2, t1, \n",
    "                                 (t2, (t1-su[n1]<=t2-su[n2]) & (t2-su[n2]<=t1+dr[n1]+td[n1]) | ((t2-su[n2]<=t1-su[n1]) & (t1-su[n1]<=t2+dr[n2]+td[n2])))])"
   ]
  },
  {
   "cell_type": "markdown",
   "metadata": {},
   "source": [
    "<!-- (1)式における$\\sum_{m, k, t}$を、`sum([m, k, t], ...)`のように記述しています。\n",
    "次に(2)式の制約ですが、$n_1 \\neq n2$を除いて全ての$n_1, n2$の組み合わせを表現するために、`forall=[n1, (n2, n2!=n1)]`としています。\n",
    "そして$t_{n1} - \\mathrm{su}_{n1} \\leq t_{n2} - \\mathrm{su}_{n2} \\leq t_{n1} + \\mathrm{dr}_{n1} + \\mathrm{td}_{n1}$を、`forall=[t1, (t2, (t1-su[n1]<=t2-su[n2]) & (t2-su[n2]<=t1+dr[n1]+td[n1]))]`のように表現しています。\n",
    "ある添字に対して複数条件を課す場合、AND演算子`&`やOR演算子`|`を用いることが可能です。  \n",
    "Jupyter Notebook上であれば、ここまでで実装された数理モデルを確認することができます。 -->\n",
    "\n",
    "The $\\sum_{m, k, t}$ in equation (1) is written as `sum([m, k, t], ...) `.\n",
    "To represent all $n_1, n2$ combinations except $n_1 \\neq n2$ in equation (2), we use `forall=[n1, (n2, n2!=n1)]`.\n",
    "$t_{n1} - \\Delta t^\\mathrm{su}_{n1} \\leq t_{n2} - \\Delta t^\\mathrm{su}_{n2} \\leq t_{n1} + \\Delta t^\\mathrm{dr}_{n1} + \\Delta t^\\mathrm{td}_{n1}$ is then expressed as `forall=[t1, (t2, (t1-su[n1]<=t2-su[n2]) & (t2-su[n2]<=t1+dr[n1]+td[n1]))]` using AND operator.\n",
    "To impose multiple conditions on a given index, we can use AND operator `&` and OR operator `|`.  \n",
    "With Jupyter Notebook, we can check the mathematical model implemented."
   ]
  },
  {
   "cell_type": "code",
   "execution_count": 3,
   "metadata": {},
   "outputs": [
    {
     "data": {
      "text/latex": [
       "$$\\begin{array}{cccc}\\text{Problem:} & \\text{Radio\\_telescope\\_scheduling} & & \\\\& & \\min \\quad \\displaystyle 0 & \\\\\\text{{s.t.}} & & & \\\\ & \\text{conflict} & \\displaystyle x_{n1, m, k1, t1} \\cdot x_{n2, m, k2, t2} = 0 & \\forall n1 \\in \\left\\{0,\\ldots,N - 1\\right\\} \\forall n2 \\in \\left\\{n2 \\in \\left\\{0,\\ldots,N - 1\\right\\} \\mid n2 \\neq n1 \\right\\} \\forall m \\in \\left\\{0,\\ldots,M - 1\\right\\} \\forall k1 \\in \\left\\{0,\\ldots,K - 1\\right\\} \\forall k2 \\in \\left\\{0,\\ldots,K - 1\\right\\} \\forall t1 \\in AT_{n1, m, k1} \\forall t2 \\in \\left\\{t2 \\in AT_{n2, m, k2} \\mid t1 - su_{n1} \\leq t2 - su_{n2} \\land t2 - su_{n2} \\leq t1 + dr_{n1} + td_{n1} \\lor t2 - su_{n2} \\leq t1 - su_{n1} \\land t1 - su_{n1} \\leq t2 + dr_{n2} + td_{n2} \\right\\} \\\\ & \\text{onehot} & \\displaystyle \\sum_{m = 0}^{M - 1} \\sum_{k1 = 0}^{K - 1} \\sum_{t1 \\in AT_{n1, m, k1}} x_{n1, m, k1, t1} = 1 & \\forall n1 \\in \\left\\{0,\\ldots,N - 1\\right\\} \\\\\\text{{where}} & & & \\\\& x & 4\\text{-dim binary variable}\\\\\\end{array}$$"
      ],
      "text/plain": [
       "<jijmodeling.Problem at 0x1fcf040>"
      ]
     },
     "execution_count": 3,
     "metadata": {},
     "output_type": "execute_result"
    }
   ],
   "source": [
    "problem"
   ]
  },
  {
   "cell_type": "markdown",
   "metadata": {},
   "source": [
    "<!-- ### インスタンスの作成 -->\n",
    "\n",
    "### Creating an instance\n",
    "\n",
    "<!-- 実際に解く問題のインスタンスを生成しましょう。 -->\n",
    "\n",
    "Next, we create an instance."
   ]
  },
  {
   "cell_type": "code",
   "execution_count": 28,
   "metadata": {},
   "outputs": [],
   "source": [
    "import collections\n",
    "import numpy as np\n",
    "\n",
    "def flatten(l):\n",
    "    for el in l:\n",
    "        if isinstance(el, collections.abc.Iterable) and not isinstance(el, (str, bytes)):\n",
    "            yield from flatten(el)\n",
    "        else:\n",
    "            yield el\n",
    "\n",
    "# set the number of requests\n",
    "inst_N = 12\n",
    "# set a list of set up time period: su\n",
    "rng = np.random.default_rng(1234)\n",
    "inst_su = rng.normal(2.0, 0.5, inst_N)\n",
    "# set a list of track duration: dr\n",
    "inst_dr = rng.normal(2.0, 0.5, inst_N)\n",
    "# set a list of tear down time period: td\n",
    "inst_td = rng.normal(1.5, 0.5, inst_N)\n",
    "# set a array of transmission-on time: tn\n",
    "inst_tn = np.array([[0, 6, 12, 18], [2, 8, 14, 20], [4, 10, 16, 22]])\n",
    "# set a array of transmission-off time: tf\n",
    "inst_tf = np.array([[4, 10, 16, 22], [6, 12, 18, 24], [8, 14, 20, 26]])\n",
    "# get the number of resources and viewperiods\n",
    "inst_M = inst_tn.shape[0]\n",
    "inst_K = inst_tn.shape[1]\n",
    "# compute a array of available time tn ≤ t ≤ tf - dr\n",
    "inst_available = []\n",
    "for n in range(inst_N):\n",
    "    inst_available.append([])\n",
    "    for i in range(inst_M):\n",
    "        inst_available[n].append([])\n",
    "        for j in range(inst_tf.shape[1]):\n",
    "            inst_available[n][i].append(list(range(inst_tn[i, j], np.floor(inst_tf[i, j]-inst_dr[n]).astype(int))))\n",
    "# compute max(available time)\n",
    "inst_max_available = np.amax(list(flatten(inst_available))) + 1\n",
    "instance_data = {'AT': inst_available, 'su': inst_su, 'dr': inst_dr, 'td': inst_td, 'max_AT': inst_max_available, 'N': inst_N, 'M': inst_M, 'K': inst_K}"
   ]
  },
  {
   "cell_type": "markdown",
   "metadata": {},
   "source": [
    "<!-- ### JijZeptによる求解 -->\n",
    "\n",
    "### Solving with JijZept\n",
    "\n",
    "<!-- JijZeptのシミュレーテッド・アニーリング機能を用いて、先程実装した問題を解きます。 -->\n",
    "\n",
    "We solve this problem using simulated annealing approach with JijZept."
   ]
  },
  {
   "cell_type": "code",
   "execution_count": 29,
   "metadata": {},
   "outputs": [],
   "source": [
    "import jijzept as jz\n",
    "\n",
    "# set sampler\n",
    "sampler = jz.JijSASampler(config='../config.toml')\n",
    "# set multipliers\n",
    "multipliers = {'onehot': 1.0, 'conflict': 1.0}\n",
    "# solve problem\n",
    "results = sampler.sample_model(problem, instance_data, search=True, num_reads=100)"
   ]
  },
  {
   "cell_type": "markdown",
   "metadata": {},
   "source": [
    "<!-- ### 結果の可視化 -->\n",
    "\n",
    "### Visualizing a solution\n",
    "\n",
    "<!-- 計算結果から実行可能解を抽出し、その解を可視化してみましょう。 -->\n",
    "\n",
    "We extract a feasible solution from the annealing results and visualize it."
   ]
  },
  {
   "cell_type": "code",
   "execution_count": 30,
   "metadata": {},
   "outputs": [
    {
     "name": "stderr",
     "output_type": "stream",
     "text": [
      "/tmp/ipykernel_2795/509883123.py:6: DeprecationWarning: elementwise comparison failed; this will raise an error in the future.\n",
      "  if feasibles.evaluation.objective == []:\n"
     ]
    },
    {
     "data": {
      "image/png": "[encoded data removed]",
      "text/plain": [
       "<Figure size 640x480 with 1 Axes>"
      ]
     },
     "metadata": {},
     "output_type": "display_data"
    }
   ],
   "source": [
    "import matplotlib.pyplot as plt\n",
    "import matplotlib.ticker as ticker\n",
    "\n",
    "# get feasible solutions\n",
    "feasibles = results.feasible()\n",
    "if feasibles.evaluation.objective == []:\n",
    "    print('No feasibles solution')\n",
    "else:\n",
    "    # extract indices for x_{n, m, k, t} = 1 \n",
    "    n_indices = feasibles.record.solution['x'][0][0][0]\n",
    "    m_indices = feasibles.record.solution['x'][0][0][1]\n",
    "    k_indices = feasibles.record.solution['x'][0][0][2]\n",
    "    t_indices = feasibles.record.solution['x'][0][0][3]\n",
    "    # make plot\n",
    "    fig, ax = plt.subplots()\n",
    "    # set x- and y-axis\n",
    "    ax.set_xlabel(\"Time\")\n",
    "    ax.set_yticks(range(inst_M))\n",
    "    ax.set_yticklabels([\"Resource {}\".format(m) for m in range(inst_M)])\n",
    "    ax.get_xaxis().set_major_locator(ticker.MaxNLocator(integer=True))\n",
    "    # make bar plot for transmission using broken_barh\n",
    "    for n, m, k, t in zip(n_indices, m_indices, k_indices, t_indices):\n",
    "        ax.broken_barh([(t, inst_dr[n])], (m-0.5, 1), color=\"dodgerblue\")\n",
    "        ax.broken_barh([(t-inst_su[n], inst_su[n])], (m-0.5, 1), color=\"gold\")\n",
    "        ax.broken_barh([(t+inst_dr[n], inst_td[n])], (m-0.5, 1), color=\"violet\")\n",
    "    # make bar plot for available time\n",
    "    for m, (list_tn, list_tf) in enumerate(zip(inst_tn, inst_tf)):\n",
    "        for tn, tf in zip(list_tn, list_tf):\n",
    "            ax.broken_barh([(tn, tf-tn-1)], (m-0.5, 1), color=\"lightgray\", alpha=0.4)\n",
    "    # make legend\n",
    "    ax.scatter([], [], color=\"lightgray\", label=\"Transimission available\", marker=\"s\")\n",
    "    ax.scatter([], (), color=\"dodgerblue\", label=\"Tracking\", marker=\"s\")\n",
    "    ax.scatter([], (), color=\"gold\", label=\"Set up\", marker=\"s\")\n",
    "    ax.scatter([], (), color=\"violet\", label=\"Tear down\", marker=\"s\")\n",
    "    ax.legend(bbox_to_anchor=(1.45, 1.0))\n",
    "    # show plot\n",
    "    plt.show()        "
   ]
  },
  {
   "cell_type": "markdown",
   "metadata": {},
   "source": [
    "<!-- 灰色部分は、それぞれのリソースが衛星と通信可能な時間帯を表します。\n",
    "青色は衛星との通信を実行しているトラッキング時間です。\n",
    "黄色とマゼンタ色はそれぞれ、通信前のセットアップ時間と、通信後のティアダウン時間を表現しています。\n",
    "全てのトラッキング時間が、灰色の通信可能時間帯に重なっていることがわかります。 -->\n",
    "\n",
    "The gray regions indicate the times when each resource can communicate with the satellite.\n",
    "The blue bands represent the tracking.\n",
    "The yellow and magenta colors represent the setup time and teardown time for each request, respectively.\n",
    "We can see that all tracking durations overlap the gray communication available time."
   ]
  },
  {
   "cell_type": "markdown",
   "metadata": {},
   "source": [
    "<!-- ## 参考文献 -->\n",
    "\n",
    "## References\n",
    "\n",
    "* [Guillaume et al., 2022, \"Deep Space Network Scheduling Using Quantum Annealing\"](https://ieeexplore.ieee.org/document/9863923)  \n",
    "* [Event Horizon Telescope](https://eventhorizontelescope.org/)  "
   ]
  },
  {
   "cell_type": "markdown",
   "metadata": {},
   "source": []
  }
 ],
 "metadata": {
  "kernelspec": {
   "display_name": ".venv",
   "language": "python",
   "name": "python3"
  },
  "language_info": {
   "codemirror_mode": {
    "name": "ipython",
    "version": 3
   },
   "file_extension": ".py",
   "mimetype": "text/x-python",
   "name": "python",
   "nbconvert_exporter": "python",
   "pygments_lexer": "ipython3",
   "version": "3.9.5"
  },
  "vscode": {
   "interpreter": {
    "hash": "d8bb8d8f316256c93cd9d893faf7cf943ba8f6c0b9f3d1c8a75ecb1cf0541374"
   }
  }
 },
 "nbformat": 4,
 "nbformat_minor": 4
}
