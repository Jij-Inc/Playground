{
 "cells": [
  {
   "cell_type": "markdown",
   "metadata": {},
   "source": [
    "--- \n",
    "description: Here we show how to solve the set cover problem using JijZept and JijModeling.\n",
    "---"
   ]
  },
  {
   "attachments": {},
   "cell_type": "markdown",
   "metadata": {},
   "source": [
    "# Set Cover\n",
    "\n",
    "Here we show how to solve the set cover problem using JijZept and JijModeling. \n",
    "This problem is also mentioned in 5.1. Set Cover on [Lucas, 2014, \"Ising formulations of many NP problems\"](https://www.frontiersin.org/articles/10.3389/fphy.2014.00005/full)."
   ]
  },
  {
   "attachments": {},
   "cell_type": "markdown",
   "metadata": {},
   "source": [
    "## What is Set Cover?\n",
    "\n",
    "We consider a set $U = \\{1,...,M\\}$, and subsets $V_i \\subseteq U (i = 1,...,N)$\n",
    "such that\n",
    "$$\n",
    "U = \\bigcup_{i} V_i\n",
    "$$\n",
    "The set covering problem is to find the smallest possible number of $V_i$ s, such that the union of them is equal to $U$.\n",
    "This is a generalization of the exact covering problem, where we do not care if some $\\alpha \\in U$ shows up in multiple sets $V_i$"
   ]
  },
  {
   "attachments": {},
   "cell_type": "markdown",
   "metadata": {},
   "source": [
    "## Mathematical model\n",
    "\n",
    "Let $x_i$ be a binary variable that takes on the value 1 if subset $V_i$ is selected, and 0 otherwise. \n",
    "\n",
    "**Constraint: each element in $U$ appears in at least one selected subset**\n",
    "\n",
    "This can be expressed as following using $V$ where it represents a mapping from a subset $i$ to a set of elements $j$ that it contains.\n",
    "$$\n",
    "\\sum_{i=1}^N x_i \\cdot V_{i, j} \\geq 1 \\text{ for } j = 1, \\ldots, M\n",
    "\\tag{1}\n",
    "$$\n"
   ]
  },
  {
   "cell_type": "markdown",
   "metadata": {},
   "source": [
    "## Modeling by JijModeling"
   ]
  },
  {
   "cell_type": "markdown",
   "metadata": {},
   "source": [
    "Next, we show how to implement above equation using JijModeling. We first define variables for the mathematical model described above."
   ]
  },
  {
   "cell_type": "code",
   "execution_count": 1,
   "metadata": {},
   "outputs": [],
   "source": [
    "import jijmodeling as jm\n",
    "\n",
    "# define variables\n",
    "N = jm.Placeholder('N')\n",
    "M = jm.Placeholder('M')\n",
    "V = jm.Placeholder('V', ndim=2)\n",
    "x = jm.BinaryVar('x', shape=(N,))\n",
    "i = jm.Element('i', belong_to=N)\n",
    "j = jm.Element('j', belong_to=M)"
   ]
  },
  {
   "attachments": {},
   "cell_type": "markdown",
   "metadata": {},
   "source": [
    "We use the same variables in the exact cover problem."
   ]
  },
  {
   "cell_type": "code",
   "execution_count": 2,
   "metadata": {},
   "outputs": [],
   "source": [
    "# set problem\n",
    "problem = jm.Problem('Set Cover')\n",
    "# set constraint: each element j must be in exactly one subset i\n",
    "problem += jm.Constraint('onehot', jm.sum(i, x[i]*V[i, j]) >= 1, forall=j)"
   ]
  },
  {
   "cell_type": "markdown",
   "metadata": {},
   "source": [
    "We can check the implementation of the mathematical model on the Jupyter Notebook."
   ]
  },
  {
   "cell_type": "code",
   "execution_count": 3,
   "metadata": {},
   "outputs": [
    {
     "data": {
      "text/latex": [
       "$$\\begin{array}{cccc}\\text{Problem:} & \\text{Set Cover} & & \\\\& & \\min \\quad \\displaystyle 0 & \\\\\\text{{s.t.}} & & & \\\\ & \\text{onehot} & \\displaystyle \\sum_{i = 0}^{N - 1} x_{i} \\cdot V_{i, j} \\geq 1 & \\forall j \\in \\left\\{0,\\ldots,M - 1\\right\\} \\\\\\text{{where}} & & & \\\\& x & 1\\text{-dim binary variable}\\\\\\end{array}$$"
      ],
      "text/plain": [
       "<jijmodeling.Problem at 0x2c61840>"
      ]
     },
     "execution_count": 3,
     "metadata": {},
     "output_type": "execute_result"
    }
   ],
   "source": [
    "problem"
   ]
  },
  {
   "attachments": {},
   "cell_type": "markdown",
   "metadata": {},
   "source": [
    "## Prepare an instance\n",
    "\n",
    "We prepare as below."
   ]
  },
  {
   "cell_type": "code",
   "execution_count": 4,
   "metadata": {},
   "outputs": [],
   "source": [
    "import numpy as np\n",
    "\n",
    "# set a list of V\n",
    "V_1 = [1, 2, 3]\n",
    "V_2 = [4, 5]\n",
    "V_3 = [5, 6, 7]\n",
    "V_4 = [3, 5, 7]\n",
    "V_5 = [2, 5, 7]\n",
    "V_6 = [3, 6, 7]\n",
    "\n",
    "# set the number of Nodes\n",
    "inst_N = 6\n",
    "inst_M = 7\n",
    "\n",
    "# Convert the list of lists into a NumPy array\n",
    "inst_V = np.zeros((inst_N, inst_M))\n",
    "for i, subset in enumerate([V_1, V_2, V_3, V_4, V_5, V_6]):\n",
    "    for j in subset:\n",
    "        inst_V[i, j-1] = 1  # -1 since element indices start from 1 in the input data\n",
    "\n",
    "instance_data = {'V': inst_V, 'M': inst_M, 'N': inst_N}"
   ]
  },
  {
   "attachments": {},
   "cell_type": "markdown",
   "metadata": {},
   "source": [
    "## Solve by JijZept's SA\n",
    "\n",
    "We solve this problem using JijZept `JijSASampler`. We also use the parameter search function by setting `search=True`."
   ]
  },
  {
   "cell_type": "code",
   "execution_count": 5,
   "metadata": {},
   "outputs": [],
   "source": [
    "import jijzept as jz\n",
    "\n",
    "# set sampler\n",
    "config_path = \"../../../config.toml\"\n",
    "sampler = jz.JijSASampler(config=config_path)\n",
    "# solve problem\n",
    "response = sampler.sample_model(problem, instance_data, multipliers={\"onehot\": 0.5}, num_reads=100, search=True)"
   ]
  },
  {
   "attachments": {},
   "cell_type": "markdown",
   "metadata": {},
   "source": [
    "##  Check the solution\n",
    "\n",
    "In the end, we extract the solution from the feasible solutions."
   ]
  },
  {
   "cell_type": "code",
   "execution_count": 7,
   "metadata": {},
   "outputs": [
    {
     "name": "stdout",
     "output_type": "stream",
     "text": [
      "V_6 = [3 6 7]\n",
      "V_2 = [4 5]\n",
      "V_1 = [1 2 3]\n",
      "V_3 = [5 6 7]\n"
     ]
    }
   ],
   "source": [
    "# get sampleset\n",
    "sampleset = response.get_sampleset()\n",
    "# extrace feasible samples\n",
    "feasible_samples = sampleset.feasibles()\n",
    "# get a solution \n",
    "solution = feasible_samples[0].var_values[\"x\"].values\n",
    "# get the indices of x == 1\n",
    "x_indices = [key[0] for key in solution.keys()]\n",
    "for i in x_indices:\n",
    "    print(f\"V_{i+1} = {inst_V[i, :].nonzero()[0]+1}\")"
   ]
  },
  {
   "attachments": {},
   "cell_type": "markdown",
   "metadata": {},
   "source": [
    "With the above calculation, we obtain a the result."
   ]
  }
 ],
 "metadata": {
  "kernelspec": {
   "display_name": ".venv",
   "language": "python",
   "name": "python3"
  },
  "language_info": {
   "codemirror_mode": {
    "name": "ipython",
    "version": 3
   },
   "file_extension": ".py",
   "mimetype": "text/x-python",
   "name": "python",
   "nbconvert_exporter": "python",
   "pygments_lexer": "ipython3",
   "version": "3.9.5"
  },
  "vscode": {
   "interpreter": {
    "hash": "d8bb8d8f316256c93cd9d893faf7cf943ba8f6c0b9f3d1c8a75ecb1cf0541374"
   }
  }
 },
 "nbformat": 4,
 "nbformat_minor": 4
}
