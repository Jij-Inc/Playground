{
 "cells": [
  {
   "cell_type": "markdown",
   "metadata": {},
   "source": [
    "# 巡回セールスマン問題\n",
    "\n",
    "巡回セールスマン問題（Traveling Salesperson Problem (TSP)）とは、都市の集合と都市間の移動コストが与えられたとき、全ての都市をちょうど一度ずつ訪れて出発地に戻る閉路で、移動コストの総和が最小となるようなものを求める問題です。\n",
    "\n",
    "応用例としては、配達員が複数の住宅を訪問する際の最適な順序を求める問題などがあります。\n",
    "\n",
    "↓ 巡回セールスマン問題のイメージ図  \n",
    "![TSP](./assets/tsp_topimage.png)\n"
   ]
  },
  {
   "cell_type": "markdown",
   "metadata": {},
   "source": [
    "巡回セールスマン問題を数理最適化で解く方法はいくつかありますが、ここでは二次割り当て問題として定式化し、JijZeptで解く方法を紹介します。\n",
    "\n",
    "## 二次割り当て問題としての定式化\n",
    "\n",
    "巡回セールスマン問題は、都市$i$から都市$j$に移動する際のコストを$d_{ij}$としたとき、そのコストを元に最小距離となる巡回路（tour）を求める問題として定式化できます。\n",
    "\n",
    "つまり決定変数は巡回路を表すように設計する必要があります。ここでは都市$i$を順序$t$番目に回るときに1、そうでないときに0とする変数$x_{it}$を導入します。\n",
    "\n",
    "$$\n",
    "x_{i,t} = \\begin{cases}\n",
    "1~\\text{the salesman visits $t$-th city $i$,}\\\\\n",
    "0~\\text{otherwise}\\\\\n",
    "\\end{cases}\n",
    "$$\n",
    "\n",
    "このとき、決定変数が巡回路を表現するには、以下の制約条件が必要です。\n",
    "\n",
    "### 制約条件\n",
    "\n",
    "1. 全ての都市をちょうど一度ずつ訪れる\n",
    "$$\n",
    "\\sum_{t=1}^{N} x_{it} = 1, \\quad \\forall i\n",
    "$$\n",
    "\n",
    "2. 同じ都市には2回以上訪れない\n",
    "$$\n",
    "\\sum_{i=1}^{N} x_{it} = 1, \\quad \\forall t\n",
    "$$\n",
    "\n",
    "\n",
    "![](../assets/tsp_variable.png)\n",
    "\n",
    "### 目的関数\n",
    "\n",
    "目的関数は、全ての都市を訪れるためのコストを最小化するように設計します。\n",
    "\n",
    "$$\n",
    "\\sum_{i,j,t} d_{i, j}x_{i, t}x_{j, (t+1)\\mod N}\n",
    "$$\n",
    "\n",
    "ただし、$N$は都市の数です。\"$\\mod N$\" によって経路の最後の都市から最初の都市に戻るときの距離を考慮しています。"
   ]
  },
  {
   "cell_type": "markdown",
   "metadata": {},
   "source": [
    "## JijModelingでのモデリング"
   ]
  },
  {
   "cell_type": "code",
   "execution_count": 25,
   "metadata": {},
   "outputs": [],
   "source": [
    "import jijmodeling as jm\n",
    "\n",
    "# define variables\n",
    "d = jm.Placeholder('d', ndim=2)\n",
    "N = d.len_at(0, latex=\"N\")\n",
    "i = jm.Element('i', belong_to=(0, N))\n",
    "j = jm.Element('j', belong_to=(0, N))\n",
    "t = jm.Element('t', belong_to=(0, N))\n",
    "x = jm.BinaryVar('x', shape=(N, N))"
   ]
  },
  {
   "cell_type": "code",
   "execution_count": 26,
   "metadata": {},
   "outputs": [],
   "source": [
    "# set problem\n",
    "problem = jm.Problem('TSP')\n",
    "problem += jm.sum([i, j], d[i, j] * jm.sum(t, x[i, t]*x[j, (t+1) % N]))\n",
    "problem += jm.Constraint(\"one-city\", x[:, t].sum() == 1, forall=t)\n",
    "problem += jm.Constraint(\"one-time\", x[i, :].sum() == 1, forall=i)"
   ]
  },
  {
   "cell_type": "code",
   "execution_count": 27,
   "metadata": {},
   "outputs": [
    {
     "data": {
      "text/latex": [
       "$$\\begin{array}{cccc}\\text{Problem:} & \\text{TSP} & & \\\\& & \\min \\quad \\displaystyle \\sum_{i = 0}^{N - 1} \\sum_{j = 0}^{N - 1} d_{i, j} \\cdot \\sum_{t = 0}^{N - 1} x_{i, t} \\cdot x_{j, \\left(t + 1\\right) \\bmod N} & \\\\\\text{{s.t.}} & & & \\\\ & \\text{one-city} & \\displaystyle \\sum_{\\ast_{0} = 0}^{N - 1} x_{\\ast_{0}, t} = 1 & \\forall t \\in \\left\\{0,\\ldots,N - 1\\right\\} \\\\ & \\text{one-time} & \\displaystyle \\sum_{\\ast_{1} = 0}^{N - 1} x_{i, \\ast_{1}} = 1 & \\forall i \\in \\left\\{0,\\ldots,N - 1\\right\\} \\\\\\text{{where}} & & & \\\\& x & 2\\text{-dim binary variable}\\\\\\end{array}$$"
      ],
      "text/plain": [
       "<jijmodeling.Problem at 0x55d0545ce0a0>"
      ]
     },
     "execution_count": 27,
     "metadata": {},
     "output_type": "execute_result"
    }
   ],
   "source": [
    "problem"
   ]
  },
  {
   "cell_type": "markdown",
   "metadata": {},
   "source": [
    "## データの用意\n",
    "\n",
    "回セールスマン問題のデータとして、都市の座標を用意します。ここでは、ランダムに生成した都市の座標を使用します。"
   ]
  },
  {
   "cell_type": "code",
   "execution_count": 46,
   "metadata": {},
   "outputs": [
    {
     "data": {
      "image/png": "[encoded data removed]",
      "text/plain": [
       "<Figure size 640x480 with 1 Axes>"
      ]
     },
     "metadata": {},
     "output_type": "display_data"
    }
   ],
   "source": [
    "import numpy as np\n",
    "import matplotlib.pyplot as plt\n",
    "\n",
    "def tsp_distance(n: int):\n",
    "    \"\"\"\n",
    "    Args:\n",
    "        n (int): number of cities\n",
    "    Returns:\n",
    "        tuple[np.ndarray, tuple[np.ndarray, np.ndarray]]: distance matrix, (position x, position y)\n",
    "    \"\"\"\n",
    "    x = np.random.uniform(0, 1, n)\n",
    "    y = np.random.uniform(0, 1, n)\n",
    "    XX, YY = np.meshgrid(x, y)\n",
    "    distance = np.sqrt((XX - XX.T)**2 + (YY - YY.T)**2)\n",
    "    return distance, (x, y)\n",
    "\n",
    "\n",
    "num_city = 15\n",
    "distance, XY = tsp_distance(num_city)\n",
    "plt.scatter(*XY)\n",
    "plt.show()"
   ]
  },
  {
   "cell_type": "markdown",
   "metadata": {},
   "source": [
    "## JijZeptを使って最適化問題を解く\n",
    "\n",
    "JijZeptを使って最適化問題を解いてみましょう。"
   ]
  },
  {
   "cell_type": "code",
   "execution_count": 53,
   "metadata": {},
   "outputs": [
    {
     "name": "stdout",
     "output_type": "stream",
     "text": [
      "Number of all Solutions:  1500\n",
      "Number of Feasible Solutions:  1445\n"
     ]
    }
   ],
   "source": [
    "import jijzept as jz\n",
    "\n",
    "\n",
    "def solve_tsp(distance, problem):\n",
    "\n",
    "    instance_data = {\"d\": distance}\n",
    "\n",
    "    # set sampler\n",
    "    sampler = jz.JijSASampler(config=\"config.toml\")\n",
    "    parameters = jz.JijSAParameters(num_reads=100, num_sweeps=2000)\n",
    "    # solve problem\n",
    "    response = sampler.sample_model(problem, instance_data, parameters=parameters, search=True)\n",
    "\n",
    "    results = response.get_sampleset()\n",
    "\n",
    "    feas_results = results.feasibles()\n",
    "    print(\"Number of all Solutions: \", len(results))\n",
    "    print(\"Number of Feasible Solutions: \", len(feas_results))\n",
    "\n",
    "    lowest_solution = feas_results.lowest()\n",
    "    x_value = lowest_solution[0].var_values['x'].values\n",
    "\n",
    "    tour = np.zeros(num_city+1, dtype=int)\n",
    "    for _i, t in x_value.keys():\n",
    "        tour[t] = _i\n",
    "    tour[-1] = tour[0]\n",
    "    return tour, lowest_solution\n",
    "\n",
    "tour, lowest_solution = solve_tsp(distance, problem)"
   ]
  },
  {
   "cell_type": "code",
   "execution_count": 54,
   "metadata": {},
   "outputs": [
    {
     "data": {
      "image/png": "[encoded data removed]",
      "text/plain": [
       "<Figure size 640x480 with 1 Axes>"
      ]
     },
     "metadata": {},
     "output_type": "display_data"
    }
   ],
   "source": [
    "def plot_tour(tour, XY):\n",
    "    # Plot tour\n",
    "    plt.scatter(*XY)\n",
    "    plt.plot(XY[0][tour], XY[1][tour], 'r-')\n",
    "    # labeling the cities\n",
    "    for _i, (_x, _y) in enumerate(zip(*XY)):\n",
    "        plt.text(_x, _y, str(_i))\n",
    "plot_tour(tour, XY)\n",
    "plt.show()"
   ]
  },
  {
   "cell_type": "code",
   "execution_count": 55,
   "metadata": {},
   "outputs": [
    {
     "name": "stdout",
     "output_type": "stream",
     "text": [
      "Objective: 3.32869809577184\n"
     ]
    }
   ],
   "source": [
    "print(\"Objective:\", lowest_solution[0].eval.objective)"
   ]
  },
  {
   "cell_type": "code",
   "execution_count": null,
   "metadata": {},
   "outputs": [],
   "source": []
  }
 ],
 "metadata": {
  "kernelspec": {
   "display_name": "Python 3",
   "language": "python",
   "name": "python3"
  },
  "language_info": {
   "codemirror_mode": {
    "name": "ipython",
    "version": 3
   },
   "file_extension": ".py",
   "mimetype": "text/x-python",
   "name": "python",
   "nbconvert_exporter": "python",
   "pygments_lexer": "ipython3",
   "version": "3.10.12"
  }
 },
 "nbformat": 4,
 "nbformat_minor": 2
}
