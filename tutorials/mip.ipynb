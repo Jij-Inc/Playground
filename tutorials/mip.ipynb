{
 "cells": [
  {
   "cell_type": "markdown",
   "metadata": {},
   "source": [
    "--- \n",
    "description: JijModeling can read mathematical models and their instances defined in MPS files.\n",
    "pagination_next: null\n",
    "---"
   ]
  },
  {
   "cell_type": "markdown",
   "metadata": {},
   "source": [
    "<!-- # MPS形式のデータ読み込み -->\n",
    "\n",
    "# Data Loader for MPS format files\n",
    "\n",
    "<!-- [Mathematical Programming System (MPS)](https://www.ibm.com/docs/en/icos/22.1.1?topic=cplex-mps-file-format-industry-standard)は線形計画問題や混合整数計画問題で用いられるファイル形式の一つです。\n",
    "JijModelingは[MPS](https://www.ibm.com/docs/en/icos/22.1.1?topic=cplex-mps-file-format-industry-standard)ファイルに定義されている数理モデルとそのインスタンスを読み込む機能を持ちます。\n",
    "以下ではその簡単な利用方法をご紹介します。 -->\n",
    "\n",
    "[Mathematical Programming System (MPS)](https://www.ibm.com/docs/en/icos/22.1.1?topic=cplex-mps-file-format-industry-standard) is one of the file formats used in linear programming (LP) and mixed-integer programming (MIP) problems.\n",
    "JijModeling can read mathematical models and their instances defined in [MPS files](https://www.ibm.com/docs/en/icos/22.1.1?topic=cplex-mps-file-format-industry-standard).\n",
    "We describe a brief use of a function for [MPS files](https://www.ibm.com/docs/en/icos/22.1.1?topic=cplex-mps-file-format-industry-standard)."
   ]
  },
  {
   "cell_type": "markdown",
   "metadata": {},
   "source": [
    "<!-- ## MIPLIBデータセットの取得 -->\n",
    "\n",
    "## Getting MIPLIB Dataset\n",
    "\n",
    "<!-- ここでは以下のようにして、[MIPLIB benchmark set](https://miplib.zib.de/tag_benchmark.html)を取得してみましょう。 -->\n",
    "\n",
    "We can get MIPLIB benchmark set as follows: "
   ]
  },
  {
   "cell_type": "code",
   "execution_count": 1,
   "metadata": {},
   "outputs": [],
   "source": [
    "import jijmodeling.dataset\n",
    "\n",
    "miplib = jijmodeling.dataset.Miplib()"
   ]
  },
  {
   "cell_type": "markdown",
   "metadata": {},
   "source": [
    "<!-- `instance_statistics`を用いることで、[MIPLIB benchmark set](https://miplib.zib.de/tag_benchmark.html)の統計データを取得することができます。\n",
    "制約数やバイナリ変数の数、整数変数の数などの情報の閲覧が可能です。\n",
    "ここでは、連続変数の数が0個、そして制約の数が500個未満のデータのみを表示しています。 -->\n",
    "\n",
    "We can also use `instance_statistics` to obtain statistics on [MIPLIB benchmark set](https://miplib.zib.de/tag_benchmark.html).\n",
    "We check information such as the number of constraints, the number of binary variables, and the number of integer variables.\n",
    "Here, only data with zero number of continuous variables and less than 500 constraints are displayed."
   ]
  },
  {
   "cell_type": "code",
   "execution_count": 2,
   "metadata": {},
   "outputs": [
    {
     "data": {
      "text/html": [
       "<div>\n",
       "<style scoped>\n",
       "    .dataframe tbody tr th:only-of-type {\n",
       "        vertical-align: middle;\n",
       "    }\n",
       "\n",
       "    .dataframe tbody tr th {\n",
       "        vertical-align: top;\n",
       "    }\n",
       "\n",
       "    .dataframe thead th {\n",
       "        text-align: right;\n",
       "    }\n",
       "</style>\n",
       "<table border=\"1\" class=\"dataframe\">\n",
       "  <thead>\n",
       "    <tr style=\"text-align: right;\">\n",
       "      <th></th>\n",
       "      <th>variable</th>\n",
       "      <th>constraint</th>\n",
       "      <th>binary</th>\n",
       "      <th>integer</th>\n",
       "      <th>continuous</th>\n",
       "      <th>non_zero</th>\n",
       "    </tr>\n",
       "  </thead>\n",
       "  <tbody>\n",
       "    <tr>\n",
       "      <th>proteindesign122trx11p8</th>\n",
       "      <td>127326</td>\n",
       "      <td>254</td>\n",
       "      <td>127248</td>\n",
       "      <td>78</td>\n",
       "      <td>0</td>\n",
       "      <td>503427</td>\n",
       "    </tr>\n",
       "    <tr>\n",
       "      <th>neos859080</th>\n",
       "      <td>160</td>\n",
       "      <td>164</td>\n",
       "      <td>80</td>\n",
       "      <td>80</td>\n",
       "      <td>0</td>\n",
       "      <td>1280</td>\n",
       "    </tr>\n",
       "    <tr>\n",
       "      <th>gen-ip002</th>\n",
       "      <td>41</td>\n",
       "      <td>24</td>\n",
       "      <td>0</td>\n",
       "      <td>41</td>\n",
       "      <td>0</td>\n",
       "      <td>922</td>\n",
       "    </tr>\n",
       "    <tr>\n",
       "      <th>neos-2657525-crna</th>\n",
       "      <td>524</td>\n",
       "      <td>342</td>\n",
       "      <td>129</td>\n",
       "      <td>395</td>\n",
       "      <td>0</td>\n",
       "      <td>1690</td>\n",
       "    </tr>\n",
       "    <tr>\n",
       "      <th>irp</th>\n",
       "      <td>20315</td>\n",
       "      <td>39</td>\n",
       "      <td>20315</td>\n",
       "      <td>0</td>\n",
       "      <td>0</td>\n",
       "      <td>98254</td>\n",
       "    </tr>\n",
       "    <tr>\n",
       "      <th>enlight_hard</th>\n",
       "      <td>200</td>\n",
       "      <td>100</td>\n",
       "      <td>100</td>\n",
       "      <td>100</td>\n",
       "      <td>0</td>\n",
       "      <td>560</td>\n",
       "    </tr>\n",
       "    <tr>\n",
       "      <th>nw04</th>\n",
       "      <td>87482</td>\n",
       "      <td>36</td>\n",
       "      <td>87482</td>\n",
       "      <td>0</td>\n",
       "      <td>0</td>\n",
       "      <td>636666</td>\n",
       "    </tr>\n",
       "    <tr>\n",
       "      <th>gen-ip054</th>\n",
       "      <td>30</td>\n",
       "      <td>27</td>\n",
       "      <td>0</td>\n",
       "      <td>30</td>\n",
       "      <td>0</td>\n",
       "      <td>532</td>\n",
       "    </tr>\n",
       "    <tr>\n",
       "      <th>eilA101-2</th>\n",
       "      <td>65832</td>\n",
       "      <td>100</td>\n",
       "      <td>0</td>\n",
       "      <td>65832</td>\n",
       "      <td>0</td>\n",
       "      <td>959373</td>\n",
       "    </tr>\n",
       "    <tr>\n",
       "      <th>eil33-2</th>\n",
       "      <td>4516</td>\n",
       "      <td>32</td>\n",
       "      <td>0</td>\n",
       "      <td>4516</td>\n",
       "      <td>0</td>\n",
       "      <td>44243</td>\n",
       "    </tr>\n",
       "    <tr>\n",
       "      <th>proteindesign121hz512p9</th>\n",
       "      <td>159145</td>\n",
       "      <td>301</td>\n",
       "      <td>159054</td>\n",
       "      <td>91</td>\n",
       "      <td>0</td>\n",
       "      <td>629449</td>\n",
       "    </tr>\n",
       "    <tr>\n",
       "      <th>air05</th>\n",
       "      <td>7195</td>\n",
       "      <td>426</td>\n",
       "      <td>7195</td>\n",
       "      <td>0</td>\n",
       "      <td>0</td>\n",
       "      <td>52121</td>\n",
       "    </tr>\n",
       "    <tr>\n",
       "      <th>supportcase18</th>\n",
       "      <td>13410</td>\n",
       "      <td>240</td>\n",
       "      <td>13410</td>\n",
       "      <td>0</td>\n",
       "      <td>0</td>\n",
       "      <td>28920</td>\n",
       "    </tr>\n",
       "    <tr>\n",
       "      <th>neos-3381206-awhea</th>\n",
       "      <td>2375</td>\n",
       "      <td>479</td>\n",
       "      <td>475</td>\n",
       "      <td>1900</td>\n",
       "      <td>0</td>\n",
       "      <td>4275</td>\n",
       "    </tr>\n",
       "  </tbody>\n",
       "</table>\n",
       "</div>"
      ],
      "text/plain": [
       "                         variable  constraint  binary  integer  continuous  \\\n",
       "proteindesign122trx11p8    127326         254  127248       78           0   \n",
       "neos859080                    160         164      80       80           0   \n",
       "gen-ip002                      41          24       0       41           0   \n",
       "neos-2657525-crna             524         342     129      395           0   \n",
       "irp                         20315          39   20315        0           0   \n",
       "enlight_hard                  200         100     100      100           0   \n",
       "nw04                        87482          36   87482        0           0   \n",
       "gen-ip054                      30          27       0       30           0   \n",
       "eilA101-2                   65832         100       0    65832           0   \n",
       "eil33-2                      4516          32       0     4516           0   \n",
       "proteindesign121hz512p9    159145         301  159054       91           0   \n",
       "air05                        7195         426    7195        0           0   \n",
       "supportcase18               13410         240   13410        0           0   \n",
       "neos-3381206-awhea           2375         479     475     1900           0   \n",
       "\n",
       "                         non_zero  \n",
       "proteindesign122trx11p8    503427  \n",
       "neos859080                   1280  \n",
       "gen-ip002                     922  \n",
       "neos-2657525-crna            1690  \n",
       "irp                         98254  \n",
       "enlight_hard                  560  \n",
       "nw04                       636666  \n",
       "gen-ip054                     532  \n",
       "eilA101-2                  959373  \n",
       "eil33-2                     44243  \n",
       "proteindesign121hz512p9    629449  \n",
       "air05                       52121  \n",
       "supportcase18               28920  \n",
       "neos-3381206-awhea           4275  "
      ]
     },
     "execution_count": 2,
     "metadata": {},
     "output_type": "execute_result"
    }
   ],
   "source": [
    "import pandas as pd\n",
    "\n",
    "df = pd.DataFrame(miplib.instance_statistics).T\n",
    "df[(df[\"continuous\"]==0)&(df[\"constraint\"]<500)]"
   ]
  },
  {
   "cell_type": "markdown",
   "metadata": {},
   "source": [
    "<!-- ## MPS形式データの読み込み -->\n",
    "\n",
    "## Loading MPS format files\n",
    "\n",
    "<!-- 先ほど取得したデータセットの中から\"gen-ip002\"を読み込んでみましょう。\n",
    "それには`load`を用います。 -->\n",
    "\n",
    "We load \"gen-ip002\" from MIPLIB dataset."
   ]
  },
  {
   "cell_type": "code",
   "execution_count": 3,
   "metadata": {},
   "outputs": [],
   "source": [
    "problem, instance_data = miplib.load(\"gen-ip002\")"
   ]
  },
  {
   "cell_type": "markdown",
   "metadata": {},
   "source": [
    "<!-- この`load`は、[JijModelingの`Problem`](https://www.documentation.jijzept.com/docs/jijmodelingtranspiler/references/jijmodeling_transpiler/core/compile/compiled_model#class-problem)と、それに対応したインスタンスデータを戻り値として返します。そのため、Jupyter Notebook上であれば、実際にどのような数理モデルが読み込まれたかを確認することができます。 -->\n",
    "\n",
    "`load` returns [JijModeling `Problem`](https://www.documentation.jijzept.com/docs/jijmodelingtranspiler/references/jijmodeling_transpiler/core/compile/compiled_model#class-problem) and the corresponding instance data.  \n",
    "With Jupyter Notebook, we can check the mathematical model loaded."
   ]
  },
  {
   "cell_type": "code",
   "execution_count": 17,
   "metadata": {},
   "outputs": [
    {
     "data": {
      "text/latex": [
       "$$\\begin{array}{cccc}\\text{Problem:} & \\text{gen-ip002} & & \\\\& & \\min \\quad \\displaystyle \\sum_{i^I = 0}^{N^I - 1} c^I_{i^I} \\cdot x^I_{i^I} & \\\\\\text{{s.t.}} & & & \\\\ & \\text{Inequality constraint (<=)} & \\displaystyle \\sum_{i^I = 0}^{N^I - 1} a^{I\\le}_{j^\\le, i^I} \\cdot x^I_{i^I} \\leq b^\\le_{j^\\le} & \\forall j^\\le \\in \\left\\{0,\\ldots,M^\\le - 1\\right\\} \\\\\\text{{where}} & & & \\\\& x^I & 1\\text{-dim integer variable}& \\text{Integer variables}\\\\ & & \\text{lower bound: }l^I & \\\\ & & \\text{upper bound: }u^I & \\\\\\end{array}$$"
      ],
      "text/plain": [
       "<jijmodeling.Problem at 0x2304c00>"
      ]
     },
     "execution_count": 17,
     "metadata": {},
     "output_type": "execute_result"
    }
   ],
   "source": [
    "problem"
   ]
  },
  {
   "cell_type": "markdown",
   "metadata": {},
   "source": [
    "<!-- この問題を、JijZeptで解いてみましょう。 -->\n",
    "\n",
    "We solve this problem using JijZept."
   ]
  },
  {
   "cell_type": "code",
   "execution_count": null,
   "metadata": {},
   "outputs": [],
   "source": [
    "import jijzept as jz\n",
    "\n",
    "# set sampler\n",
    "sampler = jz.JijSASampler(config='../config.toml')\n",
    "# solve problem\n",
    "results = sampler.sample_model(problem, instance_data, search=True, num_reads=100)"
   ]
  },
  {
   "cell_type": "markdown",
   "metadata": {},
   "source": [
    "<!-- 出力された結果の中から、実行可能解を選び出しましょう。 -->\n",
    "\n",
    "We select feasible solutions from the output results."
   ]
  },
  {
   "cell_type": "code",
   "execution_count": 16,
   "metadata": {},
   "outputs": [
    {
     "name": "stdout",
     "output_type": "stream",
     "text": [
      "0.0\n"
     ]
    }
   ],
   "source": [
    "# get feasible solutions\n",
    "feasibles = results.feasible()\n",
    "if feasibles.evaluation.objective.size == 0:\n",
    "    print(\"No feasibles solution\")\n",
    "else:\n",
    "    feas_objs = feasibles.evaluation.objective\n",
    "    print(min(feas_objs))    "
   ]
  },
  {
   "cell_type": "markdown",
   "metadata": {},
   "source": [
    "<!-- JijModelingの機能を用いることで、[MIPLIBデータセット](https://miplib.zib.de/index.html)や外部出力された[MPSファイル](https://www.ibm.com/docs/en/icos/22.1.1?topic=cplex-mps-file-format-industry-standard)の読み込みをすることができます。 -->\n",
    "\n",
    "Using JijModeling function, it is possible to read in [MIPLIB data set](https://miplib.zib.de/index.html) and [MPS files](https://www.ibm.com/docs/en/icos/22.1.1?topic=cplex-mps-file-format-industry-standard)."
   ]
  },
  {
   "cell_type": "markdown",
   "metadata": {},
   "source": [
    "<!-- ## 参考文献 -->\n",
    "\n",
    "## References\n",
    "\n",
    "[1] [MPS file format](https://www.ibm.com/docs/en/icos/22.1.1?topic=cplex-mps-file-format-industry-standard)  \n",
    "[2] [MIPLIB 2017](https://miplib.zib.de/index.html)  "
   ]
  },
  {
   "cell_type": "markdown",
   "metadata": {},
   "source": []
  }
 ],
 "metadata": {
  "kernelspec": {
   "display_name": ".venv",
   "language": "python",
   "name": "python3"
  },
  "language_info": {
   "codemirror_mode": {
    "name": "ipython",
    "version": 3
   },
   "file_extension": ".py",
   "mimetype": "text/x-python",
   "name": "python",
   "nbconvert_exporter": "python",
   "pygments_lexer": "ipython3",
   "version": "3.9.5"
  },
  "vscode": {
   "interpreter": {
    "hash": "d8bb8d8f316256c93cd9d893faf7cf943ba8f6c0b9f3d1c8a75ecb1cf0541374"
   }
  }
 },
 "nbformat": 4,
 "nbformat_minor": 4
}
